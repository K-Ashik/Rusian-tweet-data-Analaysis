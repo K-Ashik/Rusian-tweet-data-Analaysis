{
 "cells": [
  {
   "cell_type": "code",
   "execution_count": null,
   "id": "e41ccfd5",
   "metadata": {},
   "outputs": [],
   "source": []
  },
  {
   "cell_type": "code",
   "execution_count": 1,
   "id": "1844c864",
   "metadata": {},
   "outputs": [],
   "source": [
    "import pandas as pd\n",
    "import numpy as np\n",
    "import seaborn as sns\n",
    "import matplotlib.pyplot as plt"
   ]
  },
  {
   "cell_type": "code",
   "execution_count": 2,
   "id": "3a877e65",
   "metadata": {},
   "outputs": [
    {
     "name": "stderr",
     "output_type": "stream",
     "text": [
      "/var/folders/3j/tlpxgbnn03s1zb0rcz4xx9j80000gn/T/ipykernel_2483/1407933103.py:1: DtypeWarning: Columns (0,2,4,6) have mixed types. Specify dtype option on import or set low_memory=False.\n",
      "  troll=pd.read_csv(r'/Users/rising.volkan007/Desktop/Russian tweets dataset/updated data/tweets_updated1.csv')\n"
     ]
    }
   ],
   "source": [
    "troll=pd.read_csv(r'/Users/rising.volkan007/Desktop/Russian tweets dataset/updated data/tweets_updated1.csv')"
   ]
  },
  {
   "cell_type": "code",
   "execution_count": 3,
   "id": "17fe23b3",
   "metadata": {},
   "outputs": [
    {
     "data": {
      "text/html": [
       "<div>\n",
       "<style scoped>\n",
       "    .dataframe tbody tr th:only-of-type {\n",
       "        vertical-align: middle;\n",
       "    }\n",
       "\n",
       "    .dataframe tbody tr th {\n",
       "        vertical-align: top;\n",
       "    }\n",
       "\n",
       "    .dataframe thead th {\n",
       "        text-align: right;\n",
       "    }\n",
       "</style>\n",
       "<table border=\"1\" class=\"dataframe\">\n",
       "  <thead>\n",
       "    <tr style=\"text-align: right;\">\n",
       "      <th></th>\n",
       "      <th>user_id</th>\n",
       "      <th>user_key</th>\n",
       "      <th>created_at</th>\n",
       "      <th>created_str</th>\n",
       "      <th>retweet_count</th>\n",
       "      <th>retweeted</th>\n",
       "      <th>favorite_count</th>\n",
       "      <th>text</th>\n",
       "      <th>tweet_id</th>\n",
       "      <th>source</th>\n",
       "      <th>hashtags</th>\n",
       "      <th>expanded_urls</th>\n",
       "      <th>posted</th>\n",
       "      <th>mentions</th>\n",
       "      <th>retweeted_status_id</th>\n",
       "      <th>in_reply_to_status_id</th>\n",
       "      <th>created_str_date</th>\n",
       "    </tr>\n",
       "  </thead>\n",
       "  <tbody>\n",
       "    <tr>\n",
       "      <th>0</th>\n",
       "      <td>1868981054.0</td>\n",
       "      <td>ryanmaxwell_1</td>\n",
       "      <td>1458671502000.0</td>\n",
       "      <td>2016-03-22 18:31:42</td>\n",
       "      <td>NaN</td>\n",
       "      <td>NaN</td>\n",
       "      <td>NaN</td>\n",
       "      <td>#IslamKills Are you trying to say that there w...</td>\n",
       "      <td>7.123460e+17</td>\n",
       "      <td>NaN</td>\n",
       "      <td>[\"IslamKills\"]</td>\n",
       "      <td>[]</td>\n",
       "      <td>POSTED</td>\n",
       "      <td>[]</td>\n",
       "      <td>NaN</td>\n",
       "      <td>NaN</td>\n",
       "      <td>2016-03-22</td>\n",
       "    </tr>\n",
       "    <tr>\n",
       "      <th>1</th>\n",
       "      <td>2571870453.0</td>\n",
       "      <td>detroitdailynew</td>\n",
       "      <td>1476133020000.0</td>\n",
       "      <td>2016-10-10 20:57:00</td>\n",
       "      <td>0.0</td>\n",
       "      <td>False</td>\n",
       "      <td>0.0</td>\n",
       "      <td>Clinton: Trump should’ve apologized more, atta...</td>\n",
       "      <td>7.855849e+17</td>\n",
       "      <td>&lt;a href=\"http://twitterfeed.com\" rel=\"nofollow...</td>\n",
       "      <td>[]</td>\n",
       "      <td>[\"http://detne.ws/2e172jF\"]</td>\n",
       "      <td>POSTED</td>\n",
       "      <td>[]</td>\n",
       "      <td>NaN</td>\n",
       "      <td>NaN</td>\n",
       "      <td>2016-10-10</td>\n",
       "    </tr>\n",
       "    <tr>\n",
       "      <th>2</th>\n",
       "      <td>1710804738.0</td>\n",
       "      <td>cookncooks</td>\n",
       "      <td>1487767423000.0</td>\n",
       "      <td>2017-02-22 12:43:43</td>\n",
       "      <td>NaN</td>\n",
       "      <td>NaN</td>\n",
       "      <td>NaN</td>\n",
       "      <td>RT @ltapoll: Who was/is the best president of ...</td>\n",
       "      <td>8.343832e+17</td>\n",
       "      <td>NaN</td>\n",
       "      <td>[]</td>\n",
       "      <td>[]</td>\n",
       "      <td>POSTED</td>\n",
       "      <td>[]</td>\n",
       "      <td>NaN</td>\n",
       "      <td>NaN</td>\n",
       "      <td>2017-02-22</td>\n",
       "    </tr>\n",
       "    <tr>\n",
       "      <th>3</th>\n",
       "      <td>2584152521.0</td>\n",
       "      <td>queenofthewo</td>\n",
       "      <td>1482764801000.0</td>\n",
       "      <td>2016-12-26 15:06:41</td>\n",
       "      <td>NaN</td>\n",
       "      <td>NaN</td>\n",
       "      <td>NaN</td>\n",
       "      <td>RT @jww372: I don't have to guess your religio...</td>\n",
       "      <td>8.134006e+17</td>\n",
       "      <td>NaN</td>\n",
       "      <td>[\"ChristmasAftermath\"]</td>\n",
       "      <td>[]</td>\n",
       "      <td>POSTED</td>\n",
       "      <td>[]</td>\n",
       "      <td>NaN</td>\n",
       "      <td>NaN</td>\n",
       "      <td>2016-12-26</td>\n",
       "    </tr>\n",
       "  </tbody>\n",
       "</table>\n",
       "</div>"
      ],
      "text/plain": [
       "        user_id         user_key       created_at          created_str  \\\n",
       "0  1868981054.0    ryanmaxwell_1  1458671502000.0  2016-03-22 18:31:42   \n",
       "1  2571870453.0  detroitdailynew  1476133020000.0  2016-10-10 20:57:00   \n",
       "2  1710804738.0       cookncooks  1487767423000.0  2017-02-22 12:43:43   \n",
       "3  2584152521.0     queenofthewo  1482764801000.0  2016-12-26 15:06:41   \n",
       "\n",
       "  retweet_count retweeted favorite_count  \\\n",
       "0           NaN       NaN            NaN   \n",
       "1           0.0     False            0.0   \n",
       "2           NaN       NaN            NaN   \n",
       "3           NaN       NaN            NaN   \n",
       "\n",
       "                                                text      tweet_id  \\\n",
       "0  #IslamKills Are you trying to say that there w...  7.123460e+17   \n",
       "1  Clinton: Trump should’ve apologized more, atta...  7.855849e+17   \n",
       "2  RT @ltapoll: Who was/is the best president of ...  8.343832e+17   \n",
       "3  RT @jww372: I don't have to guess your religio...  8.134006e+17   \n",
       "\n",
       "                                              source                hashtags  \\\n",
       "0                                                NaN          [\"IslamKills\"]   \n",
       "1  <a href=\"http://twitterfeed.com\" rel=\"nofollow...                      []   \n",
       "2                                                NaN                      []   \n",
       "3                                                NaN  [\"ChristmasAftermath\"]   \n",
       "\n",
       "                 expanded_urls  posted mentions  retweeted_status_id  \\\n",
       "0                           []  POSTED       []                  NaN   \n",
       "1  [\"http://detne.ws/2e172jF\"]  POSTED       []                  NaN   \n",
       "2                           []  POSTED       []                  NaN   \n",
       "3                           []  POSTED       []                  NaN   \n",
       "\n",
       "   in_reply_to_status_id created_str_date  \n",
       "0                    NaN       2016-03-22  \n",
       "1                    NaN       2016-10-10  \n",
       "2                    NaN       2017-02-22  \n",
       "3                    NaN       2016-12-26  "
      ]
     },
     "execution_count": 3,
     "metadata": {},
     "output_type": "execute_result"
    }
   ],
   "source": [
    "troll.head(4)"
   ]
  },
  {
   "cell_type": "code",
   "execution_count": 10,
   "id": "ea45417e",
   "metadata": {},
   "outputs": [
    {
     "data": {
      "text/plain": [
       "0     #IslamKills Are you trying to say that there w...\n",
       "1     Clinton: Trump should’ve apologized more, atta...\n",
       "2     RT @ltapoll: Who was/is the best president of ...\n",
       "3     RT @jww372: I don't have to guess your religio...\n",
       "4     RT @Shareblue: Pence and his lawyers decided w...\n",
       "5                                @ModicaGiunta me, too!\n",
       "6     RT @MDBlanchfield: You’ll never guess who twee...\n",
       "7     RT @100PercFEDUP: New post: WATCH: DIAMOND AND...\n",
       "8     RT @AriaWilsonGOP: 3 Women Face Charges After ...\n",
       "9     One of the ways to remind that #BlackLivesMatt...\n",
       "10    RT @ElPenguinito: #myfarewellwordswouldbe I've...\n",
       "11    RT @America_1st_: CW: \"The thing that impresse...\n",
       "12    RT @AIIAmericanGirI: 🇺🇸\\r\\nObama to add 450 Ir...\n",
       "13    Dave Chappelle: \"Black Lives Matter\" is the wo...\n",
       "14    RT @RadioACR: Chuck Todd vs Kellyanne Conway.....\n",
       "15    #My2017BiggestHope to reach this level of pett...\n",
       "16    The war is here! \\nThis gentleman made more se...\n",
       "17    RT @HipHopDX: .@Migos Scores FIRST #1 Hot 100 ...\n",
       "18    RT @LibertyBritt: He's the brilliant guy who s...\n",
       "19    RT @K1erry: The Marco Rubio knockdown of Eliza...\n",
       "20    Obama on Trump winning: 'Anything's possible' ...\n",
       "21    RT @bgg2wl: Walmart, Michelle Obama and The Ha...\n",
       "22                         it’s impossible! #TexasJihad\n",
       "23    RT @LibsNoFun: Who will wave the flag? #DayWit...\n",
       "24    Bewaffnete attackieren Bus mit koptischen Chri...\n",
       "25    The bright example of our failing education ht...\n",
       "26    @sendavidperdue How are they gonna protect us ...\n",
       "27    FC Barcelonas youth academy! La Masia doin wor...\n",
       "28    When I remember it's #Friyay https://t.co/yjBT...\n",
       "29    RT @Ladydiann2: Remove these Anti Americans fr...\n",
       "30    RT @BreitbartNews: This week's \"Sweden inciden...\n",
       "31    RT @alisajoy331: Prayer sent Never stop fighti...\n",
       "32    RT @RossMoorhouse: #ItsRiskyTo\\r\\nIgnore the s...\n",
       "33    RT @RedState: The KKK Says A&amp;E Producers T...\n",
       "34    RT @hldb73: Bryan or Ryan Adams  #whenthestars...\n",
       "35    RT @WorldTruthTV: #mutual #respect https://t.c...\n",
       "36    tired of kids how to get rid  #SearchesGoogleI...\n",
       "37    RT @crookedwren: \"Praise be to the Lord, the G...\n",
       "38         RT @deepscreenshots: https://t.co/1IuHuiAIJB\n",
       "39    Kareem Abdul Jabber #OneLetterOffSports @midni...\n",
       "40    #God can be realized through all paths. All #r...\n",
       "41    RT @RawStory: ‘Star Wars’ Han Solo movie to be...\n",
       "42    RT @KStreetHipster: Hamner-Brown is already on...\n",
       "43    RT @TrumpSuperPAC: Obama's a Muslim &amp; this...\n",
       "44    RT @schotziejlk: .@greta Who is your #SuperBow...\n",
       "45    RT @LefLaneLivin: @trueblackpower As Black Peo...\n",
       "46    RT @Ban_asslam: This is the woman who squashed...\n",
       "47    https://t.co/D0ACs3iGvV hah, not a scooter at ...\n",
       "48    RT @JoyAnnReid: Tried to tell the @amjoyshow s...\n",
       "49    RT @bob_owens: Looks like an attempt to gauge ...\n",
       "Name: text, dtype: object"
      ]
     },
     "execution_count": 10,
     "metadata": {},
     "output_type": "execute_result"
    }
   ],
   "source": [
    "troll['text'].head(50)"
   ]
  },
  {
   "cell_type": "code",
   "execution_count": 5,
   "id": "3250b5a4",
   "metadata": {},
   "outputs": [
    {
     "data": {
      "text/plain": [
       "'#IslamKills Are you trying to say that there were no terrorist attacks in Europe before refugees were let in?'"
      ]
     },
     "execution_count": 5,
     "metadata": {},
     "output_type": "execute_result"
    }
   ],
   "source": [
    "troll['text'][0]"
   ]
  },
  {
   "cell_type": "code",
   "execution_count": 6,
   "id": "1962371a",
   "metadata": {},
   "outputs": [
    {
     "data": {
      "text/plain": [
       "22"
      ]
     },
     "execution_count": 6,
     "metadata": {},
     "output_type": "execute_result"
    }
   ],
   "source": [
    "troll['text'].isnull().sum()"
   ]
  },
  {
   "cell_type": "code",
   "execution_count": 7,
   "id": "c49d4f25",
   "metadata": {},
   "outputs": [],
   "source": [
    "troll.dropna(subset=['text'],inplace=True)"
   ]
  },
  {
   "cell_type": "code",
   "execution_count": 8,
   "id": "a8abdcad",
   "metadata": {},
   "outputs": [
    {
     "data": {
      "text/plain": [
       "0"
      ]
     },
     "execution_count": 8,
     "metadata": {},
     "output_type": "execute_result"
    }
   ],
   "source": [
    "troll['text'].isnull().sum()"
   ]
  },
  {
   "cell_type": "code",
   "execution_count": 9,
   "id": "b5f8f9ff",
   "metadata": {},
   "outputs": [
    {
     "data": {
      "text/plain": [
       "\"RT @ElPenguinito: #myfarewellwordswouldbe I've buried my fortune in the park under a giant...\""
      ]
     },
     "execution_count": 9,
     "metadata": {},
     "output_type": "execute_result"
    }
   ],
   "source": [
    "troll['text'][10]"
   ]
  },
  {
   "cell_type": "code",
   "execution_count": null,
   "id": "b51c9718",
   "metadata": {},
   "outputs": [],
   "source": []
  },
  {
   "cell_type": "code",
   "execution_count": 11,
   "id": "b65a0d0b",
   "metadata": {},
   "outputs": [
    {
     "data": {
      "text/plain": [
       "0         False\n",
       "1         False\n",
       "2          True\n",
       "3          True\n",
       "4          True\n",
       "          ...  \n",
       "203484     True\n",
       "203485     True\n",
       "203486     True\n",
       "203487    False\n",
       "203488     True\n",
       "Name: text, Length: 203467, dtype: bool"
      ]
     },
     "execution_count": 11,
     "metadata": {},
     "output_type": "execute_result"
    }
   ],
   "source": [
    "troll['text'].str.contains('RT')"
   ]
  },
  {
   "cell_type": "code",
   "execution_count": 12,
   "id": "2cc76fa1",
   "metadata": {},
   "outputs": [
    {
     "data": {
      "text/plain": [
       "'RT @ltapoll: Who was/is the best president of the past 25 years? (Vote &amp; Retweet)'"
      ]
     },
     "execution_count": 12,
     "metadata": {},
     "output_type": "execute_result"
    }
   ],
   "source": [
    "troll['text'][2]"
   ]
  },
  {
   "cell_type": "code",
   "execution_count": 16,
   "id": "ce4f8e7d",
   "metadata": {},
   "outputs": [],
   "source": [
    "import re"
   ]
  },
  {
   "cell_type": "code",
   "execution_count": 22,
   "id": "b554a0ec",
   "metadata": {},
   "outputs": [],
   "source": [
    "text=re.sub('RT. *?:','',troll['text'][4])"
   ]
  },
  {
   "cell_type": "code",
   "execution_count": 23,
   "id": "c44010b3",
   "metadata": {},
   "outputs": [
    {
     "data": {
      "text/plain": [
       "'RT @Shareblue: Pence and his lawyers decided which of his official emails the public could see\\r\\n\\r\\nhttps://t.co/HjhPguBK1Y by @alisonrose711'"
      ]
     },
     "execution_count": 23,
     "metadata": {},
     "output_type": "execute_result"
    }
   ],
   "source": [
    "text"
   ]
  },
  {
   "cell_type": "code",
   "execution_count": 25,
   "id": "1daa08d9",
   "metadata": {},
   "outputs": [],
   "source": [
    "obj=re.match('.*',text)"
   ]
  },
  {
   "cell_type": "code",
   "execution_count": 26,
   "id": "9ca6e657",
   "metadata": {},
   "outputs": [
    {
     "data": {
      "text/plain": [
       "<re.Match object; span=(0, 95), match='RT @Shareblue: Pence and his lawyers decided whic>"
      ]
     },
     "execution_count": 26,
     "metadata": {},
     "output_type": "execute_result"
    }
   ],
   "source": [
    "obj"
   ]
  },
  {
   "cell_type": "code",
   "execution_count": 27,
   "id": "4f51411e",
   "metadata": {},
   "outputs": [
    {
     "data": {
      "text/plain": [
       "'RT @Shareblue: Pence and his lawyers decided which of his official emails the public could see'"
      ]
     },
     "execution_count": 27,
     "metadata": {},
     "output_type": "execute_result"
    }
   ],
   "source": [
    "obj.group().strip()"
   ]
  },
  {
   "cell_type": "code",
   "execution_count": null,
   "id": "5f7890da",
   "metadata": {},
   "outputs": [],
   "source": []
  },
  {
   "cell_type": "code",
   "execution_count": null,
   "id": "ea455414",
   "metadata": {},
   "outputs": [],
   "source": []
  },
  {
   "cell_type": "code",
   "execution_count": 31,
   "id": "defe90a2",
   "metadata": {},
   "outputs": [],
   "source": [
    "def remove_retweet(tweet):\n",
    "    text=re.sub('RT.*?:','',tweet)\n",
    "    obj=re.match('.*',text)\n",
    "    return obj.group().strip()"
   ]
  },
  {
   "cell_type": "code",
   "execution_count": 32,
   "id": "784f7c32",
   "metadata": {},
   "outputs": [
    {
     "data": {
      "text/plain": [
       "'Pence and his lawyers decided which of his official emails the public could see'"
      ]
     },
     "execution_count": 32,
     "metadata": {},
     "output_type": "execute_result"
    }
   ],
   "source": [
    "remove_retweet(troll['text'][4])"
   ]
  },
  {
   "cell_type": "code",
   "execution_count": null,
   "id": "b8ad5f85",
   "metadata": {},
   "outputs": [],
   "source": []
  },
  {
   "cell_type": "code",
   "execution_count": 33,
   "id": "7d1ab0d7",
   "metadata": {},
   "outputs": [],
   "source": [
    "text_only=troll['text'].apply(remove_retweet)"
   ]
  },
  {
   "cell_type": "code",
   "execution_count": 34,
   "id": "d34da665",
   "metadata": {},
   "outputs": [
    {
     "data": {
      "text/plain": [
       "0         #IslamKills Are you trying to say that there w...\n",
       "1         Clinton: Trump should’ve apologized more, atta...\n",
       "2         Who was/is the best president of the past 25 y...\n",
       "3         I don't have to guess your religion! #Christma...\n",
       "4         Pence and his lawyers decided which of his off...\n",
       "                                ...                        \n",
       "203484    In intel circles, the story goes FSB filmed Tr...\n",
       "203485    Tonganoxie police: Middle school girl sexually...\n",
       "203486    Getting the right #company logo: How #business...\n",
       "203487    The Latest: Obama affirms continuity of ties w...\n",
       "203488    U cant just Upload a CD online &amp; thats it....\n",
       "Name: text, Length: 203467, dtype: object"
      ]
     },
     "execution_count": 34,
     "metadata": {},
     "output_type": "execute_result"
    }
   ],
   "source": [
    "text_only"
   ]
  },
  {
   "cell_type": "code",
   "execution_count": 35,
   "id": "6bd3389b",
   "metadata": {},
   "outputs": [
    {
     "data": {
      "text/plain": [
       "1         Clinton: Trump should’ve apologized more, atta...\n",
       "6         You’ll never guess who tweeted something false...\n",
       "7         New post: WATCH: DIAMOND AND SILK Rip On John ...\n",
       "8         3 Women Face Charges After Being Caught Steali...\n",
       "13        Dave Chappelle: \"Black Lives Matter\" is the wo...\n",
       "                                ...                        \n",
       "203480    Theresa A. Dear's \"Let's Get to Work\" @WVON169...\n",
       "203481    This 22-year-old got out of an awkward convo w...\n",
       "203482    #tcot #news #variety New Facebook tool allows ...\n",
       "203486    Getting the right #company logo: How #business...\n",
       "203487    The Latest: Obama affirms continuity of ties w...\n",
       "Name: text, Length: 95391, dtype: object"
      ]
     },
     "execution_count": 35,
     "metadata": {},
     "output_type": "execute_result"
    }
   ],
   "source": [
    "text_only[text_only.str.contains('http')]"
   ]
  },
  {
   "cell_type": "code",
   "execution_count": 36,
   "id": "aed287d1",
   "metadata": {},
   "outputs": [
    {
     "data": {
      "text/plain": [
       "Series([], Name: text, dtype: object)"
      ]
     },
     "execution_count": 36,
     "metadata": {},
     "output_type": "execute_result"
    }
   ],
   "source": [
    "text_only[text_only.str.contains('<a')]"
   ]
  },
  {
   "cell_type": "code",
   "execution_count": 37,
   "id": "2609fe1d",
   "metadata": {},
   "outputs": [
    {
     "data": {
      "text/plain": [
       "'Clinton: Trump should’ve apologized more, attacked less https://t.co/eJampkoHFZ'"
      ]
     },
     "execution_count": 37,
     "metadata": {},
     "output_type": "execute_result"
    }
   ],
   "source": [
    "text_only[1]"
   ]
  },
  {
   "cell_type": "code",
   "execution_count": 38,
   "id": "3748d0c6",
   "metadata": {},
   "outputs": [
    {
     "data": {
      "text/plain": [
       "'Clinton: Trump should’ve apologized more, attacked less '"
      ]
     },
     "execution_count": 38,
     "metadata": {},
     "output_type": "execute_result"
    }
   ],
   "source": [
    "re.sub('http.?:.*','',text_only[1])"
   ]
  },
  {
   "cell_type": "code",
   "execution_count": null,
   "id": "675e426b",
   "metadata": {},
   "outputs": [],
   "source": []
  },
  {
   "cell_type": "code",
   "execution_count": 39,
   "id": "5b330768",
   "metadata": {},
   "outputs": [],
   "source": [
    "def remove_links(tweet):\n",
    "    return re.sub('http.?:.*','',tweet)"
   ]
  },
  {
   "cell_type": "code",
   "execution_count": 40,
   "id": "dabdc2ce",
   "metadata": {},
   "outputs": [],
   "source": [
    "text_no_links=text_only.apply(remove_links)"
   ]
  },
  {
   "cell_type": "code",
   "execution_count": 41,
   "id": "c6be31c2",
   "metadata": {},
   "outputs": [
    {
     "data": {
      "text/plain": [
       "0         #IslamKills Are you trying to say that there w...\n",
       "1         Clinton: Trump should’ve apologized more, atta...\n",
       "2         Who was/is the best president of the past 25 y...\n",
       "3         I don't have to guess your religion! #Christma...\n",
       "4         Pence and his lawyers decided which of his off...\n",
       "                                ...                        \n",
       "203484    In intel circles, the story goes FSB filmed Tr...\n",
       "203485    Tonganoxie police: Middle school girl sexually...\n",
       "203486    Getting the right #company logo: How #business...\n",
       "203487    The Latest: Obama affirms continuity of ties w...\n",
       "203488    U cant just Upload a CD online &amp; thats it....\n",
       "Name: text, Length: 203467, dtype: object"
      ]
     },
     "execution_count": 41,
     "metadata": {},
     "output_type": "execute_result"
    }
   ],
   "source": [
    "text_no_links"
   ]
  },
  {
   "cell_type": "code",
   "execution_count": null,
   "id": "068f68eb",
   "metadata": {},
   "outputs": [],
   "source": []
  },
  {
   "cell_type": "code",
   "execution_count": 42,
   "id": "87644ac6",
   "metadata": {},
   "outputs": [
    {
     "data": {
      "text/plain": [
       "91        Yes. Otherwise what they say with regards to #...\n",
       "94        Hey @HillaryClinton this message is for you. P...\n",
       "191       Listen idiot, I'm an opinion writer. Opinions ...\n",
       "639       DNC leaked emails show Hillary Camp's plans to...\n",
       "656       Comey should be impeached or forced to resign....\n",
       "                                ...                        \n",
       "203262    This sleaze from Obama is right up his alley. ...\n",
       "203274    Woah. Biggest news of all tonight = Bank of Ja...\n",
       "203325    #Hillary #RICO #Pedophilia #NYPD case can bypa...\n",
       "203370    Obama’s pattern of malfeasance is clear. He is...\n",
       "203383    Regime which beheads 47 people in one day rema...\n",
       "Name: text, Length: 1839, dtype: object"
      ]
     },
     "execution_count": 42,
     "metadata": {},
     "output_type": "execute_result"
    }
   ],
   "source": [
    "text_no_links[text_no_links.str.contains('http')]"
   ]
  },
  {
   "cell_type": "code",
   "execution_count": null,
   "id": "c0a4978c",
   "metadata": {},
   "outputs": [],
   "source": []
  },
  {
   "cell_type": "code",
   "execution_count": 43,
   "id": "9ad77903",
   "metadata": {},
   "outputs": [
    {
     "data": {
      "text/plain": [
       "'Hey @HillaryClinton this message is for you. Pack it up &amp; go home Hillary,America is done with you. TRUMP is our man http…'"
      ]
     },
     "execution_count": 43,
     "metadata": {},
     "output_type": "execute_result"
    }
   ],
   "source": [
    "text_no_links[94]"
   ]
  },
  {
   "cell_type": "code",
   "execution_count": null,
   "id": "22ae650d",
   "metadata": {},
   "outputs": [],
   "source": []
  },
  {
   "cell_type": "code",
   "execution_count": 45,
   "id": "9fd0a11d",
   "metadata": {},
   "outputs": [
    {
     "data": {
      "text/plain": [
       "0         #IslamKills Are you trying to say that there w...\n",
       "3         I don't have to guess your religion! #Christma...\n",
       "9         One of the ways to remind that #BlackLivesMatt...\n",
       "10        #myfarewellwordswouldbe I've buried my fortune...\n",
       "15        #My2017BiggestHope to reach this level of pett...\n",
       "                                ...                        \n",
       "203475    Fentanyl filled Trump supporters #MustBeBanned...\n",
       "203480    Theresa A. Dear's \"Let's Get to Work\" @WVON169...\n",
       "203482    #tcot #news #variety New Facebook tool allows ...\n",
       "203485    Tonganoxie police: Middle school girl sexually...\n",
       "203486    Getting the right #company logo: How #business...\n",
       "Name: text, Length: 83172, dtype: object"
      ]
     },
     "execution_count": 45,
     "metadata": {},
     "output_type": "execute_result"
    }
   ],
   "source": [
    "text_no_links[text_no_links.str.contains('#')]"
   ]
  },
  {
   "cell_type": "code",
   "execution_count": 46,
   "id": "b95b6e27",
   "metadata": {},
   "outputs": [
    {
     "data": {
      "text/plain": [
       "\"#myfarewellwordswouldbe I've buried my fortune in the park under a giant...\""
      ]
     },
     "execution_count": 46,
     "metadata": {},
     "output_type": "execute_result"
    }
   ],
   "source": [
    "text_no_links[10]"
   ]
  },
  {
   "cell_type": "code",
   "execution_count": 47,
   "id": "1815b5ab",
   "metadata": {},
   "outputs": [
    {
     "data": {
      "text/plain": [
       "\" I've buried my fortune in the park under a giant...\""
      ]
     },
     "execution_count": 47,
     "metadata": {},
     "output_type": "execute_result"
    }
   ],
   "source": [
    "re.sub('#\\S+','',text_no_links[10])"
   ]
  },
  {
   "cell_type": "code",
   "execution_count": null,
   "id": "a66374f9",
   "metadata": {},
   "outputs": [],
   "source": []
  },
  {
   "cell_type": "code",
   "execution_count": 48,
   "id": "f01905aa",
   "metadata": {},
   "outputs": [],
   "source": [
    "def remove_hashtag(tweet):\n",
    "    return re.sub('#\\S+','',tweet)"
   ]
  },
  {
   "cell_type": "code",
   "execution_count": 49,
   "id": "a5688dbb",
   "metadata": {},
   "outputs": [],
   "source": [
    "text_no_hashtag=text_no_links.map(remove_hashtag)"
   ]
  },
  {
   "cell_type": "code",
   "execution_count": 50,
   "id": "45b10872",
   "metadata": {},
   "outputs": [
    {
     "data": {
      "text/plain": [
       "0          Are you trying to say that there were no terr...\n",
       "1         Clinton: Trump should’ve apologized more, atta...\n",
       "2         Who was/is the best president of the past 25 y...\n",
       "3                     I don't have to guess your religion! \n",
       "4         Pence and his lawyers decided which of his off...\n",
       "                                ...                        \n",
       "203484    In intel circles, the story goes FSB filmed Tr...\n",
       "203485    Tonganoxie police: Middle school girl sexually...\n",
       "203486    Getting the right  logo: How  got their messag...\n",
       "203487    The Latest: Obama affirms continuity of ties w...\n",
       "203488    U cant just Upload a CD online &amp; thats it....\n",
       "Name: text, Length: 203467, dtype: object"
      ]
     },
     "execution_count": 50,
     "metadata": {},
     "output_type": "execute_result"
    }
   ],
   "source": [
    "text_no_hashtag"
   ]
  },
  {
   "cell_type": "code",
   "execution_count": null,
   "id": "422a90cc",
   "metadata": {},
   "outputs": [],
   "source": []
  },
  {
   "cell_type": "code",
   "execution_count": 52,
   "id": "5bda6328",
   "metadata": {},
   "outputs": [
    {
     "data": {
      "text/plain": [
       "'# WHAT KINDA SHIT IS THIS ? WHERE IS HER MAMA ? JOE BIDEN MUST BE CLOSE AROUND HE IS ALWAYS HORNY FOR  13 YR OLD GI…'"
      ]
     },
     "execution_count": 52,
     "metadata": {},
     "output_type": "execute_result"
    }
   ],
   "source": [
    "text_no_hashtag[text_no_hashtag.str.contains('#')][6763]"
   ]
  },
  {
   "cell_type": "code",
   "execution_count": null,
   "id": "de77d92b",
   "metadata": {},
   "outputs": [],
   "source": []
  },
  {
   "cell_type": "code",
   "execution_count": 53,
   "id": "b1e76939",
   "metadata": {},
   "outputs": [
    {
     "data": {
      "text/plain": [
       "0         False\n",
       "1         False\n",
       "2         False\n",
       "3         False\n",
       "4         False\n",
       "          ...  \n",
       "203484    False\n",
       "203485    False\n",
       "203486     True\n",
       "203487    False\n",
       "203488    False\n",
       "Name: text, Length: 203467, dtype: bool"
      ]
     },
     "execution_count": 53,
     "metadata": {},
     "output_type": "execute_result"
    }
   ],
   "source": [
    "text_no_hashtag.str.contains('@')"
   ]
  },
  {
   "cell_type": "code",
   "execution_count": 55,
   "id": "94e7dcb6",
   "metadata": {},
   "outputs": [
    {
     "data": {
      "text/plain": [
       "'Getting the right  logo: How  got their message across @smallbusinessuk '"
      ]
     },
     "execution_count": 55,
     "metadata": {},
     "output_type": "execute_result"
    }
   ],
   "source": [
    "text_no_hashtag[203486]"
   ]
  },
  {
   "cell_type": "code",
   "execution_count": 56,
   "id": "2a119e6a",
   "metadata": {},
   "outputs": [
    {
     "data": {
      "text/plain": [
       "'Getting the right  logo: How  got their message across  '"
      ]
     },
     "execution_count": 56,
     "metadata": {},
     "output_type": "execute_result"
    }
   ],
   "source": [
    "re.sub('@\\S+','',text_no_hashtag[203486])"
   ]
  },
  {
   "cell_type": "code",
   "execution_count": null,
   "id": "b727be05",
   "metadata": {},
   "outputs": [],
   "source": []
  },
  {
   "cell_type": "code",
   "execution_count": 57,
   "id": "fa78f119",
   "metadata": {},
   "outputs": [],
   "source": [
    "def remove_mentions(tweet):\n",
    "    return re.sub('@\\S+','', tweet)"
   ]
  },
  {
   "cell_type": "code",
   "execution_count": 59,
   "id": "94b9b9af",
   "metadata": {},
   "outputs": [],
   "source": [
    "troll['tweet_text_only']=text_no_hashtag.map(remove_mentions)"
   ]
  },
  {
   "cell_type": "code",
   "execution_count": 60,
   "id": "1b1ccad8",
   "metadata": {},
   "outputs": [
    {
     "data": {
      "text/plain": [
       "0          Are you trying to say that there were no terr...\n",
       "1         Clinton: Trump should’ve apologized more, atta...\n",
       "2         Who was/is the best president of the past 25 y...\n",
       "3                     I don't have to guess your religion! \n",
       "4         Pence and his lawyers decided which of his off...\n",
       "                                ...                        \n",
       "203484    In intel circles, the story goes FSB filmed Tr...\n",
       "203485    Tonganoxie police: Middle school girl sexually...\n",
       "203486    Getting the right  logo: How  got their messag...\n",
       "203487    The Latest: Obama affirms continuity of ties w...\n",
       "203488    U cant just Upload a CD online &amp; thats it....\n",
       "Name: tweet_text_only, Length: 203467, dtype: object"
      ]
     },
     "execution_count": 60,
     "metadata": {},
     "output_type": "execute_result"
    }
   ],
   "source": [
    "troll['tweet_text_only']"
   ]
  },
  {
   "cell_type": "code",
   "execution_count": 61,
   "id": "0a30f1bb",
   "metadata": {},
   "outputs": [
    {
     "data": {
      "text/html": [
       "<div>\n",
       "<style scoped>\n",
       "    .dataframe tbody tr th:only-of-type {\n",
       "        vertical-align: middle;\n",
       "    }\n",
       "\n",
       "    .dataframe tbody tr th {\n",
       "        vertical-align: top;\n",
       "    }\n",
       "\n",
       "    .dataframe thead th {\n",
       "        text-align: right;\n",
       "    }\n",
       "</style>\n",
       "<table border=\"1\" class=\"dataframe\">\n",
       "  <thead>\n",
       "    <tr style=\"text-align: right;\">\n",
       "      <th></th>\n",
       "      <th>user_id</th>\n",
       "      <th>user_key</th>\n",
       "      <th>created_at</th>\n",
       "      <th>created_str</th>\n",
       "      <th>retweet_count</th>\n",
       "      <th>retweeted</th>\n",
       "      <th>favorite_count</th>\n",
       "      <th>text</th>\n",
       "      <th>tweet_id</th>\n",
       "      <th>source</th>\n",
       "      <th>hashtags</th>\n",
       "      <th>expanded_urls</th>\n",
       "      <th>posted</th>\n",
       "      <th>mentions</th>\n",
       "      <th>retweeted_status_id</th>\n",
       "      <th>in_reply_to_status_id</th>\n",
       "      <th>created_str_date</th>\n",
       "      <th>tweet_text_only</th>\n",
       "    </tr>\n",
       "  </thead>\n",
       "  <tbody>\n",
       "    <tr>\n",
       "      <th>0</th>\n",
       "      <td>1868981054.0</td>\n",
       "      <td>ryanmaxwell_1</td>\n",
       "      <td>1458671502000.0</td>\n",
       "      <td>2016-03-22 18:31:42</td>\n",
       "      <td>NaN</td>\n",
       "      <td>NaN</td>\n",
       "      <td>NaN</td>\n",
       "      <td>#IslamKills Are you trying to say that there w...</td>\n",
       "      <td>7.123460e+17</td>\n",
       "      <td>NaN</td>\n",
       "      <td>[\"IslamKills\"]</td>\n",
       "      <td>[]</td>\n",
       "      <td>POSTED</td>\n",
       "      <td>[]</td>\n",
       "      <td>NaN</td>\n",
       "      <td>NaN</td>\n",
       "      <td>2016-03-22</td>\n",
       "      <td>Are you trying to say that there were no terr...</td>\n",
       "    </tr>\n",
       "    <tr>\n",
       "      <th>1</th>\n",
       "      <td>2571870453.0</td>\n",
       "      <td>detroitdailynew</td>\n",
       "      <td>1476133020000.0</td>\n",
       "      <td>2016-10-10 20:57:00</td>\n",
       "      <td>0.0</td>\n",
       "      <td>False</td>\n",
       "      <td>0.0</td>\n",
       "      <td>Clinton: Trump should’ve apologized more, atta...</td>\n",
       "      <td>7.855849e+17</td>\n",
       "      <td>&lt;a href=\"http://twitterfeed.com\" rel=\"nofollow...</td>\n",
       "      <td>[]</td>\n",
       "      <td>[\"http://detne.ws/2e172jF\"]</td>\n",
       "      <td>POSTED</td>\n",
       "      <td>[]</td>\n",
       "      <td>NaN</td>\n",
       "      <td>NaN</td>\n",
       "      <td>2016-10-10</td>\n",
       "      <td>Clinton: Trump should’ve apologized more, atta...</td>\n",
       "    </tr>\n",
       "    <tr>\n",
       "      <th>2</th>\n",
       "      <td>1710804738.0</td>\n",
       "      <td>cookncooks</td>\n",
       "      <td>1487767423000.0</td>\n",
       "      <td>2017-02-22 12:43:43</td>\n",
       "      <td>NaN</td>\n",
       "      <td>NaN</td>\n",
       "      <td>NaN</td>\n",
       "      <td>RT @ltapoll: Who was/is the best president of ...</td>\n",
       "      <td>8.343832e+17</td>\n",
       "      <td>NaN</td>\n",
       "      <td>[]</td>\n",
       "      <td>[]</td>\n",
       "      <td>POSTED</td>\n",
       "      <td>[]</td>\n",
       "      <td>NaN</td>\n",
       "      <td>NaN</td>\n",
       "      <td>2017-02-22</td>\n",
       "      <td>Who was/is the best president of the past 25 y...</td>\n",
       "    </tr>\n",
       "    <tr>\n",
       "      <th>3</th>\n",
       "      <td>2584152521.0</td>\n",
       "      <td>queenofthewo</td>\n",
       "      <td>1482764801000.0</td>\n",
       "      <td>2016-12-26 15:06:41</td>\n",
       "      <td>NaN</td>\n",
       "      <td>NaN</td>\n",
       "      <td>NaN</td>\n",
       "      <td>RT @jww372: I don't have to guess your religio...</td>\n",
       "      <td>8.134006e+17</td>\n",
       "      <td>NaN</td>\n",
       "      <td>[\"ChristmasAftermath\"]</td>\n",
       "      <td>[]</td>\n",
       "      <td>POSTED</td>\n",
       "      <td>[]</td>\n",
       "      <td>NaN</td>\n",
       "      <td>NaN</td>\n",
       "      <td>2016-12-26</td>\n",
       "      <td>I don't have to guess your religion!</td>\n",
       "    </tr>\n",
       "  </tbody>\n",
       "</table>\n",
       "</div>"
      ],
      "text/plain": [
       "        user_id         user_key       created_at          created_str  \\\n",
       "0  1868981054.0    ryanmaxwell_1  1458671502000.0  2016-03-22 18:31:42   \n",
       "1  2571870453.0  detroitdailynew  1476133020000.0  2016-10-10 20:57:00   \n",
       "2  1710804738.0       cookncooks  1487767423000.0  2017-02-22 12:43:43   \n",
       "3  2584152521.0     queenofthewo  1482764801000.0  2016-12-26 15:06:41   \n",
       "\n",
       "  retweet_count retweeted favorite_count  \\\n",
       "0           NaN       NaN            NaN   \n",
       "1           0.0     False            0.0   \n",
       "2           NaN       NaN            NaN   \n",
       "3           NaN       NaN            NaN   \n",
       "\n",
       "                                                text      tweet_id  \\\n",
       "0  #IslamKills Are you trying to say that there w...  7.123460e+17   \n",
       "1  Clinton: Trump should’ve apologized more, atta...  7.855849e+17   \n",
       "2  RT @ltapoll: Who was/is the best president of ...  8.343832e+17   \n",
       "3  RT @jww372: I don't have to guess your religio...  8.134006e+17   \n",
       "\n",
       "                                              source                hashtags  \\\n",
       "0                                                NaN          [\"IslamKills\"]   \n",
       "1  <a href=\"http://twitterfeed.com\" rel=\"nofollow...                      []   \n",
       "2                                                NaN                      []   \n",
       "3                                                NaN  [\"ChristmasAftermath\"]   \n",
       "\n",
       "                 expanded_urls  posted mentions  retweeted_status_id  \\\n",
       "0                           []  POSTED       []                  NaN   \n",
       "1  [\"http://detne.ws/2e172jF\"]  POSTED       []                  NaN   \n",
       "2                           []  POSTED       []                  NaN   \n",
       "3                           []  POSTED       []                  NaN   \n",
       "\n",
       "   in_reply_to_status_id created_str_date  \\\n",
       "0                    NaN       2016-03-22   \n",
       "1                    NaN       2016-10-10   \n",
       "2                    NaN       2017-02-22   \n",
       "3                    NaN       2016-12-26   \n",
       "\n",
       "                                     tweet_text_only  \n",
       "0   Are you trying to say that there were no terr...  \n",
       "1  Clinton: Trump should’ve apologized more, atta...  \n",
       "2  Who was/is the best president of the past 25 y...  \n",
       "3              I don't have to guess your religion!   "
      ]
     },
     "execution_count": 61,
     "metadata": {},
     "output_type": "execute_result"
    }
   ],
   "source": [
    "troll.head(4)"
   ]
  },
  {
   "cell_type": "code",
   "execution_count": null,
   "id": "77fbe023",
   "metadata": {},
   "outputs": [],
   "source": []
  },
  {
   "cell_type": "code",
   "execution_count": 78,
   "id": "a42dce6b",
   "metadata": {},
   "outputs": [
    {
     "data": {
      "text/plain": [
       "0         False\n",
       "1         False\n",
       "2          True\n",
       "3          True\n",
       "4          True\n",
       "          ...  \n",
       "203484     True\n",
       "203485     True\n",
       "203486     True\n",
       "203487    False\n",
       "203488     True\n",
       "Name: text, Length: 203467, dtype: bool"
      ]
     },
     "execution_count": 78,
     "metadata": {},
     "output_type": "execute_result"
    }
   ],
   "source": [
    "troll['text'].str.contains('@')"
   ]
  },
  {
   "cell_type": "code",
   "execution_count": 79,
   "id": "1a33e506",
   "metadata": {},
   "outputs": [
    {
     "data": {
      "text/plain": [
       "'RT @ltapoll: Who was/is the best president of the past 25 years? (Vote &amp; Retweet)'"
      ]
     },
     "execution_count": 79,
     "metadata": {},
     "output_type": "execute_result"
    }
   ],
   "source": [
    "troll['text'][2]"
   ]
  },
  {
   "cell_type": "code",
   "execution_count": 80,
   "id": "e5f515fd",
   "metadata": {},
   "outputs": [
    {
     "data": {
      "text/plain": [
       "['@ltapoll:']"
      ]
     },
     "execution_count": 80,
     "metadata": {},
     "output_type": "execute_result"
    }
   ],
   "source": [
    "re.findall('@\\S+',troll['text'][2])"
   ]
  },
  {
   "cell_type": "code",
   "execution_count": null,
   "id": "d57aab69",
   "metadata": {},
   "outputs": [],
   "source": []
  },
  {
   "cell_type": "code",
   "execution_count": 105,
   "id": "979b039a",
   "metadata": {},
   "outputs": [],
   "source": [
    "def extract_user_mentions(tweet):\n",
    "    '''Provide a tweet and extract user mentions from it'''\n",
    "    user_mentions_only = []\n",
    "    if len(re.findall('@\\S+',tweet)) > 0:\n",
    "        user_mentions_only.append(re.findall('@\\S+',tweet))\n",
    "    else:\n",
    "        user_mentions_only.append([\"0\"])\n",
    "    return user_mentions_only[0]\n"
   ]
  },
  {
   "cell_type": "code",
   "execution_count": 106,
   "id": "c28303d3",
   "metadata": {},
   "outputs": [
    {
     "data": {
      "text/plain": [
       "['@ltapoll:']"
      ]
     },
     "execution_count": 106,
     "metadata": {},
     "output_type": "execute_result"
    }
   ],
   "source": [
    "extract_user_mentions(troll['text'][2])"
   ]
  },
  {
   "cell_type": "code",
   "execution_count": 107,
   "id": "92c2712f",
   "metadata": {},
   "outputs": [],
   "source": [
    "troll['user_mentions'] = troll['text'].apply(extract_user_mentions)"
   ]
  },
  {
   "cell_type": "code",
   "execution_count": 109,
   "id": "e4709957",
   "metadata": {},
   "outputs": [
    {
     "data": {
      "text/html": [
       "<div>\n",
       "<style scoped>\n",
       "    .dataframe tbody tr th:only-of-type {\n",
       "        vertical-align: middle;\n",
       "    }\n",
       "\n",
       "    .dataframe tbody tr th {\n",
       "        vertical-align: top;\n",
       "    }\n",
       "\n",
       "    .dataframe thead th {\n",
       "        text-align: right;\n",
       "    }\n",
       "</style>\n",
       "<table border=\"1\" class=\"dataframe\">\n",
       "  <thead>\n",
       "    <tr style=\"text-align: right;\">\n",
       "      <th></th>\n",
       "      <th>user_id</th>\n",
       "      <th>user_key</th>\n",
       "      <th>created_at</th>\n",
       "      <th>created_str</th>\n",
       "      <th>retweet_count</th>\n",
       "      <th>retweeted</th>\n",
       "      <th>favorite_count</th>\n",
       "      <th>text</th>\n",
       "      <th>tweet_id</th>\n",
       "      <th>source</th>\n",
       "      <th>hashtags</th>\n",
       "      <th>expanded_urls</th>\n",
       "      <th>posted</th>\n",
       "      <th>mentions</th>\n",
       "      <th>retweeted_status_id</th>\n",
       "      <th>in_reply_to_status_id</th>\n",
       "      <th>created_str_date</th>\n",
       "      <th>tweet_text_only</th>\n",
       "      <th>user_mentions</th>\n",
       "    </tr>\n",
       "  </thead>\n",
       "  <tbody>\n",
       "    <tr>\n",
       "      <th>0</th>\n",
       "      <td>1868981054.0</td>\n",
       "      <td>ryanmaxwell_1</td>\n",
       "      <td>1458671502000.0</td>\n",
       "      <td>2016-03-22 18:31:42</td>\n",
       "      <td>NaN</td>\n",
       "      <td>NaN</td>\n",
       "      <td>NaN</td>\n",
       "      <td>#IslamKills Are you trying to say that there w...</td>\n",
       "      <td>7.123460e+17</td>\n",
       "      <td>NaN</td>\n",
       "      <td>[\"IslamKills\"]</td>\n",
       "      <td>[]</td>\n",
       "      <td>POSTED</td>\n",
       "      <td>[]</td>\n",
       "      <td>NaN</td>\n",
       "      <td>NaN</td>\n",
       "      <td>2016-03-22</td>\n",
       "      <td>Are you trying to say that there were no terr...</td>\n",
       "      <td>[0]</td>\n",
       "    </tr>\n",
       "    <tr>\n",
       "      <th>1</th>\n",
       "      <td>2571870453.0</td>\n",
       "      <td>detroitdailynew</td>\n",
       "      <td>1476133020000.0</td>\n",
       "      <td>2016-10-10 20:57:00</td>\n",
       "      <td>0.0</td>\n",
       "      <td>False</td>\n",
       "      <td>0.0</td>\n",
       "      <td>Clinton: Trump should’ve apologized more, atta...</td>\n",
       "      <td>7.855849e+17</td>\n",
       "      <td>&lt;a href=\"http://twitterfeed.com\" rel=\"nofollow...</td>\n",
       "      <td>[]</td>\n",
       "      <td>[\"http://detne.ws/2e172jF\"]</td>\n",
       "      <td>POSTED</td>\n",
       "      <td>[]</td>\n",
       "      <td>NaN</td>\n",
       "      <td>NaN</td>\n",
       "      <td>2016-10-10</td>\n",
       "      <td>Clinton: Trump should’ve apologized more, atta...</td>\n",
       "      <td>[0]</td>\n",
       "    </tr>\n",
       "    <tr>\n",
       "      <th>2</th>\n",
       "      <td>1710804738.0</td>\n",
       "      <td>cookncooks</td>\n",
       "      <td>1487767423000.0</td>\n",
       "      <td>2017-02-22 12:43:43</td>\n",
       "      <td>NaN</td>\n",
       "      <td>NaN</td>\n",
       "      <td>NaN</td>\n",
       "      <td>RT @ltapoll: Who was/is the best president of ...</td>\n",
       "      <td>8.343832e+17</td>\n",
       "      <td>NaN</td>\n",
       "      <td>[]</td>\n",
       "      <td>[]</td>\n",
       "      <td>POSTED</td>\n",
       "      <td>[]</td>\n",
       "      <td>NaN</td>\n",
       "      <td>NaN</td>\n",
       "      <td>2017-02-22</td>\n",
       "      <td>Who was/is the best president of the past 25 y...</td>\n",
       "      <td>[@ltapoll:]</td>\n",
       "    </tr>\n",
       "    <tr>\n",
       "      <th>3</th>\n",
       "      <td>2584152521.0</td>\n",
       "      <td>queenofthewo</td>\n",
       "      <td>1482764801000.0</td>\n",
       "      <td>2016-12-26 15:06:41</td>\n",
       "      <td>NaN</td>\n",
       "      <td>NaN</td>\n",
       "      <td>NaN</td>\n",
       "      <td>RT @jww372: I don't have to guess your religio...</td>\n",
       "      <td>8.134006e+17</td>\n",
       "      <td>NaN</td>\n",
       "      <td>[\"ChristmasAftermath\"]</td>\n",
       "      <td>[]</td>\n",
       "      <td>POSTED</td>\n",
       "      <td>[]</td>\n",
       "      <td>NaN</td>\n",
       "      <td>NaN</td>\n",
       "      <td>2016-12-26</td>\n",
       "      <td>I don't have to guess your religion!</td>\n",
       "      <td>[@jww372:]</td>\n",
       "    </tr>\n",
       "  </tbody>\n",
       "</table>\n",
       "</div>"
      ],
      "text/plain": [
       "        user_id         user_key       created_at          created_str  \\\n",
       "0  1868981054.0    ryanmaxwell_1  1458671502000.0  2016-03-22 18:31:42   \n",
       "1  2571870453.0  detroitdailynew  1476133020000.0  2016-10-10 20:57:00   \n",
       "2  1710804738.0       cookncooks  1487767423000.0  2017-02-22 12:43:43   \n",
       "3  2584152521.0     queenofthewo  1482764801000.0  2016-12-26 15:06:41   \n",
       "\n",
       "  retweet_count retweeted favorite_count  \\\n",
       "0           NaN       NaN            NaN   \n",
       "1           0.0     False            0.0   \n",
       "2           NaN       NaN            NaN   \n",
       "3           NaN       NaN            NaN   \n",
       "\n",
       "                                                text      tweet_id  \\\n",
       "0  #IslamKills Are you trying to say that there w...  7.123460e+17   \n",
       "1  Clinton: Trump should’ve apologized more, atta...  7.855849e+17   \n",
       "2  RT @ltapoll: Who was/is the best president of ...  8.343832e+17   \n",
       "3  RT @jww372: I don't have to guess your religio...  8.134006e+17   \n",
       "\n",
       "                                              source                hashtags  \\\n",
       "0                                                NaN          [\"IslamKills\"]   \n",
       "1  <a href=\"http://twitterfeed.com\" rel=\"nofollow...                      []   \n",
       "2                                                NaN                      []   \n",
       "3                                                NaN  [\"ChristmasAftermath\"]   \n",
       "\n",
       "                 expanded_urls  posted mentions  retweeted_status_id  \\\n",
       "0                           []  POSTED       []                  NaN   \n",
       "1  [\"http://detne.ws/2e172jF\"]  POSTED       []                  NaN   \n",
       "2                           []  POSTED       []                  NaN   \n",
       "3                           []  POSTED       []                  NaN   \n",
       "\n",
       "   in_reply_to_status_id created_str_date  \\\n",
       "0                    NaN       2016-03-22   \n",
       "1                    NaN       2016-10-10   \n",
       "2                    NaN       2017-02-22   \n",
       "3                    NaN       2016-12-26   \n",
       "\n",
       "                                     tweet_text_only user_mentions  \n",
       "0   Are you trying to say that there were no terr...           [0]  \n",
       "1  Clinton: Trump should’ve apologized more, atta...           [0]  \n",
       "2  Who was/is the best president of the past 25 y...   [@ltapoll:]  \n",
       "3              I don't have to guess your religion!     [@jww372:]  "
      ]
     },
     "execution_count": 109,
     "metadata": {},
     "output_type": "execute_result"
    }
   ],
   "source": [
    "troll.head(4)"
   ]
  },
  {
   "cell_type": "code",
   "execution_count": null,
   "id": "d6027040",
   "metadata": {},
   "outputs": [],
   "source": []
  },
  {
   "cell_type": "code",
   "execution_count": 110,
   "id": "f1454c52",
   "metadata": {},
   "outputs": [
    {
     "data": {
      "text/plain": [
       "0          True\n",
       "1         False\n",
       "2         False\n",
       "3          True\n",
       "4         False\n",
       "          ...  \n",
       "203484    False\n",
       "203485     True\n",
       "203486     True\n",
       "203487    False\n",
       "203488    False\n",
       "Name: text, Length: 203467, dtype: bool"
      ]
     },
     "execution_count": 110,
     "metadata": {},
     "output_type": "execute_result"
    }
   ],
   "source": [
    "troll['text'].str.contains('#')"
   ]
  },
  {
   "cell_type": "code",
   "execution_count": 117,
   "id": "a18b11e3",
   "metadata": {},
   "outputs": [
    {
     "data": {
      "text/plain": [
       "\"RT @jww372: I don't have to guess your religion! #ChristmasAftermath\""
      ]
     },
     "execution_count": 117,
     "metadata": {},
     "output_type": "execute_result"
    }
   ],
   "source": [
    "troll['text'][3]"
   ]
  },
  {
   "cell_type": "code",
   "execution_count": 118,
   "id": "89bddf12",
   "metadata": {},
   "outputs": [],
   "source": [
    "text=troll['text'][3].split()"
   ]
  },
  {
   "cell_type": "code",
   "execution_count": 121,
   "id": "f523c291",
   "metadata": {},
   "outputs": [
    {
     "data": {
      "text/plain": [
       "['#ChristmasAftermath']"
      ]
     },
     "execution_count": 121,
     "metadata": {},
     "output_type": "execute_result"
    }
   ],
   "source": [
    "list(set([part for part in text if part.startswith('#')]))"
   ]
  },
  {
   "cell_type": "code",
   "execution_count": 124,
   "id": "b020e4db",
   "metadata": {},
   "outputs": [],
   "source": [
    "def extract_hash_tags(text):\n",
    "    return list(set([part for part in text.split() if part.startswith('#')]))"
   ]
  },
  {
   "cell_type": "code",
   "execution_count": 125,
   "id": "72eba969",
   "metadata": {},
   "outputs": [
    {
     "data": {
      "text/plain": [
       "['#ChristmasAftermath']"
      ]
     },
     "execution_count": 125,
     "metadata": {},
     "output_type": "execute_result"
    }
   ],
   "source": [
    "extract_hash_tags(troll['text'][3])"
   ]
  },
  {
   "cell_type": "code",
   "execution_count": 126,
   "id": "b4ef1d09",
   "metadata": {},
   "outputs": [],
   "source": [
    "troll['tweet_hashtag']=troll['text'].apply(extract_hash_tags)"
   ]
  },
  {
   "cell_type": "code",
   "execution_count": 127,
   "id": "aea13626",
   "metadata": {},
   "outputs": [
    {
     "data": {
      "text/html": [
       "<div>\n",
       "<style scoped>\n",
       "    .dataframe tbody tr th:only-of-type {\n",
       "        vertical-align: middle;\n",
       "    }\n",
       "\n",
       "    .dataframe tbody tr th {\n",
       "        vertical-align: top;\n",
       "    }\n",
       "\n",
       "    .dataframe thead th {\n",
       "        text-align: right;\n",
       "    }\n",
       "</style>\n",
       "<table border=\"1\" class=\"dataframe\">\n",
       "  <thead>\n",
       "    <tr style=\"text-align: right;\">\n",
       "      <th></th>\n",
       "      <th>user_id</th>\n",
       "      <th>user_key</th>\n",
       "      <th>created_at</th>\n",
       "      <th>created_str</th>\n",
       "      <th>retweet_count</th>\n",
       "      <th>retweeted</th>\n",
       "      <th>favorite_count</th>\n",
       "      <th>text</th>\n",
       "      <th>tweet_id</th>\n",
       "      <th>source</th>\n",
       "      <th>hashtags</th>\n",
       "      <th>expanded_urls</th>\n",
       "      <th>posted</th>\n",
       "      <th>mentions</th>\n",
       "      <th>retweeted_status_id</th>\n",
       "      <th>in_reply_to_status_id</th>\n",
       "      <th>created_str_date</th>\n",
       "      <th>tweet_text_only</th>\n",
       "      <th>user_mentions</th>\n",
       "      <th>tweet_hashtag</th>\n",
       "    </tr>\n",
       "  </thead>\n",
       "  <tbody>\n",
       "    <tr>\n",
       "      <th>0</th>\n",
       "      <td>1868981054.0</td>\n",
       "      <td>ryanmaxwell_1</td>\n",
       "      <td>1458671502000.0</td>\n",
       "      <td>2016-03-22 18:31:42</td>\n",
       "      <td>NaN</td>\n",
       "      <td>NaN</td>\n",
       "      <td>NaN</td>\n",
       "      <td>#IslamKills Are you trying to say that there w...</td>\n",
       "      <td>7.123460e+17</td>\n",
       "      <td>NaN</td>\n",
       "      <td>[\"IslamKills\"]</td>\n",
       "      <td>[]</td>\n",
       "      <td>POSTED</td>\n",
       "      <td>[]</td>\n",
       "      <td>NaN</td>\n",
       "      <td>NaN</td>\n",
       "      <td>2016-03-22</td>\n",
       "      <td>Are you trying to say that there were no terr...</td>\n",
       "      <td>[0]</td>\n",
       "      <td>[#IslamKills]</td>\n",
       "    </tr>\n",
       "    <tr>\n",
       "      <th>1</th>\n",
       "      <td>2571870453.0</td>\n",
       "      <td>detroitdailynew</td>\n",
       "      <td>1476133020000.0</td>\n",
       "      <td>2016-10-10 20:57:00</td>\n",
       "      <td>0.0</td>\n",
       "      <td>False</td>\n",
       "      <td>0.0</td>\n",
       "      <td>Clinton: Trump should’ve apologized more, atta...</td>\n",
       "      <td>7.855849e+17</td>\n",
       "      <td>&lt;a href=\"http://twitterfeed.com\" rel=\"nofollow...</td>\n",
       "      <td>[]</td>\n",
       "      <td>[\"http://detne.ws/2e172jF\"]</td>\n",
       "      <td>POSTED</td>\n",
       "      <td>[]</td>\n",
       "      <td>NaN</td>\n",
       "      <td>NaN</td>\n",
       "      <td>2016-10-10</td>\n",
       "      <td>Clinton: Trump should’ve apologized more, atta...</td>\n",
       "      <td>[0]</td>\n",
       "      <td>[]</td>\n",
       "    </tr>\n",
       "    <tr>\n",
       "      <th>2</th>\n",
       "      <td>1710804738.0</td>\n",
       "      <td>cookncooks</td>\n",
       "      <td>1487767423000.0</td>\n",
       "      <td>2017-02-22 12:43:43</td>\n",
       "      <td>NaN</td>\n",
       "      <td>NaN</td>\n",
       "      <td>NaN</td>\n",
       "      <td>RT @ltapoll: Who was/is the best president of ...</td>\n",
       "      <td>8.343832e+17</td>\n",
       "      <td>NaN</td>\n",
       "      <td>[]</td>\n",
       "      <td>[]</td>\n",
       "      <td>POSTED</td>\n",
       "      <td>[]</td>\n",
       "      <td>NaN</td>\n",
       "      <td>NaN</td>\n",
       "      <td>2017-02-22</td>\n",
       "      <td>Who was/is the best president of the past 25 y...</td>\n",
       "      <td>[@ltapoll:]</td>\n",
       "      <td>[]</td>\n",
       "    </tr>\n",
       "  </tbody>\n",
       "</table>\n",
       "</div>"
      ],
      "text/plain": [
       "        user_id         user_key       created_at          created_str  \\\n",
       "0  1868981054.0    ryanmaxwell_1  1458671502000.0  2016-03-22 18:31:42   \n",
       "1  2571870453.0  detroitdailynew  1476133020000.0  2016-10-10 20:57:00   \n",
       "2  1710804738.0       cookncooks  1487767423000.0  2017-02-22 12:43:43   \n",
       "\n",
       "  retweet_count retweeted favorite_count  \\\n",
       "0           NaN       NaN            NaN   \n",
       "1           0.0     False            0.0   \n",
       "2           NaN       NaN            NaN   \n",
       "\n",
       "                                                text      tweet_id  \\\n",
       "0  #IslamKills Are you trying to say that there w...  7.123460e+17   \n",
       "1  Clinton: Trump should’ve apologized more, atta...  7.855849e+17   \n",
       "2  RT @ltapoll: Who was/is the best president of ...  8.343832e+17   \n",
       "\n",
       "                                              source        hashtags  \\\n",
       "0                                                NaN  [\"IslamKills\"]   \n",
       "1  <a href=\"http://twitterfeed.com\" rel=\"nofollow...              []   \n",
       "2                                                NaN              []   \n",
       "\n",
       "                 expanded_urls  posted mentions  retweeted_status_id  \\\n",
       "0                           []  POSTED       []                  NaN   \n",
       "1  [\"http://detne.ws/2e172jF\"]  POSTED       []                  NaN   \n",
       "2                           []  POSTED       []                  NaN   \n",
       "\n",
       "   in_reply_to_status_id created_str_date  \\\n",
       "0                    NaN       2016-03-22   \n",
       "1                    NaN       2016-10-10   \n",
       "2                    NaN       2017-02-22   \n",
       "\n",
       "                                     tweet_text_only user_mentions  \\\n",
       "0   Are you trying to say that there were no terr...           [0]   \n",
       "1  Clinton: Trump should’ve apologized more, atta...           [0]   \n",
       "2  Who was/is the best president of the past 25 y...   [@ltapoll:]   \n",
       "\n",
       "   tweet_hashtag  \n",
       "0  [#IslamKills]  \n",
       "1             []  \n",
       "2             []  "
      ]
     },
     "execution_count": 127,
     "metadata": {},
     "output_type": "execute_result"
    }
   ],
   "source": [
    "troll.head(3)"
   ]
  },
  {
   "cell_type": "code",
   "execution_count": null,
   "id": "ac2d826a",
   "metadata": {},
   "outputs": [],
   "source": []
  }
 ],
 "metadata": {
  "kernelspec": {
   "display_name": "Python 3 (ipykernel)",
   "language": "python",
   "name": "python3"
  },
  "language_info": {
   "codemirror_mode": {
    "name": "ipython",
    "version": 3
   },
   "file_extension": ".py",
   "mimetype": "text/x-python",
   "name": "python",
   "nbconvert_exporter": "python",
   "pygments_lexer": "ipython3",
   "version": "3.9.12"
  }
 },
 "nbformat": 4,
 "nbformat_minor": 5
}
