{
 "cells": [
  {
   "cell_type": "code",
   "execution_count": null,
   "metadata": {},
   "outputs": [],
   "source": []
  },
  {
   "cell_type": "markdown",
   "metadata": {},
   "source": [
    "### https://www.kaggle.com/chadalee/text-analytics-on-russian-troll-tweets-part-1"
   ]
  },
  {
   "cell_type": "markdown",
   "metadata": {},
   "source": [
    "#### Dataset--->> https://www.kaggle.com/fivethirtyeight/russian-troll-tweets"
   ]
  },
  {
   "cell_type": "code",
   "execution_count": null,
   "metadata": {},
   "outputs": [],
   "source": []
  },
  {
   "cell_type": "markdown",
   "metadata": {},
   "source": [
    "### Problem Statements :--\n",
    "\n",
    "    1..What are the most trending hashtags?\n",
    "    2..When were people most tweeting? Are tweets spiking around the time of major events? - Common sense tells me Yes\n",
    "    3..Which users mention which users? Can a graph be made to see which are the most mentioned users?\n",
    "    "
   ]
  },
  {
   "cell_type": "code",
   "execution_count": null,
   "metadata": {},
   "outputs": [],
   "source": []
  },
  {
   "cell_type": "code",
   "execution_count": 318,
   "metadata": {},
   "outputs": [],
   "source": [
    "import pandas as pd\n",
    "import numpy as np\n",
    "import matplotlib.pyplot as plt\n",
    "import seaborn as sns"
   ]
  },
  {
   "cell_type": "code",
   "execution_count": 319,
   "metadata": {},
   "outputs": [],
   "source": [
    "troll=pd.read_csv(r'F:\\Data Analysis_projects\\Russian_tweets\\Updated_Data/tweets_updated1.csv')"
   ]
  },
  {
   "cell_type": "code",
   "execution_count": 320,
   "metadata": {},
   "outputs": [
    {
     "data": {
      "text/plain": [
       "(203482, 17)"
      ]
     },
     "execution_count": 320,
     "metadata": {},
     "output_type": "execute_result"
    }
   ],
   "source": [
    "troll.shape"
   ]
  },
  {
   "cell_type": "code",
   "execution_count": null,
   "metadata": {},
   "outputs": [],
   "source": []
  },
  {
   "cell_type": "code",
   "execution_count": null,
   "metadata": {},
   "outputs": [],
   "source": []
  },
  {
   "cell_type": "code",
   "execution_count": null,
   "metadata": {},
   "outputs": [],
   "source": []
  },
  {
   "cell_type": "markdown",
   "metadata": {},
   "source": [
    "### lets analyse the text of Users"
   ]
  },
  {
   "cell_type": "code",
   "execution_count": 321,
   "metadata": {},
   "outputs": [
    {
     "data": {
      "text/html": [
       "<div>\n",
       "<style scoped>\n",
       "    .dataframe tbody tr th:only-of-type {\n",
       "        vertical-align: middle;\n",
       "    }\n",
       "\n",
       "    .dataframe tbody tr th {\n",
       "        vertical-align: top;\n",
       "    }\n",
       "\n",
       "    .dataframe thead th {\n",
       "        text-align: right;\n",
       "    }\n",
       "</style>\n",
       "<table border=\"1\" class=\"dataframe\">\n",
       "  <thead>\n",
       "    <tr style=\"text-align: right;\">\n",
       "      <th></th>\n",
       "      <th>user_id</th>\n",
       "      <th>user_key</th>\n",
       "      <th>created_at</th>\n",
       "      <th>created_str</th>\n",
       "      <th>retweet_count</th>\n",
       "      <th>retweeted</th>\n",
       "      <th>favorite_count</th>\n",
       "      <th>text</th>\n",
       "      <th>tweet_id</th>\n",
       "      <th>source</th>\n",
       "      <th>hashtags</th>\n",
       "      <th>expanded_urls</th>\n",
       "      <th>posted</th>\n",
       "      <th>mentions</th>\n",
       "      <th>retweeted_status_id</th>\n",
       "      <th>in_reply_to_status_id</th>\n",
       "      <th>created_str_date</th>\n",
       "    </tr>\n",
       "  </thead>\n",
       "  <tbody>\n",
       "    <tr>\n",
       "      <th>0</th>\n",
       "      <td>1.868981e+09</td>\n",
       "      <td>ryanmaxwell_1</td>\n",
       "      <td>1.458672e+12</td>\n",
       "      <td>2016-03-22 18:31:42</td>\n",
       "      <td>NaN</td>\n",
       "      <td>NaN</td>\n",
       "      <td>NaN</td>\n",
       "      <td>#IslamKills Are you trying to say that there w...</td>\n",
       "      <td>7.123460e+17</td>\n",
       "      <td>NaN</td>\n",
       "      <td>[\"IslamKills\"]</td>\n",
       "      <td>[]</td>\n",
       "      <td>POSTED</td>\n",
       "      <td>[]</td>\n",
       "      <td>NaN</td>\n",
       "      <td>NaN</td>\n",
       "      <td>2016-03-22</td>\n",
       "    </tr>\n",
       "    <tr>\n",
       "      <th>1</th>\n",
       "      <td>2.571870e+09</td>\n",
       "      <td>detroitdailynew</td>\n",
       "      <td>1.476133e+12</td>\n",
       "      <td>2016-10-10 20:57:00</td>\n",
       "      <td>0.0</td>\n",
       "      <td>False</td>\n",
       "      <td>0.0</td>\n",
       "      <td>Clinton: Trump should’ve apologized more, atta...</td>\n",
       "      <td>7.855849e+17</td>\n",
       "      <td>&lt;a href=\"http://twitterfeed.com\" rel=\"nofollow...</td>\n",
       "      <td>[]</td>\n",
       "      <td>[\"http://detne.ws/2e172jF\"]</td>\n",
       "      <td>POSTED</td>\n",
       "      <td>[]</td>\n",
       "      <td>NaN</td>\n",
       "      <td>NaN</td>\n",
       "      <td>2016-10-10</td>\n",
       "    </tr>\n",
       "  </tbody>\n",
       "</table>\n",
       "</div>"
      ],
      "text/plain": [
       "        user_id         user_key    created_at          created_str  \\\n",
       "0  1.868981e+09    ryanmaxwell_1  1.458672e+12  2016-03-22 18:31:42   \n",
       "1  2.571870e+09  detroitdailynew  1.476133e+12  2016-10-10 20:57:00   \n",
       "\n",
       "   retweet_count retweeted  favorite_count  \\\n",
       "0            NaN       NaN             NaN   \n",
       "1            0.0     False             0.0   \n",
       "\n",
       "                                                text      tweet_id  \\\n",
       "0  #IslamKills Are you trying to say that there w...  7.123460e+17   \n",
       "1  Clinton: Trump should’ve apologized more, atta...  7.855849e+17   \n",
       "\n",
       "                                              source        hashtags  \\\n",
       "0                                                NaN  [\"IslamKills\"]   \n",
       "1  <a href=\"http://twitterfeed.com\" rel=\"nofollow...              []   \n",
       "\n",
       "                 expanded_urls  posted mentions  retweeted_status_id  \\\n",
       "0                           []  POSTED       []                  NaN   \n",
       "1  [\"http://detne.ws/2e172jF\"]  POSTED       []                  NaN   \n",
       "\n",
       "   in_reply_to_status_id created_str_date  \n",
       "0                    NaN       2016-03-22  \n",
       "1                    NaN       2016-10-10  "
      ]
     },
     "execution_count": 321,
     "metadata": {},
     "output_type": "execute_result"
    }
   ],
   "source": [
    "troll.head(2)"
   ]
  },
  {
   "cell_type": "code",
   "execution_count": 322,
   "metadata": {},
   "outputs": [
    {
     "data": {
      "text/plain": [
       "21"
      ]
     },
     "execution_count": 322,
     "metadata": {},
     "output_type": "execute_result"
    }
   ],
   "source": [
    "troll['text'].isnull().sum()"
   ]
  },
  {
   "cell_type": "code",
   "execution_count": 323,
   "metadata": {},
   "outputs": [],
   "source": [
    "troll.dropna(subset=['text'],inplace=True)"
   ]
  },
  {
   "cell_type": "code",
   "execution_count": 324,
   "metadata": {},
   "outputs": [
    {
     "data": {
      "text/plain": [
       "0"
      ]
     },
     "execution_count": 324,
     "metadata": {},
     "output_type": "execute_result"
    }
   ],
   "source": [
    "troll['text'].isnull().sum()"
   ]
  },
  {
   "cell_type": "code",
   "execution_count": null,
   "metadata": {},
   "outputs": [],
   "source": []
  },
  {
   "cell_type": "code",
   "execution_count": 325,
   "metadata": {},
   "outputs": [
    {
     "data": {
      "text/plain": [
       "\"RT @ElPenguinito: #myfarewellwordswouldbe I've buried my fortune in the park under a giant...\""
      ]
     },
     "execution_count": 325,
     "metadata": {},
     "output_type": "execute_result"
    }
   ],
   "source": [
    "troll['text'][10]"
   ]
  },
  {
   "cell_type": "raw",
   "metadata": {},
   "source": [
    "Text Analytics Time!\n",
    "So we see that the tweets contain extra elements like RT mentions, links and hashtags! Let's separate out these elements so that we can analyze just the tweet text or the hashtags whatever we want!"
   ]
  },
  {
   "cell_type": "code",
   "execution_count": 326,
   "metadata": {},
   "outputs": [
    {
     "data": {
      "text/plain": [
       "0    #IslamKills Are you trying to say that there w...\n",
       "1    Clinton: Trump should’ve apologized more, atta...\n",
       "2    RT @ltapoll: Who was/is the best president of ...\n",
       "3    RT @jww372: I don't have to guess your religio...\n",
       "4    RT @Shareblue: Pence and his lawyers decided w...\n",
       "5                               @ModicaGiunta me, too!\n",
       "6    RT @MDBlanchfield: You’ll never guess who twee...\n",
       "7    RT @100PercFEDUP: New post: WATCH: DIAMOND AND...\n",
       "8    RT @AriaWilsonGOP: 3 Women Face Charges After ...\n",
       "9    One of the ways to remind that #BlackLivesMatt...\n",
       "Name: text, dtype: object"
      ]
     },
     "execution_count": 326,
     "metadata": {},
     "output_type": "execute_result"
    }
   ],
   "source": [
    "troll['text'].head(10)"
   ]
  },
  {
   "cell_type": "code",
   "execution_count": 327,
   "metadata": {},
   "outputs": [],
   "source": [
    "####  A regular expression (or RE) specifies a set of strings that matches it"
   ]
  },
  {
   "cell_type": "code",
   "execution_count": null,
   "metadata": {},
   "outputs": [],
   "source": []
  },
  {
   "cell_type": "markdown",
   "metadata": {},
   "source": [
    "The table above shows that -\n",
    "\n",
    "    1.Retweets begin with the keyword 'RT'. These are followed by @userkey.\n",
    "    2.Hashtags begin with a # and are one continuous string with a space next to them!\n",
    "    3.Links begin with https:// or http:// and can be present anywhere in the string.\n",
    "    4.There can be multiple links and hashtags in a tweet, but retweet identifier is just one.\n",
    "    5.User mentions begin with '@' and are a continuous word!"
   ]
  },
  {
   "cell_type": "markdown",
   "metadata": {},
   "source": [
    "### ways to clean it..\n",
    "    1..remove the RT mentions from tweets\n",
    "    2..Remove hyperlink from data\n",
    "    3..remove hashtag in data\n",
    "    4..Remove user-mentions"
   ]
  },
  {
   "cell_type": "code",
   "execution_count": null,
   "metadata": {},
   "outputs": [],
   "source": []
  },
  {
   "cell_type": "code",
   "execution_count": null,
   "metadata": {},
   "outputs": [],
   "source": []
  },
  {
   "cell_type": "markdown",
   "metadata": {},
   "source": [
    "# a...First let's remove the RT mentions from tweets"
   ]
  },
  {
   "cell_type": "code",
   "execution_count": 328,
   "metadata": {},
   "outputs": [],
   "source": [
    "### ways to do it...\n",
    "\n",
    "### 1.remove the RT mentions from tweets using substitute ie.. re.sub()\n",
    "### 2.remove the RT mentions from tweetsusing findall function of re "
   ]
  },
  {
   "cell_type": "code",
   "execution_count": null,
   "metadata": {},
   "outputs": [],
   "source": []
  },
  {
   "cell_type": "markdown",
   "metadata": {},
   "source": [
    "### 1.remove the RT mentions from tweets using substitute ie.. re.sub()"
   ]
  },
  {
   "cell_type": "code",
   "execution_count": 329,
   "metadata": {},
   "outputs": [
    {
     "data": {
      "text/plain": [
       "0         False\n",
       "1         False\n",
       "2          True\n",
       "3          True\n",
       "4          True\n",
       "          ...  \n",
       "203477     True\n",
       "203478     True\n",
       "203479     True\n",
       "203480    False\n",
       "203481     True\n",
       "Name: text, Length: 203461, dtype: bool"
      ]
     },
     "execution_count": 329,
     "metadata": {},
     "output_type": "execute_result"
    }
   ],
   "source": [
    "## find those text where we have RT Mentions\n",
    "troll['text'].str.contains('RT')"
   ]
  },
  {
   "cell_type": "code",
   "execution_count": 330,
   "metadata": {},
   "outputs": [
    {
     "data": {
      "text/plain": [
       "'RT @Shareblue: Pence and his lawyers decided which of his official emails the public could see\\r\\n\\r\\nhttps://t.co/HjhPguBK1Y by @alisonrose711'"
      ]
     },
     "execution_count": 330,
     "metadata": {},
     "output_type": "execute_result"
    }
   ],
   "source": [
    "troll['text'][4]"
   ]
  },
  {
   "cell_type": "code",
   "execution_count": 331,
   "metadata": {},
   "outputs": [
    {
     "data": {
      "text/plain": [
       "' Pence and his lawyers decided which of his official emails the public could see\\r\\n\\r\\nhttps://t.co/HjhPguBK1Y by @alisonrose711'"
      ]
     },
     "execution_count": 331,
     "metadata": {},
     "output_type": "execute_result"
    }
   ],
   "source": [
    "import re\n",
    "text=re.sub('RT.*?:','',troll['text'][4])\n",
    "text"
   ]
  },
  {
   "cell_type": "raw",
   "metadata": {},
   "source": [
    "\n",
    "'''\n",
    "\n",
    "# 'RT.*?:'--->> what does it mean??\n",
    "\n",
    "# RT - (means string will begin from RT ) , then . means (we have any character except than newline )\n",
    "# & then * quantifier (we have 0 or more occurences of any character except than newline)\n",
    "# & then ? quantifier  - means either 0 (absent) or 1(present) ((as we can have both the scenarios in data ))\n",
    "\n",
    "Scenario 1:RT @Shareblue:\n",
    "    Scenario 2:RT\n",
    "\n",
    "    Thats why we have to use this '?' quantifier to handle both the scenario..\n",
    "    \n",
    "    \n",
    "# & then : - means at the end we have :\n",
    "    \n",
    ".."
   ]
  },
  {
   "cell_type": "code",
   "execution_count": null,
   "metadata": {},
   "outputs": [],
   "source": []
  },
  {
   "cell_type": "raw",
   "metadata": {},
   "source": [
    "'''\n",
    "\n",
    "## understand more about re.match()\n",
    "import re\n",
    " \n",
    "Substring ='string'\n",
    " \n",
    " \n",
    "String1 ='''We are learning regex with geeksforgeeks\n",
    "         regex is very useful for string matching.\n",
    "          It is fast too.'''\n",
    "String2 ='''string We are learning regex with geeksforgeeks\n",
    "         regex is very useful for string matching.\n",
    "          It is fast too.'''\n",
    " \n",
    "# Use of re.match() Method\n",
    "print(re.match(Substring, String1))\n",
    " \n",
    "# Use of re.match() Method\n",
    "print(re.match(Substring, String2))\n",
    "\n",
    "\n",
    "'''"
   ]
  },
  {
   "cell_type": "code",
   "execution_count": 332,
   "metadata": {},
   "outputs": [],
   "source": [
    "## re.match-->>it returns a Match object or it returms None if no match was found.\n",
    "## re.match() only works if the match is found at the beginning of the string. \n",
    "\n",
    "obj=re.match('.*',text)"
   ]
  },
  {
   "cell_type": "code",
   "execution_count": 333,
   "metadata": {},
   "outputs": [
    {
     "data": {
      "text/plain": [
       "<re.Match object; span=(0, 81), match=' Pence and his lawyers decided which of his offic>"
      ]
     },
     "execution_count": 333,
     "metadata": {},
     "output_type": "execute_result"
    }
   ],
   "source": [
    "obj"
   ]
  },
  {
   "cell_type": "code",
   "execution_count": 334,
   "metadata": {},
   "outputs": [
    {
     "data": {
      "text/plain": [
       "' Pence and his lawyers decided which of his official emails the public could see\\r'"
      ]
     },
     "execution_count": 334,
     "metadata": {},
     "output_type": "execute_result"
    }
   ],
   "source": [
    "obj.group()"
   ]
  },
  {
   "cell_type": "code",
   "execution_count": 335,
   "metadata": {},
   "outputs": [
    {
     "data": {
      "text/plain": [
       "'Pence and his lawyers decided which of his official emails the public could see'"
      ]
     },
     "execution_count": 335,
     "metadata": {},
     "output_type": "execute_result"
    }
   ],
   "source": [
    "obj.group().strip()\n",
    "\n",
    "###  using strip(),we can remove spaces at the beginning and at the end of the string"
   ]
  },
  {
   "cell_type": "code",
   "execution_count": 336,
   "metadata": {},
   "outputs": [],
   "source": [
    "### lets try to automate it.."
   ]
  },
  {
   "cell_type": "code",
   "execution_count": 337,
   "metadata": {},
   "outputs": [],
   "source": [
    "# define a function that takes a tweet and remove RT from tweet.\n",
    "def remove_unnecesaary(tweet):\n",
    "    '''Given a tweet, remove the retweet element from it'''\n",
    "    text=re.sub('RT.*?:','',tweet)\n",
    "    obj=re.match('.*',text)\n",
    "    return obj.group(0).strip()\n",
    "    \n"
   ]
  },
  {
   "cell_type": "code",
   "execution_count": 338,
   "metadata": {},
   "outputs": [
    {
     "data": {
      "text/plain": [
       "'Pence and his lawyers decided which of his official emails the public could see'"
      ]
     },
     "execution_count": 338,
     "metadata": {},
     "output_type": "execute_result"
    }
   ],
   "source": [
    "remove_unnecesaary(troll['text'][4])"
   ]
  },
  {
   "cell_type": "code",
   "execution_count": null,
   "metadata": {},
   "outputs": [],
   "source": []
  },
  {
   "cell_type": "markdown",
   "metadata": {},
   "source": [
    "### 2.remove the RT mentions from tweetsusing findall function of re "
   ]
  },
  {
   "cell_type": "markdown",
   "metadata": {},
   "source": [
    "##### Alternative of above one which is a smarter approach using findall function"
   ]
  },
  {
   "cell_type": "code",
   "execution_count": null,
   "metadata": {},
   "outputs": [],
   "source": []
  },
  {
   "cell_type": "code",
   "execution_count": 339,
   "metadata": {},
   "outputs": [
    {
     "data": {
      "text/plain": [
       "['I love cats']"
      ]
     },
     "execution_count": 339,
     "metadata": {},
     "output_type": "execute_result"
    }
   ],
   "source": [
    "### practical use-case \n",
    "string='pet:I love cats'\n",
    "re.findall(\"^pet:(.*)\",string)\n",
    "\n",
    "##^-beginning of a string\n",
    "## (.*) means we just want this particular group () & I want to exclude ^pet:"
   ]
  },
  {
   "cell_type": "code",
   "execution_count": null,
   "metadata": {},
   "outputs": [],
   "source": []
  },
  {
   "cell_type": "code",
   "execution_count": 340,
   "metadata": {},
   "outputs": [
    {
     "data": {
      "text/plain": [
       "'\\n\\n.*--> will match any character (including newlines if dotall is used). This is greedy: it matches as much as it can.\\n\\n(.*)-->will add that to a capture group...\\n\\n(.*?)-->? makes the .* non-greedy,matching as little as it can  ,and the parenthesis makes it a capture group as well.\\n\\n'"
      ]
     },
     "execution_count": 340,
     "metadata": {},
     "output_type": "execute_result"
    }
   ],
   "source": [
    "'''\n",
    "\n",
    ".*--> will match any character (including newlines if dotall is used). This is greedy: it matches as much as it can.\n",
    "\n",
    "(.*)-->will add that to a capture group...\n",
    "\n",
    "(.*?)-->? makes the .* non-greedy,matching as little as it can  ,and the parenthesis makes it a capture group as well.\n",
    "\n",
    "'''"
   ]
  },
  {
   "cell_type": "code",
   "execution_count": 341,
   "metadata": {},
   "outputs": [
    {
     "data": {
      "text/plain": [
       "'RT @Shareblue: Pence and his lawyers decided which of his official emails the public could see\\r\\n\\r\\nhttps://t.co/HjhPguBK1Y by @alisonrose711'"
      ]
     },
     "execution_count": 341,
     "metadata": {},
     "output_type": "execute_result"
    }
   ],
   "source": [
    "troll['text'][4]"
   ]
  },
  {
   "cell_type": "code",
   "execution_count": 342,
   "metadata": {},
   "outputs": [
    {
     "data": {
      "text/plain": [
       "['RT @Shareblue:']"
      ]
     },
     "execution_count": 342,
     "metadata": {},
     "output_type": "execute_result"
    }
   ],
   "source": [
    "re.findall(\"^RT.*?:\", troll['text'][4])\n",
    "\n",
    "\n",
    "### re.findall-->> which returns the list of strings that match the pattern. "
   ]
  },
  {
   "cell_type": "code",
   "execution_count": null,
   "metadata": {},
   "outputs": [],
   "source": []
  },
  {
   "cell_type": "code",
   "execution_count": 343,
   "metadata": {},
   "outputs": [
    {
     "data": {
      "text/plain": [
       "[' Pence and his lawyers decided which of his official emails the public could see\\r']"
      ]
     },
     "execution_count": 343,
     "metadata": {},
     "output_type": "execute_result"
    }
   ],
   "source": [
    "import re\n",
    "re.findall(\"^RT.*?:(.*)\", troll['text'][4])\n",
    "\n",
    "## it matches as much as it can.\n",
    "## (.*) means we just want this particular group () & I want to exclude ^RT.*?:.."
   ]
  },
  {
   "cell_type": "raw",
   "metadata": {},
   "source": [
    "'''\n",
    "\n",
    "# \"^RT.*?:(.*)\"--->> what does it mean??\n",
    "\n",
    "# RT - (means string will begin from RT ) , then . means (we have any character except than newline )\n",
    "# & then * quantifier (we have 0 or more occurences of any character except than newline)\n",
    "# & then ? quantifier  - means either 0 (absent) or 1(present) ((as we can have both the scenarios in data ))\n",
    "\n",
    "Scenario 1:RT @Shareblue:\n",
    "Scenario 2:RT\n",
    "\n",
    "    Thats why we have to use this '?' quantifier to handle both the scenario..\n",
    "    \n",
    "## (.*) means we just want this particular group () & I want to exclude ^RT.*?:..\n",
    "\n",
    "\n",
    "    \n",
    ".."
   ]
  },
  {
   "cell_type": "code",
   "execution_count": 344,
   "metadata": {},
   "outputs": [
    {
     "data": {
      "text/plain": [
       "'@ModicaGiunta me, too!'"
      ]
     },
     "execution_count": 344,
     "metadata": {},
     "output_type": "execute_result"
    }
   ],
   "source": [
    "troll['text'][5]"
   ]
  },
  {
   "cell_type": "code",
   "execution_count": 345,
   "metadata": {},
   "outputs": [
    {
     "data": {
      "text/plain": [
       "'@ModicaGiunta me, too!'"
      ]
     },
     "execution_count": 345,
     "metadata": {},
     "output_type": "execute_result"
    }
   ],
   "source": [
    "## but if pattern (^RT.*?:) is no more available  , it returns blank\n",
    "troll['text'][5]"
   ]
  },
  {
   "cell_type": "code",
   "execution_count": 346,
   "metadata": {},
   "outputs": [
    {
     "data": {
      "text/plain": [
       "[]"
      ]
     },
     "execution_count": 346,
     "metadata": {},
     "output_type": "execute_result"
    }
   ],
   "source": [
    "re.findall(\"^RT.*?:(.*)\", troll['text'][5])"
   ]
  },
  {
   "cell_type": "code",
   "execution_count": 347,
   "metadata": {},
   "outputs": [],
   "source": [
    "# define a function that takes a tweet and remove RT from tweet.\n",
    "\n",
    "def remove_retweet(tweet):\n",
    "    '''Given a tweet, remove the retweet element from it'''\n",
    "    text_only = []\n",
    "    if len(re.findall(\"^RT.*?:(.*)\", tweet)) > 0:\n",
    "        text_only.append(re.findall(\"^RT.*?:(.*)\", tweet)[0])\n",
    "    else:\n",
    "        text_only.append(tweet)\n",
    "    return text_only[0]\n",
    "\n",
    "## to avoid data in the form of list  , access data using index as [0]\n",
    "## ie bcz we dont want as [' Pence and his lawyers decided which of his official emails the public could see\\r']\n",
    "## we want as ' Pence and his lawyers decided which of his official emails the public could see\\r'"
   ]
  },
  {
   "cell_type": "code",
   "execution_count": 348,
   "metadata": {},
   "outputs": [
    {
     "data": {
      "text/plain": [
       "' Pence and his lawyers decided which of his official emails the public could see\\r'"
      ]
     },
     "execution_count": 348,
     "metadata": {},
     "output_type": "execute_result"
    }
   ],
   "source": [
    "remove_retweet(troll['text'][4])"
   ]
  },
  {
   "cell_type": "code",
   "execution_count": 349,
   "metadata": {},
   "outputs": [],
   "source": [
    "# extract texts and place in a list\n",
    "text_only = troll['text'].apply(remove_retweet)"
   ]
  },
  {
   "cell_type": "code",
   "execution_count": 350,
   "metadata": {},
   "outputs": [
    {
     "data": {
      "text/plain": [
       "0         #IslamKills Are you trying to say that there w...\n",
       "1         Clinton: Trump should’ve apologized more, atta...\n",
       "2          Who was/is the best president of the past 25 ...\n",
       "3          I don't have to guess your religion! #Christm...\n",
       "4          Pence and his lawyers decided which of his of...\n",
       "                                ...                        \n",
       "203477     In intel circles, the story goes FSB filmed T...\n",
       "203478     Tonganoxie police: Middle school girl sexuall...\n",
       "203479     Getting the right #company logo: How #busines...\n",
       "203480    The Latest: Obama affirms continuity of ties w...\n",
       "203481     U cant just Upload a CD online &amp; thats it...\n",
       "Name: text, Length: 203461, dtype: object"
      ]
     },
     "execution_count": 350,
     "metadata": {},
     "output_type": "execute_result"
    }
   ],
   "source": [
    "text_only"
   ]
  },
  {
   "cell_type": "code",
   "execution_count": null,
   "metadata": {},
   "outputs": [],
   "source": []
  },
  {
   "cell_type": "markdown",
   "metadata": {},
   "source": [
    "# b..Next, let's remove the links from these tweet texts so that we have a column for just the tweet text devoid of any links and RT mentions."
   ]
  },
  {
   "cell_type": "code",
   "execution_count": null,
   "metadata": {},
   "outputs": [],
   "source": []
  },
  {
   "cell_type": "code",
   "execution_count": 351,
   "metadata": {},
   "outputs": [],
   "source": [
    "## ways to do it--\n",
    "\n",
    "# remove the links using re.sub() , just define some pattern to remove links\n",
    "# # remove the links using re.findall() , just define some pattern to remove links\n",
    "\n",
    "\n",
    "# ways to define pattern to remove links (not a part of this use-case..)\n",
    "# 1..having anchor tag in data(Your assignment) ie <a>\n",
    "\n",
    "# 2..without having anchor tag in data \n",
    "    # Mutiple patterns can be possible to remove links...\n",
    "    \n"
   ]
  },
  {
   "cell_type": "code",
   "execution_count": 352,
   "metadata": {},
   "outputs": [
    {
     "data": {
      "text/plain": [
       "'\\n\\n  The <a> tag is that tag defines a hyperlink, which is used to link from one page to another.\\n    So whatever website or hyperlink u have seen , most of that is typically written inside anchor tag...\\n    Of-course this is a part of web development , so we will not go in-depth of its...as it is totally out of context...\\n\\n'"
      ]
     },
     "execution_count": 352,
     "metadata": {},
     "output_type": "execute_result"
    }
   ],
   "source": [
    "'''\n",
    "\n",
    "  The <a> tag is that tag defines a hyperlink, which is used to link from one page to another.\n",
    "    So whatever website or hyperlink u have seen , most of that is typically written inside anchor tag...\n",
    "    Of-course this is a part of web development , so we will not go in-depth of its...as it is totally out of context...\n",
    "\n",
    "'''"
   ]
  },
  {
   "cell_type": "code",
   "execution_count": null,
   "metadata": {},
   "outputs": [],
   "source": []
  },
  {
   "cell_type": "code",
   "execution_count": 353,
   "metadata": {},
   "outputs": [
    {
     "data": {
      "text/plain": [
       "0         False\n",
       "1          True\n",
       "2         False\n",
       "3         False\n",
       "4         False\n",
       "          ...  \n",
       "203477    False\n",
       "203478    False\n",
       "203479     True\n",
       "203480     True\n",
       "203481    False\n",
       "Name: text, Length: 203461, dtype: bool"
      ]
     },
     "execution_count": 353,
     "metadata": {},
     "output_type": "execute_result"
    }
   ],
   "source": [
    "## find those rows where we can have http as a sub_string..\n",
    "text_only.str.contains('http')"
   ]
  },
  {
   "cell_type": "code",
   "execution_count": 354,
   "metadata": {},
   "outputs": [
    {
     "data": {
      "text/plain": [
       "1         Clinton: Trump should’ve apologized more, atta...\n",
       "6          You’ll never guess who tweeted something fals...\n",
       "7          New post: WATCH: DIAMOND AND SILK Rip On John...\n",
       "8          3 Women Face Charges After Being Caught Steal...\n",
       "13        Dave Chappelle: \"Black Lives Matter\" is the wo...\n",
       "                                ...                        \n",
       "203473     Theresa A. Dear's \"Let's Get to Work\" @WVON16...\n",
       "203474     This 22-year-old got out of an awkward convo ...\n",
       "203475     #tcot #news #variety New Facebook tool allows...\n",
       "203479     Getting the right #company logo: How #busines...\n",
       "203480    The Latest: Obama affirms continuity of ties w...\n",
       "Name: text, Length: 101960, dtype: object"
      ]
     },
     "execution_count": 354,
     "metadata": {},
     "output_type": "execute_result"
    }
   ],
   "source": [
    "## find those rows where we can have http as a sub_string..\n",
    "text_only[text_only.str.contains('http')]"
   ]
  },
  {
   "cell_type": "code",
   "execution_count": 355,
   "metadata": {},
   "outputs": [],
   "source": [
    "# 1..having anchor tag in data"
   ]
  },
  {
   "cell_type": "code",
   "execution_count": 356,
   "metadata": {},
   "outputs": [],
   "source": [
    "## your assignment task\n",
    "\n",
    "### suppose if we have text data & inside text data , suppose my links are represented using anchor tags..\n",
    "## like <a href='http:' </a> then in such cases , we have to use below pattern to remove all these HTML tags\n",
    "\n"
   ]
  },
  {
   "cell_type": "code",
   "execution_count": null,
   "metadata": {},
   "outputs": [],
   "source": [
    "'''\n",
    "<.*?>----->   means  \n",
    "\n",
    "\n",
    "<--opening of HTML tags \n",
    ".-any character , \n",
    "*-0 or more characters ,\n",
    "? - 0 or 1 ie either set of characters will be available or not\n",
    ">-Closing of html tags\n",
    "\n",
    "'''"
   ]
  },
  {
   "cell_type": "code",
   "execution_count": null,
   "metadata": {},
   "outputs": [],
   "source": []
  },
  {
   "cell_type": "code",
   "execution_count": null,
   "metadata": {},
   "outputs": [],
   "source": []
  },
  {
   "cell_type": "code",
   "execution_count": 357,
   "metadata": {},
   "outputs": [],
   "source": [
    "# 2..without having anchor tag in data "
   ]
  },
  {
   "cell_type": "code",
   "execution_count": 358,
   "metadata": {},
   "outputs": [],
   "source": [
    "### lets define a pattern to remove link"
   ]
  },
  {
   "cell_type": "code",
   "execution_count": null,
   "metadata": {},
   "outputs": [],
   "source": []
  },
  {
   "cell_type": "code",
   "execution_count": 359,
   "metadata": {},
   "outputs": [
    {
     "data": {
      "text/plain": [
       "Series([], Name: text, dtype: object)"
      ]
     },
     "execution_count": 359,
     "metadata": {},
     "output_type": "execute_result"
    }
   ],
   "source": [
    "text_only[text_only.str.contains('<a')]\n",
    "\n",
    "### it means we do not have any anchor tag in data.."
   ]
  },
  {
   "cell_type": "code",
   "execution_count": 360,
   "metadata": {},
   "outputs": [
    {
     "data": {
      "text/plain": [
       "'Clinton: Trump should’ve apologized more, attacked less https://t.co/eJampkoHFZ'"
      ]
     },
     "execution_count": 360,
     "metadata": {},
     "output_type": "execute_result"
    }
   ],
   "source": [
    "text_only[1]"
   ]
  },
  {
   "cell_type": "code",
   "execution_count": 361,
   "metadata": {},
   "outputs": [
    {
     "data": {
      "text/plain": [
       "'Clinton: Trump should’ve apologized more, attacked less '"
      ]
     },
     "execution_count": 361,
     "metadata": {},
     "output_type": "execute_result"
    }
   ],
   "source": [
    "re.sub('http.*','',text_only[1])"
   ]
  },
  {
   "cell_type": "raw",
   "metadata": {},
   "source": [
    "http.*\n",
    "\n",
    "\n",
    "http-string starts with http\n",
    ".-any character except newline..\n",
    "*-0 or more occurence of any character except new line"
   ]
  },
  {
   "cell_type": "code",
   "execution_count": 362,
   "metadata": {},
   "outputs": [],
   "source": [
    "## below pattern is much much better than above one !"
   ]
  },
  {
   "cell_type": "code",
   "execution_count": 363,
   "metadata": {},
   "outputs": [
    {
     "data": {
      "text/plain": [
       "'Clinton: Trump should’ve apologized more, attacked less '"
      ]
     },
     "execution_count": 363,
     "metadata": {},
     "output_type": "execute_result"
    }
   ],
   "source": [
    "re.sub('http.?:.*','',text_only[1])"
   ]
  },
  {
   "cell_type": "markdown",
   "metadata": {},
   "source": [
    "'http.?:.*\n",
    "\n",
    "http-string starts with http\n",
    ".-any character except newline..\n",
    "?-after http we can have ay character or may be no any character except new_line.\n",
    ":-we have character as :\n",
    ".-we can have any character except than new line..\n",
    "*-0 or more occurence of any character except new line"
   ]
  },
  {
   "cell_type": "code",
   "execution_count": 364,
   "metadata": {},
   "outputs": [],
   "source": [
    "def remove_links(tweet):\n",
    "    return re.sub('http.?:.*','',tweet)"
   ]
  },
  {
   "cell_type": "code",
   "execution_count": 365,
   "metadata": {},
   "outputs": [],
   "source": [
    "text_no_links = text_only.apply(remove_links)\n",
    "\n",
    "## text_no_links = text_only.map(remove_links)"
   ]
  },
  {
   "cell_type": "code",
   "execution_count": null,
   "metadata": {},
   "outputs": [],
   "source": []
  },
  {
   "cell_type": "code",
   "execution_count": 366,
   "metadata": {},
   "outputs": [],
   "source": [
    "### lets define another patterns to remove it..."
   ]
  },
  {
   "cell_type": "code",
   "execution_count": 367,
   "metadata": {},
   "outputs": [],
   "source": [
    "pattern='https://[^\\s]+'"
   ]
  },
  {
   "cell_type": "code",
   "execution_count": 368,
   "metadata": {},
   "outputs": [
    {
     "data": {
      "text/plain": [
       "'\\n[] =it is metacharacter ie ([] this holds set of characters)\\n^ = match start of a string\\n\\\\s = white-space character ie it includes(tab,space,newline etc.)\\n+ = (modifier) matches 1 or more occurences\\n\\n'"
      ]
     },
     "execution_count": 368,
     "metadata": {},
     "output_type": "execute_result"
    }
   ],
   "source": [
    "'''\n",
    "[] =it is metacharacter ie ([] this holds set of characters)\n",
    "^ = match start of a string\n",
    "\\s = white-space character ie it includes(tab,space,newline etc.)\n",
    "+ = (modifier) matches 1 or more occurences\n",
    "\n",
    "'''"
   ]
  },
  {
   "cell_type": "code",
   "execution_count": 369,
   "metadata": {},
   "outputs": [
    {
     "data": {
      "text/plain": [
       "'Clinton: Trump should’ve apologized more, attacked less https://t.co/eJampkoHFZ'"
      ]
     },
     "execution_count": 369,
     "metadata": {},
     "output_type": "execute_result"
    }
   ],
   "source": [
    "text_only[1]"
   ]
  },
  {
   "cell_type": "code",
   "execution_count": 370,
   "metadata": {},
   "outputs": [
    {
     "data": {
      "text/plain": [
       "'Clinton: Trump should’ve apologized more, attacked less '"
      ]
     },
     "execution_count": 370,
     "metadata": {},
     "output_type": "execute_result"
    }
   ],
   "source": [
    "re.sub(pattern,'',text_only[1])"
   ]
  },
  {
   "cell_type": "code",
   "execution_count": 371,
   "metadata": {},
   "outputs": [],
   "source": [
    "def remove_links(tweet):\n",
    "    ##Provide a tweet and remove the links from it\n",
    "    text_only = []\n",
    "    if len(re.findall(\"(https://[^\\s]+)\", tweet)) > 0:\n",
    "        tweet = re.sub(\"(https://[^\\s]+)\", \"\", tweet)  \n",
    "        text_only.append(tweet)\n",
    "        \n",
    "    else:\n",
    "        text_only.append(tweet)\n",
    "    return text_only[0]"
   ]
  },
  {
   "cell_type": "code",
   "execution_count": 372,
   "metadata": {},
   "outputs": [
    {
     "data": {
      "text/plain": [
       "'Clinton: Trump should’ve apologized more, attacked less '"
      ]
     },
     "execution_count": 372,
     "metadata": {},
     "output_type": "execute_result"
    }
   ],
   "source": [
    "remove_links(text_only[1])\n",
    "\n",
    "## text_no_links = text_only.map(remove_links)"
   ]
  },
  {
   "cell_type": "code",
   "execution_count": null,
   "metadata": {},
   "outputs": [],
   "source": []
  },
  {
   "cell_type": "code",
   "execution_count": null,
   "metadata": {},
   "outputs": [],
   "source": []
  },
  {
   "cell_type": "code",
   "execution_count": 373,
   "metadata": {},
   "outputs": [
    {
     "data": {
      "text/plain": [
       "'Clinton: Trump should’ve apologized more, attacked less '"
      ]
     },
     "execution_count": 373,
     "metadata": {},
     "output_type": "execute_result"
    }
   ],
   "source": [
    "text_no_links[1]"
   ]
  },
  {
   "cell_type": "code",
   "execution_count": 374,
   "metadata": {},
   "outputs": [
    {
     "data": {
      "text/plain": [
       "0    #IslamKills Are you trying to say that there w...\n",
       "1    Clinton: Trump should’ve apologized more, atta...\n",
       "2     Who was/is the best president of the past 25 ...\n",
       "3     I don't have to guess your religion! #Christm...\n",
       "4     Pence and his lawyers decided which of his of...\n",
       "Name: text, dtype: object"
      ]
     },
     "execution_count": 374,
     "metadata": {},
     "output_type": "execute_result"
    }
   ],
   "source": [
    "text_no_links.head()"
   ]
  },
  {
   "cell_type": "code",
   "execution_count": null,
   "metadata": {},
   "outputs": [],
   "source": []
  },
  {
   "cell_type": "code",
   "execution_count": null,
   "metadata": {},
   "outputs": [],
   "source": []
  },
  {
   "cell_type": "markdown",
   "metadata": {},
   "source": [
    "# c.. Lets remove hashtags from these!"
   ]
  },
  {
   "cell_type": "code",
   "execution_count": 375,
   "metadata": {},
   "outputs": [
    {
     "data": {
      "text/plain": [
       "0          True\n",
       "1         False\n",
       "2         False\n",
       "3          True\n",
       "4         False\n",
       "          ...  \n",
       "203477    False\n",
       "203478     True\n",
       "203479     True\n",
       "203480    False\n",
       "203481    False\n",
       "Name: text, Length: 203461, dtype: bool"
      ]
     },
     "execution_count": 375,
     "metadata": {},
     "output_type": "execute_result"
    }
   ],
   "source": [
    "### finding those texts in which we have hashtags\n",
    "text_no_links.str.contains('#')"
   ]
  },
  {
   "cell_type": "code",
   "execution_count": 376,
   "metadata": {},
   "outputs": [
    {
     "data": {
      "text/plain": [
       "'#IslamKills Are you trying to say that there were no terrorist attacks in Europe before refugees were let in?'"
      ]
     },
     "execution_count": 376,
     "metadata": {},
     "output_type": "execute_result"
    }
   ],
   "source": [
    "text_no_links[0]"
   ]
  },
  {
   "cell_type": "code",
   "execution_count": 377,
   "metadata": {},
   "outputs": [
    {
     "data": {
      "text/plain": [
       "' Are you trying to say that there were no terrorist attacks in Europe before refugees were let in?'"
      ]
     },
     "execution_count": 377,
     "metadata": {},
     "output_type": "execute_result"
    }
   ],
   "source": [
    "#\\S-except space,tab,newline , vertical tab character (ie white space character)\n",
    "#+- having 1 or more occurence of characters\n",
    "re.sub('#\\S+','',text_no_links[0])\n"
   ]
  },
  {
   "cell_type": "code",
   "execution_count": 378,
   "metadata": {},
   "outputs": [
    {
     "data": {
      "text/plain": [
       "\" I don't have to guess your religion! #ChristmasAftermath\""
      ]
     },
     "execution_count": 378,
     "metadata": {},
     "output_type": "execute_result"
    }
   ],
   "source": [
    "text_no_links[3]"
   ]
  },
  {
   "cell_type": "code",
   "execution_count": 379,
   "metadata": {},
   "outputs": [
    {
     "data": {
      "text/plain": [
       "\" I don't have to guess your religion! \""
      ]
     },
     "execution_count": 379,
     "metadata": {},
     "output_type": "execute_result"
    }
   ],
   "source": [
    "re.sub('#\\S+','',text_no_links[3])"
   ]
  },
  {
   "cell_type": "code",
   "execution_count": 380,
   "metadata": {},
   "outputs": [],
   "source": [
    "def remove_hashtags(tweet):\n",
    "    return re.sub('#\\S+','',tweet)"
   ]
  },
  {
   "cell_type": "code",
   "execution_count": 381,
   "metadata": {},
   "outputs": [],
   "source": [
    "text_no_hashtag = text_no_links.map(remove_hashtags)"
   ]
  },
  {
   "cell_type": "code",
   "execution_count": null,
   "metadata": {},
   "outputs": [],
   "source": []
  },
  {
   "cell_type": "code",
   "execution_count": null,
   "metadata": {},
   "outputs": [],
   "source": []
  },
  {
   "cell_type": "code",
   "execution_count": null,
   "metadata": {},
   "outputs": [],
   "source": []
  },
  {
   "cell_type": "markdown",
   "metadata": {},
   "source": [
    "# d.. Lets remove the user mentions from the text_"
   ]
  },
  {
   "cell_type": "code",
   "execution_count": null,
   "metadata": {},
   "outputs": [],
   "source": []
  },
  {
   "cell_type": "code",
   "execution_count": 382,
   "metadata": {},
   "outputs": [
    {
     "data": {
      "text/plain": [
       "0         False\n",
       "1         False\n",
       "2         False\n",
       "3         False\n",
       "4         False\n",
       "          ...  \n",
       "203477    False\n",
       "203478    False\n",
       "203479     True\n",
       "203480    False\n",
       "203481    False\n",
       "Name: text, Length: 203461, dtype: bool"
      ]
     },
     "execution_count": 382,
     "metadata": {},
     "output_type": "execute_result"
    }
   ],
   "source": [
    "text_no_hashtag.str.contains('@')"
   ]
  },
  {
   "cell_type": "code",
   "execution_count": 383,
   "metadata": {},
   "outputs": [
    {
     "data": {
      "text/plain": [
       "' Getting the right  logo: How  got their message across @smallbusinessuk '"
      ]
     },
     "execution_count": 383,
     "metadata": {},
     "output_type": "execute_result"
    }
   ],
   "source": [
    "text_no_hashtag[203479]"
   ]
  },
  {
   "cell_type": "code",
   "execution_count": 384,
   "metadata": {},
   "outputs": [
    {
     "data": {
      "text/plain": [
       "' Getting the right  logo: How  got their message across  '"
      ]
     },
     "execution_count": 384,
     "metadata": {},
     "output_type": "execute_result"
    }
   ],
   "source": [
    "\n",
    "re.sub('@\\S+','',text_no_hashtag[203479])\n",
    "\n",
    "\n",
    "#\\S- except space,tab,newline (white space)\n",
    "#+- having 1 or more occurence of characters\n",
    "\n",
    "# '@\\S+'- @ (means string will begin from @ ) , then \\S means (we have any character except than (space,tab,newline))\n",
    "#  & then + (we have 1 or more occurences of any character except than (space,tab,newline)).."
   ]
  },
  {
   "cell_type": "code",
   "execution_count": 385,
   "metadata": {},
   "outputs": [],
   "source": [
    "# Now lets remove the mentions from the tweet text\n",
    "def remove_mentions(tweet):\n",
    "    return re.sub('@\\S+','',tweet)\n",
    "\n"
   ]
  },
  {
   "cell_type": "code",
   "execution_count": 386,
   "metadata": {},
   "outputs": [],
   "source": [
    "text_clean_final = text_no_hashtag.map(remove_mentions)"
   ]
  },
  {
   "cell_type": "code",
   "execution_count": 387,
   "metadata": {},
   "outputs": [],
   "source": [
    "troll['tweet_text_only'] = text_clean_final"
   ]
  },
  {
   "cell_type": "code",
   "execution_count": null,
   "metadata": {},
   "outputs": [],
   "source": []
  },
  {
   "cell_type": "code",
   "execution_count": null,
   "metadata": {},
   "outputs": [],
   "source": []
  },
  {
   "cell_type": "code",
   "execution_count": null,
   "metadata": {},
   "outputs": [],
   "source": []
  },
  {
   "cell_type": "code",
   "execution_count": null,
   "metadata": {},
   "outputs": [],
   "source": []
  },
  {
   "cell_type": "markdown",
   "metadata": {},
   "source": [
    "## what user-mentions are extremely used??"
   ]
  },
  {
   "cell_type": "markdown",
   "metadata": {},
   "source": [
    "### Extract user-mentions to analyse text"
   ]
  },
  {
   "cell_type": "code",
   "execution_count": 388,
   "metadata": {},
   "outputs": [],
   "source": [
    "### ways to do it..\n",
    "\n",
    "# 1..using re module (ie re.findall())\n",
    "# 2..using for loop along with list comprehension..\n",
    "# 3..using re.sub() along with loops & list comprehension.."
   ]
  },
  {
   "cell_type": "code",
   "execution_count": null,
   "metadata": {},
   "outputs": [],
   "source": []
  },
  {
   "cell_type": "markdown",
   "metadata": {},
   "source": [
    "### 1..extract_user_mentions using re module (ie re.findall())"
   ]
  },
  {
   "cell_type": "code",
   "execution_count": 389,
   "metadata": {},
   "outputs": [
    {
     "data": {
      "text/plain": [
       "0         False\n",
       "1         False\n",
       "2          True\n",
       "3          True\n",
       "4          True\n",
       "          ...  \n",
       "203477     True\n",
       "203478     True\n",
       "203479     True\n",
       "203480    False\n",
       "203481     True\n",
       "Name: text, Length: 203461, dtype: bool"
      ]
     },
     "execution_count": 389,
     "metadata": {},
     "output_type": "execute_result"
    }
   ],
   "source": [
    "troll['text'].str.contains('@')"
   ]
  },
  {
   "cell_type": "code",
   "execution_count": 390,
   "metadata": {},
   "outputs": [
    {
     "data": {
      "text/plain": [
       "'RT @ltapoll: Who was/is the best president of the past 25 years? (Vote &amp; Retweet)'"
      ]
     },
     "execution_count": 390,
     "metadata": {},
     "output_type": "execute_result"
    }
   ],
   "source": [
    "troll['text'][2]"
   ]
  },
  {
   "cell_type": "code",
   "execution_count": 391,
   "metadata": {},
   "outputs": [
    {
     "data": {
      "text/plain": [
       "['@ltapoll:']"
      ]
     },
     "execution_count": 391,
     "metadata": {},
     "output_type": "execute_result"
    }
   ],
   "source": [
    "re.findall('@\\S+',troll['text'][2])\n",
    "\n",
    "#\\S- except space,tab,newline (white space)\n",
    "#+- having 1 or more occurence of characters\n",
    "\n",
    "# '@\\S+'- @ (means string will begin from @ ) , then \\S means (we have any character except than (space,tab,newline))\n",
    "#  & then + (we have 1 or more occurences of any character except than (space,tab,newline)).."
   ]
  },
  {
   "cell_type": "code",
   "execution_count": 392,
   "metadata": {},
   "outputs": [
    {
     "data": {
      "text/plain": [
       "'RT @ltapoll: Who was/is the best president of the past 25 years? (Vote &amp; Retweet)'"
      ]
     },
     "execution_count": 392,
     "metadata": {},
     "output_type": "execute_result"
    }
   ],
   "source": [
    "troll['text'][2]"
   ]
  },
  {
   "cell_type": "code",
   "execution_count": 393,
   "metadata": {},
   "outputs": [
    {
     "data": {
      "text/plain": [
       "[]"
      ]
     },
     "execution_count": 393,
     "metadata": {},
     "output_type": "execute_result"
    }
   ],
   "source": [
    "re.findall('@\\S+',troll['text'][1])"
   ]
  },
  {
   "cell_type": "code",
   "execution_count": null,
   "metadata": {},
   "outputs": [],
   "source": []
  },
  {
   "cell_type": "code",
   "execution_count": 394,
   "metadata": {},
   "outputs": [],
   "source": [
    "### now u will observe we have some rows that have no hashtags & some rows that have hashtag\n",
    "### so lets define a function to handle both scenario.."
   ]
  },
  {
   "cell_type": "code",
   "execution_count": 395,
   "metadata": {},
   "outputs": [],
   "source": [
    "def extract_user_mentions(tweet):\n",
    "    '''Provide a tweet and extract user mentions from it'''\n",
    "    user_mentions_only = []\n",
    "    if len(re.findall('@\\S+',tweet)) > 0:\n",
    "        user_mentions_only.append(re.findall('@\\S+',tweet))\n",
    "    else:\n",
    "        user_mentions_only.append([\"0\"])\n",
    "    return user_mentions_only[0]\n",
    "\n",
    "\n",
    "## return is user_mentions_only[0] bcz u need it in 1-D aray /list like ['@company', '@businesses']\n",
    "## not in 2-D array/list like  [['@company', '@businesses']]"
   ]
  },
  {
   "cell_type": "code",
   "execution_count": 396,
   "metadata": {},
   "outputs": [
    {
     "data": {
      "text/plain": [
       "['@ltapoll:']"
      ]
     },
     "execution_count": 396,
     "metadata": {},
     "output_type": "execute_result"
    }
   ],
   "source": [
    "extract_user_mentions(troll['text'][2])"
   ]
  },
  {
   "cell_type": "code",
   "execution_count": 397,
   "metadata": {},
   "outputs": [],
   "source": [
    "troll['user_mentions'] = troll['text'].apply(extract_user_mentions)"
   ]
  },
  {
   "cell_type": "code",
   "execution_count": null,
   "metadata": {},
   "outputs": [],
   "source": []
  },
  {
   "cell_type": "markdown",
   "metadata": {},
   "source": [
    "### must follow-->> https://stackoverflow.com/questions/2527892/parsing-a-tweet-to-extract-hashtags-into-an-array"
   ]
  },
  {
   "cell_type": "code",
   "execution_count": null,
   "metadata": {},
   "outputs": [],
   "source": []
  },
  {
   "cell_type": "markdown",
   "metadata": {},
   "source": [
    "### 2..extract_user_mentions using for loop along with some condition.."
   ]
  },
  {
   "cell_type": "code",
   "execution_count": 398,
   "metadata": {},
   "outputs": [
    {
     "data": {
      "text/plain": [
       "'RT @ltapoll: Who was/is the best president of the past 25 years? (Vote &amp; Retweet)'"
      ]
     },
     "execution_count": 398,
     "metadata": {},
     "output_type": "execute_result"
    }
   ],
   "source": [
    "troll['text'][2]"
   ]
  },
  {
   "cell_type": "code",
   "execution_count": 399,
   "metadata": {},
   "outputs": [],
   "source": [
    "def extract_user_mentions(text):\n",
    "    return list(set(part for part in text.split() if part.startswith('@')))\n"
   ]
  },
  {
   "cell_type": "code",
   "execution_count": 400,
   "metadata": {},
   "outputs": [
    {
     "data": {
      "text/plain": [
       "['@ltapoll:']"
      ]
     },
     "execution_count": 400,
     "metadata": {},
     "output_type": "execute_result"
    }
   ],
   "source": [
    "extract_user_mentions(troll['text'][2])"
   ]
  },
  {
   "cell_type": "code",
   "execution_count": null,
   "metadata": {},
   "outputs": [],
   "source": []
  },
  {
   "cell_type": "code",
   "execution_count": null,
   "metadata": {},
   "outputs": [],
   "source": []
  },
  {
   "cell_type": "markdown",
   "metadata": {},
   "source": [
    "### 3.. extract_user_mentions using re.sub() along with loops & list comprehension.."
   ]
  },
  {
   "cell_type": "code",
   "execution_count": 401,
   "metadata": {},
   "outputs": [],
   "source": [
    "text=troll['text'][2]"
   ]
  },
  {
   "cell_type": "code",
   "execution_count": 402,
   "metadata": {},
   "outputs": [
    {
     "data": {
      "text/plain": [
       "'RT @ltapoll: Who was/is the best president of the past 25 years? (Vote &amp; Retweet)'"
      ]
     },
     "execution_count": 402,
     "metadata": {},
     "output_type": "execute_result"
    }
   ],
   "source": [
    "text"
   ]
  },
  {
   "cell_type": "code",
   "execution_count": 403,
   "metadata": {},
   "outputs": [
    {
     "data": {
      "text/plain": [
       "{'@ltapoll'}"
      ]
     },
     "execution_count": 403,
     "metadata": {},
     "output_type": "execute_result"
    }
   ],
   "source": [
    "set([re.sub(r\"(\\W+)$\", \"\", j, flags = re.UNICODE) for j in set([i for i in text.split() if i.startswith(\"@\")])])\n",
    "\n",
    "## bcz @ is not my word character(a-z,A-Z,underscore) as it is a special symbol..so I will say I use \\W to denot it.."
   ]
  },
  {
   "cell_type": "code",
   "execution_count": null,
   "metadata": {},
   "outputs": [],
   "source": []
  },
  {
   "cell_type": "code",
   "execution_count": 404,
   "metadata": {},
   "outputs": [],
   "source": [
    "# ( ) - used for group the characters\n",
    "# \\W : matches any non-word character ie all chars except than ([A-Za-z0-9_])\n",
    "#    note : word character(\\w) are those which are basically alpha-numeric ie range is ([A-Za-z0-9_])\n",
    "\n",
    "# + - having one or more occurences \n",
    "# $ - indicates the end of a string.."
   ]
  },
  {
   "cell_type": "code",
   "execution_count": 405,
   "metadata": {},
   "outputs": [],
   "source": [
    "### using loops "
   ]
  },
  {
   "cell_type": "code",
   "execution_count": 406,
   "metadata": {},
   "outputs": [],
   "source": [
    "text_list=[]\n",
    "text_list_hastags=[]\n",
    "for i in text.split():\n",
    "    if i.startswith(\"@\"):\n",
    "        text_list.append(i)\n",
    "for j in set(text_list):\n",
    "    text_list_hastags.append(re.sub(r\"(\\W+)$\", \"\", j, flags = re.UNICODE))"
   ]
  },
  {
   "cell_type": "code",
   "execution_count": 407,
   "metadata": {},
   "outputs": [
    {
     "data": {
      "text/plain": [
       "'RT @ltapoll: Who was/is the best president of the past 25 years? (Vote &amp; Retweet)'"
      ]
     },
     "execution_count": 407,
     "metadata": {},
     "output_type": "execute_result"
    }
   ],
   "source": [
    "text"
   ]
  },
  {
   "cell_type": "code",
   "execution_count": 408,
   "metadata": {},
   "outputs": [
    {
     "data": {
      "text/plain": [
       "{'@ltapoll'}"
      ]
     },
     "execution_count": 408,
     "metadata": {},
     "output_type": "execute_result"
    }
   ],
   "source": [
    "set(text_list_hastags)"
   ]
  },
  {
   "cell_type": "code",
   "execution_count": null,
   "metadata": {},
   "outputs": [],
   "source": []
  },
  {
   "cell_type": "code",
   "execution_count": null,
   "metadata": {},
   "outputs": [],
   "source": []
  },
  {
   "cell_type": "code",
   "execution_count": null,
   "metadata": {},
   "outputs": [],
   "source": []
  },
  {
   "cell_type": "markdown",
   "metadata": {},
   "source": [
    "### What hashtags are being used the most?"
   ]
  },
  {
   "cell_type": "code",
   "execution_count": 409,
   "metadata": {},
   "outputs": [],
   "source": [
    "## extracting hashtags"
   ]
  },
  {
   "cell_type": "code",
   "execution_count": 410,
   "metadata": {},
   "outputs": [],
   "source": [
    "# 1..using re module (ie re.findall())\n",
    "# 2..using different pattern in re.findall() to extract hashtags\n",
    "# 3..using for loop along with list comprehension..\n",
    "# 4..using re.sub() along with loops & list comprehension.."
   ]
  },
  {
   "cell_type": "code",
   "execution_count": null,
   "metadata": {},
   "outputs": [],
   "source": []
  },
  {
   "cell_type": "markdown",
   "metadata": {},
   "source": [
    "### 1..extract hashtags using re module (ie re.findall())"
   ]
  },
  {
   "cell_type": "code",
   "execution_count": 411,
   "metadata": {},
   "outputs": [
    {
     "data": {
      "text/plain": [
       "0          True\n",
       "1         False\n",
       "2         False\n",
       "3          True\n",
       "4         False\n",
       "          ...  \n",
       "203477    False\n",
       "203478     True\n",
       "203479     True\n",
       "203480    False\n",
       "203481    False\n",
       "Name: text, Length: 203461, dtype: bool"
      ]
     },
     "execution_count": 411,
     "metadata": {},
     "output_type": "execute_result"
    }
   ],
   "source": [
    "troll['text'].str.contains('#')"
   ]
  },
  {
   "cell_type": "code",
   "execution_count": 412,
   "metadata": {},
   "outputs": [
    {
     "data": {
      "text/plain": [
       "'#IslamKills Are you trying to say that there were no terrorist attacks in Europe before refugees were let in?'"
      ]
     },
     "execution_count": 412,
     "metadata": {},
     "output_type": "execute_result"
    }
   ],
   "source": [
    "troll['text'][0]"
   ]
  },
  {
   "cell_type": "code",
   "execution_count": 413,
   "metadata": {},
   "outputs": [
    {
     "data": {
      "text/plain": [
       "['#IslamKills']"
      ]
     },
     "execution_count": 413,
     "metadata": {},
     "output_type": "execute_result"
    }
   ],
   "source": [
    "re.findall('#\\S+',troll['text'][0])\n",
    "\n",
    "### re.findall('#\\w+',troll['text'][0])\n",
    "\n",
    "\n",
    "# \\w-->> word char(a-z,A-Z,underscore)\n",
    "# +-->> 1 or more occurences of character"
   ]
  },
  {
   "cell_type": "code",
   "execution_count": 414,
   "metadata": {},
   "outputs": [],
   "source": [
    "# '#\\S+'- what does it mean??\n",
    "\n",
    "#  # (means string will begin from # ) , then \\S means (we have any character except than (space,tab,newline))\n",
    "#  & then + quantifiers (we have 1 or more occurences of character except than (space,tab,newline)).."
   ]
  },
  {
   "cell_type": "code",
   "execution_count": 415,
   "metadata": {},
   "outputs": [
    {
     "data": {
      "text/plain": [
       "'RT @signsinyork: Getting the right #company logo: How #businesses got their message across @smallbusinessuk https://t.co/Fnse5GA6DC'"
      ]
     },
     "execution_count": 415,
     "metadata": {},
     "output_type": "execute_result"
    }
   ],
   "source": [
    "troll['text'][203479]"
   ]
  },
  {
   "cell_type": "code",
   "execution_count": 416,
   "metadata": {},
   "outputs": [
    {
     "data": {
      "text/plain": [
       "['#company', '#businesses']"
      ]
     },
     "execution_count": 416,
     "metadata": {},
     "output_type": "execute_result"
    }
   ],
   "source": [
    "re.findall('#\\S+',troll['text'][203479])"
   ]
  },
  {
   "cell_type": "code",
   "execution_count": null,
   "metadata": {},
   "outputs": [],
   "source": []
  },
  {
   "cell_type": "code",
   "execution_count": 417,
   "metadata": {},
   "outputs": [
    {
     "data": {
      "text/plain": [
       "2"
      ]
     },
     "execution_count": 417,
     "metadata": {},
     "output_type": "execute_result"
    }
   ],
   "source": [
    "len(re.findall('#\\S+',troll['text'][203479]))"
   ]
  },
  {
   "cell_type": "code",
   "execution_count": 418,
   "metadata": {},
   "outputs": [],
   "source": [
    "\n",
    "def extract_hashtags(tweet):\n",
    "    '''Provide a tweet and extract hashtags from it'''\n",
    "    hashtags_only = []\n",
    "    if len(re.findall('#\\S+',tweet)) > 0:\n",
    "        hashtags_only.append(re.findall('#\\S+',tweet))\n",
    "    else:\n",
    "        hashtags_only.append([\"0\"])\n",
    "    return hashtags_only[0]\n",
    "\n",
    "\n",
    "## return is hashtags_only[0] bcz u need it in 1-D aray /list like ['#company', '#businesses']\n",
    "## not in 2-D array/list like  [['#company', '#businesses']]"
   ]
  },
  {
   "cell_type": "code",
   "execution_count": 419,
   "metadata": {},
   "outputs": [
    {
     "data": {
      "text/plain": [
       "['#company', '#businesses']"
      ]
     },
     "execution_count": 419,
     "metadata": {},
     "output_type": "execute_result"
    }
   ],
   "source": [
    "extract_hashtags(troll['text'][203479])"
   ]
  },
  {
   "cell_type": "code",
   "execution_count": 420,
   "metadata": {},
   "outputs": [],
   "source": [
    "troll['tweet_hashtags'] = troll['text'].map(extract_hashtags)"
   ]
  },
  {
   "cell_type": "code",
   "execution_count": 421,
   "metadata": {},
   "outputs": [
    {
     "data": {
      "text/html": [
       "<div>\n",
       "<style scoped>\n",
       "    .dataframe tbody tr th:only-of-type {\n",
       "        vertical-align: middle;\n",
       "    }\n",
       "\n",
       "    .dataframe tbody tr th {\n",
       "        vertical-align: top;\n",
       "    }\n",
       "\n",
       "    .dataframe thead th {\n",
       "        text-align: right;\n",
       "    }\n",
       "</style>\n",
       "<table border=\"1\" class=\"dataframe\">\n",
       "  <thead>\n",
       "    <tr style=\"text-align: right;\">\n",
       "      <th></th>\n",
       "      <th>user_id</th>\n",
       "      <th>user_key</th>\n",
       "      <th>created_at</th>\n",
       "      <th>created_str</th>\n",
       "      <th>retweet_count</th>\n",
       "      <th>retweeted</th>\n",
       "      <th>favorite_count</th>\n",
       "      <th>text</th>\n",
       "      <th>tweet_id</th>\n",
       "      <th>source</th>\n",
       "      <th>hashtags</th>\n",
       "      <th>expanded_urls</th>\n",
       "      <th>posted</th>\n",
       "      <th>mentions</th>\n",
       "      <th>retweeted_status_id</th>\n",
       "      <th>in_reply_to_status_id</th>\n",
       "      <th>created_str_date</th>\n",
       "      <th>tweet_text_only</th>\n",
       "      <th>user_mentions</th>\n",
       "      <th>tweet_hashtags</th>\n",
       "    </tr>\n",
       "  </thead>\n",
       "  <tbody>\n",
       "    <tr>\n",
       "      <th>0</th>\n",
       "      <td>1.868981e+09</td>\n",
       "      <td>ryanmaxwell_1</td>\n",
       "      <td>1.458672e+12</td>\n",
       "      <td>2016-03-22 18:31:42</td>\n",
       "      <td>NaN</td>\n",
       "      <td>NaN</td>\n",
       "      <td>NaN</td>\n",
       "      <td>#IslamKills Are you trying to say that there w...</td>\n",
       "      <td>7.123460e+17</td>\n",
       "      <td>NaN</td>\n",
       "      <td>[\"IslamKills\"]</td>\n",
       "      <td>[]</td>\n",
       "      <td>POSTED</td>\n",
       "      <td>[]</td>\n",
       "      <td>NaN</td>\n",
       "      <td>NaN</td>\n",
       "      <td>2016-03-22</td>\n",
       "      <td>Are you trying to say that there were no terr...</td>\n",
       "      <td>[0]</td>\n",
       "      <td>[#IslamKills]</td>\n",
       "    </tr>\n",
       "    <tr>\n",
       "      <th>1</th>\n",
       "      <td>2.571870e+09</td>\n",
       "      <td>detroitdailynew</td>\n",
       "      <td>1.476133e+12</td>\n",
       "      <td>2016-10-10 20:57:00</td>\n",
       "      <td>0.0</td>\n",
       "      <td>False</td>\n",
       "      <td>0.0</td>\n",
       "      <td>Clinton: Trump should’ve apologized more, atta...</td>\n",
       "      <td>7.855849e+17</td>\n",
       "      <td>&lt;a href=\"http://twitterfeed.com\" rel=\"nofollow...</td>\n",
       "      <td>[]</td>\n",
       "      <td>[\"http://detne.ws/2e172jF\"]</td>\n",
       "      <td>POSTED</td>\n",
       "      <td>[]</td>\n",
       "      <td>NaN</td>\n",
       "      <td>NaN</td>\n",
       "      <td>2016-10-10</td>\n",
       "      <td>Clinton: Trump should’ve apologized more, atta...</td>\n",
       "      <td>[0]</td>\n",
       "      <td>[0]</td>\n",
       "    </tr>\n",
       "  </tbody>\n",
       "</table>\n",
       "</div>"
      ],
      "text/plain": [
       "        user_id         user_key    created_at          created_str  \\\n",
       "0  1.868981e+09    ryanmaxwell_1  1.458672e+12  2016-03-22 18:31:42   \n",
       "1  2.571870e+09  detroitdailynew  1.476133e+12  2016-10-10 20:57:00   \n",
       "\n",
       "   retweet_count retweeted  favorite_count  \\\n",
       "0            NaN       NaN             NaN   \n",
       "1            0.0     False             0.0   \n",
       "\n",
       "                                                text      tweet_id  \\\n",
       "0  #IslamKills Are you trying to say that there w...  7.123460e+17   \n",
       "1  Clinton: Trump should’ve apologized more, atta...  7.855849e+17   \n",
       "\n",
       "                                              source        hashtags  \\\n",
       "0                                                NaN  [\"IslamKills\"]   \n",
       "1  <a href=\"http://twitterfeed.com\" rel=\"nofollow...              []   \n",
       "\n",
       "                 expanded_urls  posted mentions  retweeted_status_id  \\\n",
       "0                           []  POSTED       []                  NaN   \n",
       "1  [\"http://detne.ws/2e172jF\"]  POSTED       []                  NaN   \n",
       "\n",
       "   in_reply_to_status_id created_str_date  \\\n",
       "0                    NaN       2016-03-22   \n",
       "1                    NaN       2016-10-10   \n",
       "\n",
       "                                     tweet_text_only user_mentions  \\\n",
       "0   Are you trying to say that there were no terr...           [0]   \n",
       "1  Clinton: Trump should’ve apologized more, atta...           [0]   \n",
       "\n",
       "  tweet_hashtags  \n",
       "0  [#IslamKills]  \n",
       "1            [0]  "
      ]
     },
     "execution_count": 421,
     "metadata": {},
     "output_type": "execute_result"
    }
   ],
   "source": [
    "troll.head(2)"
   ]
  },
  {
   "cell_type": "code",
   "execution_count": null,
   "metadata": {},
   "outputs": [],
   "source": []
  },
  {
   "cell_type": "code",
   "execution_count": null,
   "metadata": {},
   "outputs": [],
   "source": []
  },
  {
   "cell_type": "markdown",
   "metadata": {},
   "source": [
    "### 2..extract hashtags using different pattern in re.findall() to extract hashtags"
   ]
  },
  {
   "cell_type": "code",
   "execution_count": 422,
   "metadata": {},
   "outputs": [
    {
     "data": {
      "text/plain": [
       "'#IslamKills Are you trying to say that there were no terrorist attacks in Europe before refugees were let in?'"
      ]
     },
     "execution_count": 422,
     "metadata": {},
     "output_type": "execute_result"
    }
   ],
   "source": [
    "troll['text'][0]"
   ]
  },
  {
   "cell_type": "code",
   "execution_count": 423,
   "metadata": {},
   "outputs": [
    {
     "data": {
      "text/plain": [
       "['IslamKills',\n",
       " 'Are',\n",
       " 'you',\n",
       " 'trying',\n",
       " 'to',\n",
       " 'say',\n",
       " 'that',\n",
       " 'there',\n",
       " 'were',\n",
       " 'no',\n",
       " 'terrorist',\n",
       " 'attacks',\n",
       " 'in',\n",
       " 'Europe',\n",
       " 'before',\n",
       " 'refugees',\n",
       " 'were',\n",
       " 'let',\n",
       " 'in?']"
      ]
     },
     "execution_count": 423,
     "metadata": {},
     "output_type": "execute_result"
    }
   ],
   "source": [
    "re.findall('[^#\\s]+',troll['text'][0])\n",
    "\n",
    "\n",
    "\n",
    "# '[^#\\s]+'- what does it mean??\n",
    "\n",
    "#   [] = it is metacharacter ie ([] this holds set of characters)\n",
    "#   ^ -  beginning of a string..\n",
    "#   #\\s - # (means string will begin from # ) , then \\s means we have space characters(ie space,tab,newline))\n",
    "#   & then + quantifiers (we have 1 or more occurences of characters..\n",
    "\n",
    "\n",
    "#  & then + quantifiers (we have 1 or more occurences of character except than (space,tab,newline)).."
   ]
  },
  {
   "cell_type": "code",
   "execution_count": 424,
   "metadata": {},
   "outputs": [
    {
     "data": {
      "text/plain": [
       "['#IslamKills']"
      ]
     },
     "execution_count": 424,
     "metadata": {},
     "output_type": "execute_result"
    }
   ],
   "source": [
    "re.findall('#[^#\\s]+',troll['text'][0])\n",
    "\n",
    "\n",
    "# '#[^#\\s]+'- what does it mean??\n",
    "\n",
    "#   [] = it is metacharacter ie ([] this holds set of characters)\n",
    "#   ^ -  beginning of a string\n",
    "#   #\\s - # (means string will begin from # ) , then \\s means we have space characters(ie space,tab,newline))\n",
    "\n",
    "\n",
    "#  & then + quantifiers (we have 1 or more occurences of character except than (space,tab,newline)).."
   ]
  },
  {
   "cell_type": "code",
   "execution_count": 425,
   "metadata": {},
   "outputs": [
    {
     "data": {
      "text/plain": [
       "2"
      ]
     },
     "execution_count": 425,
     "metadata": {},
     "output_type": "execute_result"
    }
   ],
   "source": [
    "len(re.findall('#\\S+',troll['text'][203479]))"
   ]
  },
  {
   "cell_type": "code",
   "execution_count": 426,
   "metadata": {},
   "outputs": [
    {
     "data": {
      "text/plain": [
       "'\\n### alternative of above function..\\ndef extract_hashtags(tweet):\\n    ##Provide a tweet and extract hashtags from it\\'\\n    hashtags_only = []\\n    if len(re.findall(\"(#[^#\\\\s]+)\", tweet)) > 0:\\n        hashtags_only.append(re.findall(\"(#[^#\\\\s]+)\", tweet))\\n    else:\\n        hashtags_only.append([\"0\"])\\n    return hashtags_only[0]\\n    \\n '"
      ]
     },
     "execution_count": 426,
     "metadata": {},
     "output_type": "execute_result"
    }
   ],
   "source": [
    "'''\n",
    "### alternative of above function..\n",
    "def extract_hashtags(tweet):\n",
    "    ##Provide a tweet and extract hashtags from it'\n",
    "    hashtags_only = []\n",
    "    if len(re.findall(\"(#[^#\\s]+)\", tweet)) > 0:\n",
    "        hashtags_only.append(re.findall(\"(#[^#\\s]+)\", tweet))\n",
    "    else:\n",
    "        hashtags_only.append([\"0\"])\n",
    "    return hashtags_only[0]\n",
    "    \n",
    " '''   "
   ]
  },
  {
   "cell_type": "code",
   "execution_count": null,
   "metadata": {},
   "outputs": [],
   "source": []
  },
  {
   "cell_type": "code",
   "execution_count": null,
   "metadata": {},
   "outputs": [],
   "source": []
  },
  {
   "cell_type": "markdown",
   "metadata": {},
   "source": [
    "### 3.. extract hashtags using for loop along with list comprehension.."
   ]
  },
  {
   "cell_type": "code",
   "execution_count": 427,
   "metadata": {},
   "outputs": [],
   "source": [
    "def extract_hash_tags(text):\n",
    "    return list(set(part for part in text.split() if part.startswith('#')))"
   ]
  },
  {
   "cell_type": "code",
   "execution_count": 428,
   "metadata": {},
   "outputs": [
    {
     "data": {
      "text/plain": [
       "['#IslamKills']"
      ]
     },
     "execution_count": 428,
     "metadata": {},
     "output_type": "execute_result"
    }
   ],
   "source": [
    "extract_hash_tags(troll['text'][0])"
   ]
  },
  {
   "cell_type": "code",
   "execution_count": null,
   "metadata": {},
   "outputs": [],
   "source": []
  },
  {
   "cell_type": "code",
   "execution_count": null,
   "metadata": {},
   "outputs": [],
   "source": []
  },
  {
   "cell_type": "markdown",
   "metadata": {},
   "source": [
    "### 4.. extract hashtags using re.sub() along with loops & list comprehension.."
   ]
  },
  {
   "cell_type": "code",
   "execution_count": 429,
   "metadata": {},
   "outputs": [],
   "source": [
    "text=troll['text'][0]"
   ]
  },
  {
   "cell_type": "code",
   "execution_count": 430,
   "metadata": {},
   "outputs": [
    {
     "data": {
      "text/plain": [
       "'#IslamKills Are you trying to say that there were no terrorist attacks in Europe before refugees were let in?'"
      ]
     },
     "execution_count": 430,
     "metadata": {},
     "output_type": "execute_result"
    }
   ],
   "source": [
    "text"
   ]
  },
  {
   "cell_type": "code",
   "execution_count": 431,
   "metadata": {},
   "outputs": [
    {
     "data": {
      "text/plain": [
       "{'#IslamKills'}"
      ]
     },
     "execution_count": 431,
     "metadata": {},
     "output_type": "execute_result"
    }
   ],
   "source": [
    "set([re.sub(r\"(\\W+)$\", \"\", j, flags = re.UNICODE) for j in set([i for i in text.split() if i.startswith(\"#\")])])\n",
    "\n",
    "## bcz @ is not my word character(a-z,A-Z,underscore) as it is a special symbol..so I will say I use \\W to denot it.."
   ]
  },
  {
   "cell_type": "code",
   "execution_count": 432,
   "metadata": {},
   "outputs": [],
   "source": [
    "# ( ) - used for group the characters\n",
    "# \\W : matches any non-word character ie all chars except than ([A-Za-z0-9_])\n",
    "#    note : word character(\\w) are those which are basically alpha-numeric ie range is ([A-Za-z0-9_])\n",
    "\n",
    "# + - having one or more occurences \n",
    "# $ - indicates the end of a string.."
   ]
  },
  {
   "cell_type": "code",
   "execution_count": null,
   "metadata": {},
   "outputs": [],
   "source": []
  },
  {
   "cell_type": "code",
   "execution_count": 433,
   "metadata": {},
   "outputs": [],
   "source": [
    "### using loops"
   ]
  },
  {
   "cell_type": "code",
   "execution_count": 434,
   "metadata": {},
   "outputs": [],
   "source": [
    "text_list=[]\n",
    "text_list_hastags=[]\n",
    "for i in text.split():\n",
    "    if i.startswith(\"#\"):\n",
    "        text_list.append(i)\n",
    "for j in set(text_list):\n",
    "    text_list_hastags.append(re.sub(r\"(\\W+)$\", \"\", j, flags = re.UNICODE))"
   ]
  },
  {
   "cell_type": "code",
   "execution_count": 435,
   "metadata": {},
   "outputs": [
    {
     "data": {
      "text/plain": [
       "{'#IslamKills'}"
      ]
     },
     "execution_count": 435,
     "metadata": {},
     "output_type": "execute_result"
    }
   ],
   "source": [
    "set(text_list_hastags)"
   ]
  },
  {
   "cell_type": "code",
   "execution_count": null,
   "metadata": {},
   "outputs": [],
   "source": []
  },
  {
   "cell_type": "code",
   "execution_count": null,
   "metadata": {},
   "outputs": [],
   "source": []
  },
  {
   "cell_type": "code",
   "execution_count": null,
   "metadata": {},
   "outputs": [],
   "source": []
  },
  {
   "cell_type": "code",
   "execution_count": null,
   "metadata": {},
   "outputs": [],
   "source": []
  },
  {
   "cell_type": "markdown",
   "metadata": {},
   "source": [
    "### Perform Wordcloud Analysis on Tweets_hashtags to understand which are my most frequently used hashtags??"
   ]
  },
  {
   "cell_type": "code",
   "execution_count": 436,
   "metadata": {},
   "outputs": [
    {
     "data": {
      "text/plain": [
       "0            [#IslamKills]\n",
       "1                      [0]\n",
       "2                      [0]\n",
       "3    [#ChristmasAftermath]\n",
       "4                      [0]\n",
       "Name: tweet_hashtags, dtype: object"
      ]
     },
     "execution_count": 436,
     "metadata": {},
     "output_type": "execute_result"
    }
   ],
   "source": [
    "troll['tweet_hashtags'].head(5)"
   ]
  },
  {
   "cell_type": "code",
   "execution_count": 437,
   "metadata": {},
   "outputs": [],
   "source": [
    "### Next we need to extract all hashtags from the tweet_hashtags column and take a frequency count of those!"
   ]
  },
  {
   "cell_type": "code",
   "execution_count": 438,
   "metadata": {},
   "outputs": [],
   "source": [
    "all_hashtags = troll['tweet_hashtags'].tolist()\n"
   ]
  },
  {
   "cell_type": "code",
   "execution_count": 439,
   "metadata": {},
   "outputs": [
    {
     "data": {
      "text/plain": [
       "list"
      ]
     },
     "execution_count": 439,
     "metadata": {},
     "output_type": "execute_result"
    }
   ],
   "source": [
    "type(all_hashtags)"
   ]
  },
  {
   "cell_type": "code",
   "execution_count": null,
   "metadata": {},
   "outputs": [],
   "source": []
  },
  {
   "cell_type": "code",
   "execution_count": 440,
   "metadata": {},
   "outputs": [],
   "source": [
    "## all_hashtags is a 2-D list(ie list of lists) , we need to convert it into 1-D list..."
   ]
  },
  {
   "cell_type": "code",
   "execution_count": 441,
   "metadata": {},
   "outputs": [],
   "source": [
    "\n",
    "# Next we observe that our all_hashtags is a list of lists...lets change that 2-D into 1-D list as we have to create its Dataframe,\n",
    "## thats why we have to convert\n",
    "\n",
    "\n",
    "## ways to convert 2-D into 1-D list or Ways to flatten a 2D list --\n",
    "# 1..using list comprehension\n",
    "# 2..using for loop ..\n",
    "# 3..using chain.iterable()\n",
    "# 4..using functools.reduce\n",
    "# 5..using in-built sum function.\n",
    "# 6..using numpy\n",
    "# 7..using lambda"
   ]
  },
  {
   "cell_type": "code",
   "execution_count": null,
   "metadata": {},
   "outputs": [],
   "source": []
  },
  {
   "cell_type": "markdown",
   "metadata": {},
   "source": [
    "##### Convert 2-D list into 1-D list-->> \n",
    "https://www.geeksforgeeks.org/python-ways-to-flatten-a-2d-list/"
   ]
  },
  {
   "cell_type": "markdown",
   "metadata": {},
   "source": [
    "### 1..Convert 2-D list into 1-D list using for loop & list comprehension"
   ]
  },
  {
   "cell_type": "code",
   "execution_count": 442,
   "metadata": {},
   "outputs": [],
   "source": [
    "cleaned_hashtags=[j for i in all_hashtags for j in i]"
   ]
  },
  {
   "cell_type": "code",
   "execution_count": 443,
   "metadata": {},
   "outputs": [
    {
     "data": {
      "text/plain": [
       "['#IslamKills', '0', '0', '#ChristmasAftermath', '0']"
      ]
     },
     "execution_count": 443,
     "metadata": {},
     "output_type": "execute_result"
    }
   ],
   "source": [
    "cleaned_hashtags[0:5]"
   ]
  },
  {
   "cell_type": "code",
   "execution_count": null,
   "metadata": {},
   "outputs": [],
   "source": []
  },
  {
   "cell_type": "code",
   "execution_count": null,
   "metadata": {},
   "outputs": [],
   "source": []
  },
  {
   "cell_type": "markdown",
   "metadata": {},
   "source": [
    "### 2..Convert 2-D list into 1-D list using (for loop ).."
   ]
  },
  {
   "cell_type": "code",
   "execution_count": 444,
   "metadata": {},
   "outputs": [],
   "source": [
    "cleaned_hashtags = []\n",
    "for i in all_hashtags:\n",
    "    for j in i:\n",
    "        cleaned_hashtags.append(j)\n"
   ]
  },
  {
   "cell_type": "code",
   "execution_count": 445,
   "metadata": {},
   "outputs": [
    {
     "data": {
      "text/plain": [
       "['#IslamKills',\n",
       " '0',\n",
       " '0',\n",
       " '#ChristmasAftermath',\n",
       " '0',\n",
       " '0',\n",
       " '0',\n",
       " '0',\n",
       " '0',\n",
       " '#BlackLivesMatter',\n",
       " '#BlackPressDay',\n",
       " '#myfarewellwordswouldbe']"
      ]
     },
     "execution_count": 445,
     "metadata": {},
     "output_type": "execute_result"
    }
   ],
   "source": [
    "cleaned_hashtags[0:12]"
   ]
  },
  {
   "cell_type": "code",
   "execution_count": null,
   "metadata": {},
   "outputs": [],
   "source": []
  },
  {
   "cell_type": "code",
   "execution_count": null,
   "metadata": {},
   "outputs": [],
   "source": []
  },
  {
   "cell_type": "markdown",
   "metadata": {},
   "source": [
    "### 3: Convert 2-D list into 1-D list Using chain.iterable() "
   ]
  },
  {
   "cell_type": "code",
   "execution_count": 446,
   "metadata": {},
   "outputs": [],
   "source": [
    "from itertools import chain"
   ]
  },
  {
   "cell_type": "code",
   "execution_count": 447,
   "metadata": {},
   "outputs": [],
   "source": [
    "flatten_list = list(chain.from_iterable(all_hashtags))"
   ]
  },
  {
   "cell_type": "code",
   "execution_count": 448,
   "metadata": {},
   "outputs": [
    {
     "data": {
      "text/plain": [
       "['#IslamKills',\n",
       " '0',\n",
       " '0',\n",
       " '#ChristmasAftermath',\n",
       " '0',\n",
       " '0',\n",
       " '0',\n",
       " '0',\n",
       " '0',\n",
       " '#BlackLivesMatter']"
      ]
     },
     "execution_count": 448,
     "metadata": {},
     "output_type": "execute_result"
    }
   ],
   "source": [
    "flatten_list[0:10]"
   ]
  },
  {
   "cell_type": "code",
   "execution_count": null,
   "metadata": {},
   "outputs": [],
   "source": []
  },
  {
   "cell_type": "code",
   "execution_count": null,
   "metadata": {},
   "outputs": [],
   "source": []
  },
  {
   "cell_type": "markdown",
   "metadata": {},
   "source": [
    "### 4..Convert 2-D list into 1-D list Using functools.reduce  "
   ]
  },
  {
   "cell_type": "raw",
   "metadata": {},
   "source": [
    "The reduce(fun,seq) function is used to apply a particular function on top of sequence..\n",
    "This reduce function is defined in “functools” module."
   ]
  },
  {
   "cell_type": "code",
   "execution_count": 449,
   "metadata": {},
   "outputs": [],
   "source": [
    "### lets understand reduce from basic code, .."
   ]
  },
  {
   "cell_type": "code",
   "execution_count": 450,
   "metadata": {},
   "outputs": [
    {
     "data": {
      "text/plain": [
       "10"
      ]
     },
     "execution_count": 450,
     "metadata": {},
     "output_type": "execute_result"
    }
   ],
   "source": [
    "def my_add(a, b):\n",
    "    result = a + b\n",
    "    return result\n",
    "\n",
    "\n",
    "## my_add(5, 5) gives 10\n",
    "\n",
    "\n",
    "## lets do above tasks using reduce , let say add the numbers of a list..\n",
    "from functools import reduce\n",
    "numbers = [0, 1, 2, 3, 4]\n",
    "reduce(my_add, numbers)  ### ie apply my_add function on top of numbers\n",
    "\n",
    "\n",
    "### using reduce along with lambda\n",
    "### ie we have some inputs as x & y , & we have to apply operations as x + y on numbers list..\n",
    "\n",
    "reduce(lambda x , y : x + y  , numbers)"
   ]
  },
  {
   "cell_type": "code",
   "execution_count": 451,
   "metadata": {},
   "outputs": [
    {
     "data": {
      "text/plain": [
       "'\\n0 + 1 = 1\\n1 + 2 = 3\\n3 + 3 = 6\\n6 + 4 = 10\\n'"
      ]
     },
     "execution_count": 451,
     "metadata": {},
     "output_type": "execute_result"
    }
   ],
   "source": [
    "### behind the scenes\n",
    "'''\n",
    "0 + 1 = 1\n",
    "1 + 2 = 3\n",
    "3 + 3 = 6\n",
    "6 + 4 = 10\n",
    "'''"
   ]
  },
  {
   "cell_type": "code",
   "execution_count": null,
   "metadata": {},
   "outputs": [],
   "source": []
  },
  {
   "cell_type": "code",
   "execution_count": null,
   "metadata": {},
   "outputs": [],
   "source": []
  },
  {
   "cell_type": "code",
   "execution_count": 452,
   "metadata": {},
   "outputs": [],
   "source": [
    "from functools import reduce"
   ]
  },
  {
   "cell_type": "code",
   "execution_count": 453,
   "metadata": {},
   "outputs": [
    {
     "data": {
      "text/plain": [
       "[['#IslamKills'],\n",
       " ['0'],\n",
       " ['0'],\n",
       " ['#ChristmasAftermath'],\n",
       " ['0'],\n",
       " ['0'],\n",
       " ['0'],\n",
       " ['0'],\n",
       " ['0'],\n",
       " ['#BlackLivesMatter', '#BlackPressDay']]"
      ]
     },
     "execution_count": 453,
     "metadata": {},
     "output_type": "execute_result"
    }
   ],
   "source": [
    "all_hashtags[0:10]"
   ]
  },
  {
   "cell_type": "code",
   "execution_count": 454,
   "metadata": {},
   "outputs": [],
   "source": [
    "## taking more than 5 min for entire list,  hence good to consider 10000 rows\n",
    "\n",
    "# converting 2d list into 1d\n",
    "# using functools.reduce\n",
    "flatten_list = reduce(lambda z, y :z + y, all_hashtags[0:10000])\n",
    "\n",
    "\n",
    "### ie we have some inputs as z & y , & we have to apply operation as z + y on top of first 10K observations of all_hashtags..."
   ]
  },
  {
   "cell_type": "code",
   "execution_count": 455,
   "metadata": {},
   "outputs": [
    {
     "data": {
      "text/plain": [
       "['#IslamKills',\n",
       " '0',\n",
       " '0',\n",
       " '#ChristmasAftermath',\n",
       " '0',\n",
       " '0',\n",
       " '0',\n",
       " '0',\n",
       " '0',\n",
       " '#BlackLivesMatter',\n",
       " '#BlackPressDay',\n",
       " '#myfarewellwordswouldbe',\n",
       " '0',\n",
       " '0',\n",
       " '0',\n",
       " '0',\n",
       " '#My2017BiggestHope',\n",
       " '#Obama',\n",
       " '#1',\n",
       " '0',\n",
       " '0',\n",
       " '#politics',\n",
       " '0',\n",
       " '#TexasJihad',\n",
       " '#DayWithoutImmigrants',\n",
       " '#Islamisten',\n",
       " '#ISIS',\n",
       " '0',\n",
       " '#StopIslam',\n",
       " '#IslamKills',\n",
       " '0',\n",
       " '#Friyay',\n",
       " '0',\n",
       " '0',\n",
       " '0',\n",
       " '#ItsRiskyTo',\n",
       " '0',\n",
       " '#whenthestarsgoblue',\n",
       " '#RejectedDebateTopics',\n",
       " '#mutual',\n",
       " '#respect',\n",
       " '#SearchesGoogleIsAshamedOf',\n",
       " '0',\n",
       " '0',\n",
       " '#OneLetterOffSports',\n",
       " '#HashtagWars',\n",
       " '#God',\n",
       " '#religions...',\n",
       " '0',\n",
       " '#KSHBC',\n",
       " '#MAGA',\n",
       " '#SuperBowl',\n",
       " '0',\n",
       " '0',\n",
       " '0',\n",
       " '#Armageddon',\n",
       " '0',\n",
       " '#ToDoListBeforeChristmas',\n",
       " '#2017trendsreport',\n",
       " '#Excellent',\n",
       " '#RT',\n",
       " '#UrgentAction',\n",
       " '0',\n",
       " '#Merkel',\n",
       " '#Deutschland',\n",
       " '0',\n",
       " '#Palestinian',\n",
       " '#Arab',\n",
       " '#terrorist',\n",
       " '#Jerusalem',\n",
       " '#BlacksForTrump',\n",
       " '0',\n",
       " '0',\n",
       " '0',\n",
       " '0',\n",
       " '0',\n",
       " '0',\n",
       " '#BlacksForTrump',\n",
       " '#MakeAmericaGreatAgain',\n",
       " '#Blacks4Trump…',\n",
       " '0',\n",
       " '0',\n",
       " '0',\n",
       " '0',\n",
       " '0',\n",
       " '0',\n",
       " '#ValentinesDayIn3Words',\n",
       " '#MakeAmericaGreatAgain',\n",
       " '0',\n",
       " '0',\n",
       " '#Guns4NY',\n",
       " '#PrayForFlorida',\n",
       " '0',\n",
       " '0',\n",
       " '#ChildrenThinkThat',\n",
       " '#MyBestFriendIsntAllowed',\n",
       " '0',\n",
       " '0',\n",
       " '#HateToEatAndRun,',\n",
       " '0',\n",
       " '#IslamKills',\n",
       " '#ParisAttacks',\n",
       " '#Brussels',\n",
       " '0',\n",
       " '0',\n",
       " '0',\n",
       " '0',\n",
       " '0',\n",
       " '#EDQ',\n",
       " '#ferguson',\n",
       " '0',\n",
       " '0',\n",
       " '0',\n",
       " '0',\n",
       " '0',\n",
       " '#RT',\n",
       " '#RT',\n",
       " '#CCOT',\n",
       " '#TCOT',\n",
       " '#Cleveland',\n",
       " '#politics',\n",
       " '#Iamonfire',\n",
       " '#TedCruz',\n",
       " '#DeathByDemocrat',\n",
       " '#Linksextremismus',\n",
       " '#G20',\n",
       " '#NoG20',\n",
       " '#ObamasWishList',\n",
       " '#Debate',\n",
       " '#ThankACop',\n",
       " '#LawEnforc…',\n",
       " '0',\n",
       " '0',\n",
       " '#StayWoke',\n",
       " '#BlackExcellence',\n",
       " '#BlackHistoryMonth',\n",
       " '0',\n",
       " '0',\n",
       " '#WakeUpAmerica',\n",
       " '#sports',\n",
       " '0',\n",
       " '#RejectedDebateTopics:',\n",
       " '0',\n",
       " '0',\n",
       " '#GOPFaith',\n",
       " '0',\n",
       " '0',\n",
       " '0',\n",
       " '0',\n",
       " '#rejecteddebatetopics',\n",
       " '0',\n",
       " '0',\n",
       " '#TeamCap',\n",
       " '#TeamIronMan',\n",
       " '#RejectedDebateTopics',\n",
       " '0',\n",
       " '#8217;s',\n",
       " '#CatTV',\n",
       " '#AfD',\n",
       " '#Merkelmussbleiben',\n",
       " '#CarpoolKaraoke',\n",
       " '#MakeMeHateYouInOnePhrase',\n",
       " '#Bitcoin',\n",
       " '#crypto',\n",
       " '#cryptocurrency',\n",
       " '#Hollande',\n",
       " '#Merkelmussbleiben',\n",
       " '0',\n",
       " '0',\n",
       " '#blm',\n",
       " '0',\n",
       " '#MyDreamPresidentIs',\n",
       " '#NoCyberCensorship',\n",
       " '#IGetDepressedWhen',\n",
       " '#FF',\n",
       " '#Election2016',\n",
       " '#American',\n",
       " '#Trump_…',\n",
       " '0',\n",
       " '0',\n",
       " '#ReasonIAmNotPresident',\n",
       " '0',\n",
       " '0',\n",
       " '#TimMcGraw',\n",
       " '#WCS15',\n",
       " '#YCLC15',\n",
       " '#rootrevival',\n",
       " '#DNCLeak',\n",
       " '#DNCLeaks',\n",
       " '#WhatIWouldTellA15YearOldMe',\n",
       " '0',\n",
       " '#ThingsToKnowAboutTwitter',\n",
       " '0',\n",
       " '0',\n",
       " '#CarSongsOrBand',\n",
       " '#AddAMovieRuinAMovie',\n",
       " '0',\n",
       " '0',\n",
       " '0',\n",
       " '0',\n",
       " '0',\n",
       " '#ClintonHate',\n",
       " '#deplorablelivesmatter',\n",
       " '#BillRapesEverydayAmericans',\n",
       " '#FBI',\n",
       " '0',\n",
       " '0',\n",
       " '0',\n",
       " '0',\n",
       " '#USPeopleDEMANDUSMilitaryDEPOSELawlessSerialCriminal',\n",
       " '#EVILTerroristTraitorUsurperØbama',\n",
       " '#EndUSNightmare',\n",
       " '#IAmThankfulFor',\n",
       " '0',\n",
       " '#TVLifeLessonsILearned',\n",
       " '#Freitagmorgen',\n",
       " '#InsteadOfWatchingTheBigGame',\n",
       " '#Prayers4California',\n",
       " '0',\n",
       " '0',\n",
       " '0',\n",
       " '#ChristmasAftermath',\n",
       " '0',\n",
       " '#ToAvoidWorkI',\n",
       " '#InCaseAnyoneAsks',\n",
       " '0',\n",
       " '0',\n",
       " '#BanIslam',\n",
       " '#Orlando',\n",
       " '#RenameMill…',\n",
       " '#MakeMeHateYouInOnePhrase',\n",
       " '#TCOT',\n",
       " '#CCOT',\n",
       " '0',\n",
       " '#IslamKills',\n",
       " '#IslamKills.',\n",
       " '#GoodNight',\n",
       " '0',\n",
       " '#tcot',\n",
       " '#ISIS',\n",
       " '#ORPUW',\n",
       " '#GiftIdeasForPoliticians',\n",
       " '#ShouldBeAllowedAtWork',\n",
       " '0',\n",
       " '0',\n",
       " '0',\n",
       " '#ElectionDay',\n",
       " '#TrumpPence16',\n",
       " '#LostIn3Words',\n",
       " '#ImGoingToMissObamaBecause',\n",
       " '#BillyBushMadeMeDoIt',\n",
       " '0',\n",
       " '0',\n",
       " '#RuinADinnerInOnePhrase',\n",
       " '0',\n",
       " '0',\n",
       " '#NoCyberCensorship',\n",
       " '#Snowden',\n",
       " '#PussyRiot',\n",
       " '#aiweiwei',\n",
       " '#weiwei',\n",
       " '#adblock',\n",
       " '#amnestyinternational',\n",
       " '#campaign',\n",
       " '#protest…',\n",
       " '0',\n",
       " '0',\n",
       " '0',\n",
       " '#TCOT',\n",
       " '#Trump',\n",
       " '#FoxNews…',\n",
       " '#SurvivalGuideToThanksgiving',\n",
       " '#politics',\n",
       " '#WorstPainEverIn3Words',\n",
       " '0',\n",
       " '0',\n",
       " '0',\n",
       " '#PASen',\n",
       " '#local',\n",
       " '#news',\n",
       " '#IGetDepressedWhen',\n",
       " '0',\n",
       " '0',\n",
       " '#ThingsMoreTrustedThanHillary',\n",
       " '0',\n",
       " '#Maas',\n",
       " '#deMaizière',\n",
       " '#NichtMitUns',\n",
       " '#IdRunForPresidentIf',\n",
       " '0',\n",
       " '#2016isaJoke',\n",
       " '0',\n",
       " '0',\n",
       " '#LostIn3Words',\n",
       " '0',\n",
       " '#IGetDepressedWhen',\n",
       " '#WearHoodieForTrayvon',\n",
       " '#WeAreAllTrayvon',\n",
       " '#Seattle',\n",
       " '#CharlestonShooting',\n",
       " '0',\n",
       " '#InDeraysResistanceManual',\n",
       " '#ChelseaClintonEmails1',\n",
       " '0',\n",
       " '#ToDoListBeforeChristmas',\n",
       " \"#HillaryClinton's\",\n",
       " '#emails',\n",
       " '0',\n",
       " '0',\n",
       " '#Iamonfire',\n",
       " '#sbbtv',\n",
       " '0',\n",
       " '#news',\n",
       " '0',\n",
       " '0',\n",
       " '0',\n",
       " '#mondaymotivation',\n",
       " '#GiftIdeasForPoliticians',\n",
       " '#NotEnough',\n",
       " '0',\n",
       " '0',\n",
       " '#Shooting',\n",
       " '#RooseveltFieldMall',\n",
       " '#GardenCityShooting',\n",
       " '#TrumpPence16',\n",
       " '#Trump2k16',\n",
       " '#MAGA',\n",
       " '#Election2016',\n",
       " '#MakeAmericaGreatAgain',\n",
       " '#TrumpForPresident',\n",
       " '0',\n",
       " '#RejectedDebateTopics',\n",
       " '0',\n",
       " '0',\n",
       " '0',\n",
       " '#ToAvoidWorkI',\n",
       " '#CowTV',\n",
       " '0',\n",
       " '0',\n",
       " '0',\n",
       " '0',\n",
       " '0',\n",
       " '#RuinADinnerInOnePhrase',\n",
       " '0',\n",
       " '#news',\n",
       " '0',\n",
       " '0',\n",
       " '#LastMinuteGifts2016',\n",
       " '#DueyDialerNews',\n",
       " '#Marketing',\n",
       " '#YourRights',\n",
       " '#DUI',\n",
       " '#Lawyers',\n",
       " '0',\n",
       " '0',\n",
       " '#MyEmmyNominationWouldBe',\n",
       " '0',\n",
       " '#NowPlaying',\n",
       " '0',\n",
       " '0',\n",
       " '#ToDoListBeforeChristmas',\n",
       " '#PJNET',\n",
       " '#Jun…',\n",
       " '#HillaryNoThnx',\n",
       " '0',\n",
       " '0',\n",
       " '#ICelebrateTrumpWith',\n",
       " '#IfHillaryBecomesPresident',\n",
       " '#GameAlert',\n",
       " '#2016ElectionIn3Words',\n",
       " '0',\n",
       " '0',\n",
       " '#RichMovies',\n",
       " '#ThingsYouCantIgnore',\n",
       " '#FunThingsIveDoneInChurch',\n",
       " '#THEOLOGY',\n",
       " '#tcot',\n",
       " '#PJNET',\n",
       " '#ccot',\n",
       " '#WakeUpAmerica',\n",
       " '#RedNationRising',\n",
       " '#TrumpBecause',\n",
       " '#DonaldTrumpforPresident',\n",
       " '#America',\n",
       " '0',\n",
       " '#80s90sSongMashup',\n",
       " '0',\n",
       " '0',\n",
       " '#DumberBroadway',\n",
       " '#ProbableTrumpsTweets',\n",
       " '#SecondhandGifts',\n",
       " '#HappyBirthdayHarryTruman',\n",
       " '#ccot',\n",
       " '#AddABandToATVShow',\n",
       " '0',\n",
       " '0',\n",
       " '#RiggedSystem',\n",
       " '0',\n",
       " '#Trump',\n",
       " '#TrumpBecause',\n",
       " '#TeaPartyNews',\n",
       " '#NObama',\n",
       " '#2a',\n",
       " '#guns',\n",
       " '#tcot',\n",
       " '#pjnet',\n",
       " '#tcot',\n",
       " '#GOP',\n",
       " '#ThingsYouCantIgnore',\n",
       " '#ThingsToKnowAboutTwitter',\n",
       " '0',\n",
       " '0',\n",
       " '#politics',\n",
       " '#RIPJJ',\n",
       " '#Mississippi',\n",
       " '#theGodbox',\n",
       " '0',\n",
       " '0',\n",
       " '0',\n",
       " '#ExtremeVetting',\n",
       " '#WakeUpAmerica',\n",
       " '0',\n",
       " '#Banners',\n",
       " '#Print',\n",
       " '#Printer',\n",
       " '#Backdrops',\n",
       " '#Props',\n",
       " '#Clinton',\n",
       " '#Trump',\n",
       " '#Unity…',\n",
       " '0',\n",
       " '#NeverKamala',\n",
       " '0',\n",
       " '0',\n",
       " '0',\n",
       " '#MeanGirlsRules',\n",
       " '0',\n",
       " '0',\n",
       " '#تركیه',\n",
       " '0',\n",
       " '0',\n",
       " '0',\n",
       " '0',\n",
       " '0',\n",
       " '#BlackWomenVote',\n",
       " '#ImWitHer',\n",
       " '#Election2016',\n",
       " '#DealBreakerIn3Words',\n",
       " '0',\n",
       " '0',\n",
       " '0',\n",
       " '0',\n",
       " '#VETS',\n",
       " '#NRA',\n",
       " '#CCOT',\n",
       " '#TCOT',\n",
       " '#GOP',\n",
       " '0',\n",
       " '0',\n",
       " '0',\n",
       " '#JapanAMovie',\n",
       " '0',\n",
       " '0',\n",
       " '0',\n",
       " '0',\n",
       " '0',\n",
       " '#Benghazi',\n",
       " '#ElectionDay',\n",
       " '0',\n",
       " '#RatherHaveTheBoxThan',\n",
       " '#NowPlaying',\n",
       " '0',\n",
       " '0',\n",
       " '0',\n",
       " '#DemsForTrump',\n",
       " '#CORRUPT',\n",
       " '#VoteTrump2016',\n",
       " '#HillaryClinton',\n",
       " '#CrookedClinton',\n",
       " '#SexySports',\n",
       " '#POTU…',\n",
       " '0',\n",
       " '0',\n",
       " '#HappyBirthdayHarryTruman',\n",
       " '0',\n",
       " '#Election2016',\n",
       " '#Trump2016',\n",
       " '#ElectionDay',\n",
       " '#VoteTrump',\n",
       " '0',\n",
       " '#OscarHasNoColor',\n",
       " '0',\n",
       " '0',\n",
       " '#WriteAPanel',\n",
       " '0',\n",
       " '0',\n",
       " '#HillarysHealth',\n",
       " '#HillarysBodyDouble',\n",
       " '0',\n",
       " '0',\n",
       " '0',\n",
       " '#TrumpSacrifices',\n",
       " '#WHLeaks',\n",
       " '#DUNKTIME',\n",
       " '#BlackLivesMatter',\n",
       " '#election2016.',\n",
       " '#KeithLamontScott',\n",
       " '#2016In4Words',\n",
       " '#DontTellAnyoneBut',\n",
       " '#POTUSLastTweet',\n",
       " '#NotMyPresident',\n",
       " '#AddCartoonsToHistory',\n",
       " '#Honors',\n",
       " '#MonmouthUniversity',\n",
       " '0',\n",
       " '0',\n",
       " '#NeverHillary',\n",
       " '#BigLeagueTruth',\n",
       " '#SuperheroPresidentialSlogans',\n",
       " '0',\n",
       " '#2017SurvivalTips',\n",
       " '#IStandWithIsrael',\n",
       " '#PJNET',\n",
       " '#VoteTrump',\n",
       " '#ImWithYou',\n",
       " '0',\n",
       " '#My2017Resolution',\n",
       " '#news',\n",
       " '#Chicago',\n",
       " '0',\n",
       " '#Army',\n",
       " '#PJNET',\n",
       " '#skypapers',\n",
       " '0',\n",
       " '0',\n",
       " '#IslamKills',\n",
       " '#StopIslam',\n",
       " '#trump',\n",
       " '#45',\n",
       " '#WakeUpAmerica',\n",
       " '#PJNET',\n",
       " '#POTUSLastTweet',\n",
       " '0',\n",
       " '0',\n",
       " '0',\n",
       " '#TrumpBecause',\n",
       " '0',\n",
       " '#SurvivalGuideToThanksgiving',\n",
       " '0',\n",
       " '#tcot',\n",
       " '0',\n",
       " '0',\n",
       " '#ImTooOldFor',\n",
       " '0',\n",
       " '#RealLifeMagicSpells',\n",
       " '0',\n",
       " '#Wake…',\n",
       " '#ValentinesDayIn3Words',\n",
       " '0',\n",
       " '0',\n",
       " '0',\n",
       " '#OurRevolution',\n",
       " '0',\n",
       " '#Cybercensorship',\n",
       " '#Cybersecurity',\n",
       " '#NoCyberCensorship',\n",
       " '#DemnDebate',\n",
       " '#DemDebate',\n",
       " '#ClimateChange',\n",
       " '#happ…',\n",
       " '0',\n",
       " '#TrumpTrain…',\n",
       " '#TrumpForPresident',\n",
       " '#RoastandRide',\n",
       " '#TopNews',\n",
       " '#RuinADinnerInOnePhrase',\n",
       " '0',\n",
       " '#BadPlacesToPutAPenis',\n",
       " '#Deutschland',\n",
       " '#Flüchtlinge',\n",
       " '#Merkel',\n",
       " '0',\n",
       " '0',\n",
       " '0',\n",
       " '0',\n",
       " '0',\n",
       " '0',\n",
       " '0',\n",
       " '0',\n",
       " '#MyTransformationLooksLike',\n",
       " '#Merkelmussbleiben',\n",
       " '#girlstalkselfies',\n",
       " '0',\n",
       " '#interiordesign',\n",
       " '#spon',\n",
       " '#writeapanel',\n",
       " '#ChildrenThinkThat',\n",
       " '0',\n",
       " '#Hamburg',\n",
       " '#PJNET…',\n",
       " '0',\n",
       " '0',\n",
       " '0',\n",
       " '#ChristmasAftermath',\n",
       " '0',\n",
       " '0',\n",
       " '0',\n",
       " '#R…',\n",
       " '0',\n",
       " '0',\n",
       " '0',\n",
       " '0',\n",
       " '#InsteadOfMoneyPayMeIn',\n",
       " '0',\n",
       " '#HateToEatAndRun',\n",
       " '0',\n",
       " '#BasketOfDeplorables',\n",
       " '#TheFirst100DaysToDoList',\n",
       " '0',\n",
       " '#Liberty',\n",
       " '#tcot',\n",
       " '#TeaParty',\n",
       " '#Dontgetfooledagain',\n",
       " '0',\n",
       " '#ThingsPeopleOnTwitterLike',\n",
       " '0',\n",
       " '#CancelPlansIn5Words',\n",
       " '#Merkel',\n",
       " '#Deutschland',\n",
       " '#Merkelmussbleiben',\n",
       " '#News',\n",
       " '#Crime',\n",
       " '0',\n",
       " '#Muslims',\n",
       " '#MyOlympicSportWouldBe',\n",
       " '#BetterAlternativeToDebates',\n",
       " '#HappyBirthdayHarryTruman',\n",
       " '#WhenITimeTravel',\n",
       " '#Dems',\n",
       " '#UnAmerican',\n",
       " '#DrainTheSwamp',\n",
       " '0',\n",
       " '0',\n",
       " '0',\n",
       " '#ThursdayThoughts',\n",
       " '#noticias',\n",
       " '0',\n",
       " '#DrunkBands',\n",
       " '#HillaryClinton',\n",
       " '#Veritas',\n",
       " '#NeverHillary',\n",
       " '#T…',\n",
       " '#InsecureHBO',\n",
       " '#DNCleak',\n",
       " '0',\n",
       " '#EasterIn4Words',\n",
       " '#Birther',\n",
       " '0',\n",
       " '0',\n",
       " '#AWordICantStandIs',\n",
       " '#WeirdThingsToBuyOnline',\n",
       " '0',\n",
       " '#PrayForGay',\n",
       " '#TolerantLeft',\n",
       " '#TodayIsGoingToBeGreatBecause',\n",
       " '#opportunities',\n",
       " '#BetterAlternativeToDebates.',\n",
       " '0',\n",
       " '0',\n",
       " '0',\n",
       " '#IfHillaryBecomesPresident',\n",
       " '0',\n",
       " '#ThingsPeopleOnTwitterLike',\n",
       " '#NeverHillary',\n",
       " '#VoteTrump',\n",
       " '0',\n",
       " '0',\n",
       " '0',\n",
       " '#NewYorkValues',\n",
       " '0',\n",
       " '0',\n",
       " '#Merkel',\n",
       " '#Merkelmussbleiben',\n",
       " '0',\n",
       " '0',\n",
       " '0',\n",
       " '#NeverEverHillary',\n",
       " '0',\n",
       " '0',\n",
       " '0',\n",
       " '0',\n",
       " '0',\n",
       " '#politics',\n",
       " '#IndiaKager',\n",
       " '#IndiaBeaty',\n",
       " '#Kish…',\n",
       " '#IslamKills',\n",
       " '#teapartynews',\n",
       " '#teaparty',\n",
       " '#politics',\n",
       " '#conservative',\n",
       " '#usa',\n",
       " '#america',\n",
       " '#libertarian',\n",
       " '#nobama',\n",
       " '#wethepeople',\n",
       " '#patriot',\n",
       " '#politics',\n",
       " '0',\n",
       " '#DemDebateMiami',\n",
       " '0',\n",
       " '#FakeNews!',\n",
       " '#RealNews',\n",
       " '#RTifYouAre',\n",
       " '#ObamaHillary',\n",
       " '#CrookedHillary',\n",
       " '#IranRansom',\n",
       " '#TrumpPence16',\n",
       " '#MAGA',\n",
       " '#RTifYouAre',\n",
       " '0',\n",
       " '0',\n",
       " '0',\n",
       " '#hiphop',\n",
       " '0',\n",
       " '0',\n",
       " '0',\n",
       " '#IfMyFriendsSawMeNow',\n",
       " '#politics',\n",
       " '#SOROS',\n",
       " '0',\n",
       " '0',\n",
       " '0',\n",
       " '0',\n",
       " '0',\n",
       " '0',\n",
       " '#Munich',\n",
       " '0',\n",
       " '0',\n",
       " '0',\n",
       " '0',\n",
       " '#SecondhandGifts',\n",
       " '#Debate',\n",
       " '0',\n",
       " '0',\n",
       " '#MAGA',\n",
       " '#GodBles…',\n",
       " '0',\n",
       " '#SextingWentWrongWhen',\n",
       " '0',\n",
       " '#ThingsNotTaughtAtSchool',\n",
       " '0',\n",
       " '#Muslim',\n",
       " '#FakeChristmasSongFacts',\n",
       " '#1',\n",
       " '0',\n",
       " '#BlackLivesMatter',\n",
       " '#RNCinCLE',\n",
       " '#Trump',\n",
       " '#Tatiana',\n",
       " '#MakeTVShowsAustralian',\n",
       " '0',\n",
       " '#ICelebrateTrumpWith',\n",
       " '#HOT1071',\n",
       " '#HIPHOP',\n",
       " '#NOWPLAYING',\n",
       " '#STREAMING',\n",
       " '#DescribeYourselfin5words',\n",
       " '#politics',\n",
       " '#TrumpTrain',\n",
       " '#SoftenABadGuy',\n",
       " '#IdRunForPresidentIf',\n",
       " '#CRconvention',\n",
       " '#CruzCrew',\n",
       " '#PJNET',\n",
       " '#Stoodup',\n",
       " '0',\n",
       " '#JesusCalling',\n",
       " '0',\n",
       " '#PA',\n",
       " '#CO',\n",
       " '#MI',\n",
       " '#MN',\n",
       " '#WI',\n",
       " '#NM',\n",
       " '#VA',\n",
       " '#OR',\n",
       " '#NJ',\n",
       " '#OH',\n",
       " '#CT',\n",
       " '#NH',\n",
       " '#NC',\n",
       " '#VA',\n",
       " '#NV',\n",
       " '#FL',\n",
       " '#squeakyclean',\n",
       " '#CR4U',\n",
       " '0',\n",
       " '#BlackLivesMatter',\n",
       " '0',\n",
       " '0',\n",
       " '#Merkel',\n",
       " '#Merkelmussbleiben',\n",
       " '#girlstalkselfies',\n",
       " '0',\n",
       " '0',\n",
       " '0',\n",
       " '0',\n",
       " '#ToDoListBeforeChristmas',\n",
       " '0',\n",
       " '#GoCubs',\n",
       " '0',\n",
       " '0',\n",
       " '0',\n",
       " '0',\n",
       " '#God',\n",
       " '0',\n",
       " '0',\n",
       " '#PresidentElectTrump',\n",
       " '#Healthcare',\n",
       " '#Immigration',\n",
       " '#60Minutes',\n",
       " '#PresidentT…',\n",
       " '#2016In4Words',\n",
       " '0',\n",
       " '#NewsOneNow',\n",
       " '0',\n",
       " '0',\n",
       " '0',\n",
       " '0',\n",
       " '0',\n",
       " '#520PROMO',\n",
       " '#RT',\n",
       " '#ObamasWishList',\n",
       " '#MyMortalKombatFatality',\n",
       " '#IGetDepressedWhen',\n",
       " '0',\n",
       " '0',\n",
       " '0',\n",
       " '#PolicticalNews',\n",
       " '#ConservativeNews',\n",
       " '#TinyTrump',\n",
       " '0',\n",
       " '0',\n",
       " '0',\n",
       " '#GoToHell',\n",
       " '0',\n",
       " '#poll,',\n",
       " '0',\n",
       " '#politics',\n",
       " '0',\n",
       " '0',\n",
       " '#PatriotsUnited',\n",
       " '0',\n",
       " '0',\n",
       " '0',\n",
       " '0',\n",
       " '#RobotHipHop',\n",
       " '#ThingsNotTaughtAtSchool',\n",
       " '0',\n",
       " '0',\n",
       " '0',\n",
       " '0',\n",
       " '0',\n",
       " '#trapbeats',\n",
       " '#SometimesItsOkTo',\n",
       " '#ChristmasAftermath',\n",
       " '0',\n",
       " '#ObservationsAtTheMarathon',\n",
       " '#Merkelmussbleiben',\n",
       " '#girlstalkselfies',\n",
       " '#IStartCryingWhen',\n",
       " '0',\n",
       " '0',\n",
       " '0',\n",
       " '0',\n",
       " '#TrumpTrain',\n",
       " '#VoteTrump2016',\n",
       " '#Trump20…',\n",
       " '0',\n",
       " '0',\n",
       " '#TrumpPence16…',\n",
       " '#OED',\n",
       " '#SNL',\n",
       " '#DailyShow',\n",
       " '#millennial',\n",
       " '#women',\n",
       " '#LGBT',\n",
       " '#AndersonCooper',\n",
       " '#MarthaRaddatz',\n",
       " '#VermontRefugeeResettlementProgram',\n",
       " '#VRRP…',\n",
       " '0',\n",
       " '0',\n",
       " '#politics',\n",
       " '#GoDucks',\n",
       " '0',\n",
       " '0',\n",
       " '#RealLifeMagicSpells',\n",
       " '0',\n",
       " '0',\n",
       " '0',\n",
       " '0',\n",
       " '#BetterElfNames',\n",
       " '0',\n",
       " '0',\n",
       " '0',\n",
       " '0',\n",
       " '0',\n",
       " '0',\n",
       " '#VoterFraud',\n",
       " '#politics',\n",
       " '0',\n",
       " '#2A',\n",
       " '#NRA',\n",
       " '#PJNET',\n",
       " '#tcot',\n",
       " '#tgdn',\n",
       " '#c…',\n",
       " '#PopUp',\n",
       " '#BlackHistory',\n",
       " '#BlackTwitter',\n",
       " '#BookSpinePoem',\n",
       " '0',\n",
       " '0',\n",
       " '#WhenImOldandGrey',\n",
       " '#Fakenews',\n",
       " '#BenGarrison',\n",
       " '#cartoon',\n",
       " '#My2017Resolution',\n",
       " \"#HillaryClinton's\",\n",
       " '#p2',\n",
       " '#topprog',\n",
       " '#Schanze',\n",
       " '#G20',\n",
       " '#realdonaldtrump',\n",
       " '#maga',\n",
       " '#Wisconsin',\n",
       " '#tcot',\n",
       " '#1A',\n",
       " '#2',\n",
       " '0',\n",
       " '0',\n",
       " '0',\n",
       " '0',\n",
       " '#RejectedDebateTopics',\n",
       " '0',\n",
       " '0',\n",
       " '0',\n",
       " '#America',\n",
       " '#IDontNeedACostumeBecause',\n",
       " '#TCOT',\n",
       " '#WakeUpAmerica',\n",
       " '#PJNET',\n",
       " '0',\n",
       " '#mornin…',\n",
       " '#MomIn5Words',\n",
       " '0',\n",
       " '0',\n",
       " '#MAGA',\n",
       " '0',\n",
       " '#Cybercensorship',\n",
       " '#NoCyberCensorship',\n",
       " '#love',\n",
       " '0',\n",
       " '0',\n",
       " '#RealLifeMagicSpells',\n",
       " '0',\n",
       " '0',\n",
       " '0',\n",
       " '0',\n",
       " '#flint',\n",
       " '#MSNBC:',\n",
       " '#PodestaEmai…',\n",
       " '#RejectedLegoMinifigures',\n",
       " '0',\n",
       " '#SoftenABadGuy',\n",
       " '0',\n",
       " '#SongsHannibalWouldSing',\n",
       " '0',\n",
       " '#TuesdayMotivation',\n",
       " '#politics',\n",
       " '0',\n",
       " '0',\n",
       " '#MomIn5Words',\n",
       " '0',\n",
       " '0',\n",
       " '#Trump2016',\n",
       " '#MAGA',\n",
       " '#HILLARY2JAIL',\n",
       " '#BILL2JAIL!',\n",
       " '#itsok2begay',\n",
       " '0',\n",
       " '0',\n",
       " '0',\n",
       " '#Merkel',\n",
       " '#Kanzlerin',\n",
       " '#Deutschland,',\n",
       " '#MerkelMussBleiben',\n",
       " '#NeverHillary',\n",
       " ...]"
      ]
     },
     "execution_count": 455,
     "metadata": {},
     "output_type": "execute_result"
    }
   ],
   "source": [
    "flatten_list"
   ]
  },
  {
   "cell_type": "code",
   "execution_count": null,
   "metadata": {},
   "outputs": [],
   "source": []
  },
  {
   "cell_type": "markdown",
   "metadata": {},
   "source": [
    "### 5: Convert 2-D list into 1-D Using in-built sum function.."
   ]
  },
  {
   "cell_type": "code",
   "execution_count": 456,
   "metadata": {},
   "outputs": [],
   "source": [
    "# converting 2d list into 1d\n",
    "\n",
    "# this is-built func will not be handy for huge data , so lets try this on subset on data..\n",
    "flatten_list = sum(all_hashtags[0:100], [])\n",
    "\n",
    "\n",
    "## sum(iterable, start)\n",
    "## iterable : iterable can be anything list , tuples or dictionaries ,but most importantly it should be numbers. \n",
    " \n",
    "## start : this start is added to the sum of numbers in the iterable. \n",
    "#          If start is not given in the syntax , it is assumed to be 0.\n",
    "\n",
    "\n",
    "\n",
    "\n",
    "### but what if iterable is list , \n",
    "### so in start,if I will mention blank list ,it means just access each & every element from iterable(all_hashtags[0:100])\n",
    "##  & append it in blank list"
   ]
  },
  {
   "cell_type": "code",
   "execution_count": null,
   "metadata": {},
   "outputs": [],
   "source": []
  },
  {
   "cell_type": "markdown",
   "metadata": {},
   "source": [
    "### 6..Convert 2-D list into 1-D Using lambda "
   ]
  },
  {
   "cell_type": "code",
   "execution_count": 457,
   "metadata": {},
   "outputs": [],
   "source": [
    "flatten_list = lambda x:[y for a in x for y in flatten_list(a)] if type(x) is list else [x]"
   ]
  },
  {
   "cell_type": "code",
   "execution_count": 458,
   "metadata": {},
   "outputs": [
    {
     "data": {
      "text/plain": [
       "['#IslamKills',\n",
       " '0',\n",
       " '0',\n",
       " '#ChristmasAftermath',\n",
       " '0',\n",
       " '0',\n",
       " '0',\n",
       " '0',\n",
       " '0',\n",
       " '#BlackLivesMatter',\n",
       " '#BlackPressDay',\n",
       " '#myfarewellwordswouldbe',\n",
       " '0',\n",
       " '0',\n",
       " '0',\n",
       " '0',\n",
       " '#My2017BiggestHope',\n",
       " '#Obama',\n",
       " '#1',\n",
       " '0',\n",
       " '0',\n",
       " '#politics',\n",
       " '0',\n",
       " '#TexasJihad',\n",
       " '#DayWithoutImmigrants',\n",
       " '#Islamisten',\n",
       " '#ISIS',\n",
       " '0',\n",
       " '#StopIslam',\n",
       " '#IslamKills',\n",
       " '0',\n",
       " '#Friyay',\n",
       " '0',\n",
       " '0',\n",
       " '0',\n",
       " '#ItsRiskyTo',\n",
       " '0',\n",
       " '#whenthestarsgoblue',\n",
       " '#RejectedDebateTopics',\n",
       " '#mutual',\n",
       " '#respect',\n",
       " '#SearchesGoogleIsAshamedOf',\n",
       " '0',\n",
       " '0',\n",
       " '#OneLetterOffSports',\n",
       " '#HashtagWars',\n",
       " '#God',\n",
       " '#religions...',\n",
       " '0',\n",
       " '#KSHBC',\n",
       " '#MAGA',\n",
       " '#SuperBowl',\n",
       " '0',\n",
       " '0',\n",
       " '0',\n",
       " '#Armageddon',\n",
       " '0',\n",
       " '#ToDoListBeforeChristmas',\n",
       " '#2017trendsreport',\n",
       " '#Excellent',\n",
       " '#RT',\n",
       " '#UrgentAction',\n",
       " '0',\n",
       " '#Merkel',\n",
       " '#Deutschland',\n",
       " '0',\n",
       " '#Palestinian',\n",
       " '#Arab',\n",
       " '#terrorist',\n",
       " '#Jerusalem',\n",
       " '#BlacksForTrump',\n",
       " '0',\n",
       " '0',\n",
       " '0',\n",
       " '0',\n",
       " '0',\n",
       " '0',\n",
       " '#BlacksForTrump',\n",
       " '#MakeAmericaGreatAgain',\n",
       " '#Blacks4Trump…',\n",
       " '0',\n",
       " '0',\n",
       " '0',\n",
       " '0',\n",
       " '0',\n",
       " '0',\n",
       " '#ValentinesDayIn3Words',\n",
       " '#MakeAmericaGreatAgain',\n",
       " '0',\n",
       " '0',\n",
       " '#Guns4NY',\n",
       " '#PrayForFlorida',\n",
       " '0',\n",
       " '0',\n",
       " '#ChildrenThinkThat',\n",
       " '#MyBestFriendIsntAllowed',\n",
       " '0',\n",
       " '0',\n",
       " '#HateToEatAndRun,',\n",
       " '0',\n",
       " '#IslamKills',\n",
       " '#ParisAttacks',\n",
       " '#Brussels',\n",
       " '0',\n",
       " '0',\n",
       " '0',\n",
       " '0',\n",
       " '0',\n",
       " '#EDQ',\n",
       " '#ferguson',\n",
       " '0',\n",
       " '0',\n",
       " '0',\n",
       " '0',\n",
       " '0',\n",
       " '#RT',\n",
       " '#RT',\n",
       " '#CCOT',\n",
       " '#TCOT',\n",
       " '#Cleveland',\n",
       " '#politics',\n",
       " '#Iamonfire',\n",
       " '#TedCruz',\n",
       " '#DeathByDemocrat',\n",
       " '#Linksextremismus',\n",
       " '#G20',\n",
       " '#NoG20',\n",
       " '#ObamasWishList',\n",
       " '#Debate',\n",
       " '#ThankACop',\n",
       " '#LawEnforc…',\n",
       " '0',\n",
       " '0',\n",
       " '#StayWoke',\n",
       " '#BlackExcellence',\n",
       " '#BlackHistoryMonth',\n",
       " '0',\n",
       " '0',\n",
       " '#WakeUpAmerica',\n",
       " '#sports',\n",
       " '0',\n",
       " '#RejectedDebateTopics:',\n",
       " '0',\n",
       " '0',\n",
       " '#GOPFaith',\n",
       " '0',\n",
       " '0',\n",
       " '0',\n",
       " '0',\n",
       " '#rejecteddebatetopics',\n",
       " '0',\n",
       " '0',\n",
       " '#TeamCap',\n",
       " '#TeamIronMan',\n",
       " '#RejectedDebateTopics',\n",
       " '0',\n",
       " '#8217;s',\n",
       " '#CatTV',\n",
       " '#AfD',\n",
       " '#Merkelmussbleiben',\n",
       " '#CarpoolKaraoke',\n",
       " '#MakeMeHateYouInOnePhrase',\n",
       " '#Bitcoin',\n",
       " '#crypto',\n",
       " '#cryptocurrency',\n",
       " '#Hollande',\n",
       " '#Merkelmussbleiben',\n",
       " '0',\n",
       " '0',\n",
       " '#blm',\n",
       " '0',\n",
       " '#MyDreamPresidentIs',\n",
       " '#NoCyberCensorship',\n",
       " '#IGetDepressedWhen',\n",
       " '#FF',\n",
       " '#Election2016',\n",
       " '#American',\n",
       " '#Trump_…',\n",
       " '0',\n",
       " '0',\n",
       " '#ReasonIAmNotPresident',\n",
       " '0',\n",
       " '0',\n",
       " '#TimMcGraw',\n",
       " '#WCS15',\n",
       " '#YCLC15',\n",
       " '#rootrevival',\n",
       " '#DNCLeak',\n",
       " '#DNCLeaks',\n",
       " '#WhatIWouldTellA15YearOldMe',\n",
       " '0',\n",
       " '#ThingsToKnowAboutTwitter',\n",
       " '0',\n",
       " '0',\n",
       " '#CarSongsOrBand',\n",
       " '#AddAMovieRuinAMovie',\n",
       " '0',\n",
       " '0',\n",
       " '0',\n",
       " '0',\n",
       " '0',\n",
       " '#ClintonHate',\n",
       " '#deplorablelivesmatter',\n",
       " '#BillRapesEverydayAmericans',\n",
       " '#FBI',\n",
       " '0',\n",
       " '0',\n",
       " '0',\n",
       " '0',\n",
       " '#USPeopleDEMANDUSMilitaryDEPOSELawlessSerialCriminal',\n",
       " '#EVILTerroristTraitorUsurperØbama',\n",
       " '#EndUSNightmare',\n",
       " '#IAmThankfulFor',\n",
       " '0',\n",
       " '#TVLifeLessonsILearned',\n",
       " '#Freitagmorgen',\n",
       " '#InsteadOfWatchingTheBigGame',\n",
       " '#Prayers4California',\n",
       " '0',\n",
       " '0',\n",
       " '0',\n",
       " '#ChristmasAftermath',\n",
       " '0',\n",
       " '#ToAvoidWorkI',\n",
       " '#InCaseAnyoneAsks',\n",
       " '0',\n",
       " '0',\n",
       " '#BanIslam',\n",
       " '#Orlando',\n",
       " '#RenameMill…',\n",
       " '#MakeMeHateYouInOnePhrase',\n",
       " '#TCOT',\n",
       " '#CCOT',\n",
       " '0',\n",
       " '#IslamKills',\n",
       " '#IslamKills.',\n",
       " '#GoodNight',\n",
       " '0',\n",
       " '#tcot',\n",
       " '#ISIS',\n",
       " '#ORPUW',\n",
       " '#GiftIdeasForPoliticians',\n",
       " '#ShouldBeAllowedAtWork',\n",
       " '0',\n",
       " '0',\n",
       " '0',\n",
       " '#ElectionDay',\n",
       " '#TrumpPence16',\n",
       " '#LostIn3Words',\n",
       " '#ImGoingToMissObamaBecause',\n",
       " '#BillyBushMadeMeDoIt',\n",
       " '0',\n",
       " '0',\n",
       " '#RuinADinnerInOnePhrase',\n",
       " '0',\n",
       " '0',\n",
       " '#NoCyberCensorship',\n",
       " '#Snowden',\n",
       " '#PussyRiot',\n",
       " '#aiweiwei',\n",
       " '#weiwei',\n",
       " '#adblock',\n",
       " '#amnestyinternational',\n",
       " '#campaign',\n",
       " '#protest…',\n",
       " '0',\n",
       " '0',\n",
       " '0',\n",
       " '#TCOT',\n",
       " '#Trump',\n",
       " '#FoxNews…',\n",
       " '#SurvivalGuideToThanksgiving',\n",
       " '#politics',\n",
       " '#WorstPainEverIn3Words',\n",
       " '0',\n",
       " '0',\n",
       " '0',\n",
       " '#PASen',\n",
       " '#local',\n",
       " '#news',\n",
       " '#IGetDepressedWhen',\n",
       " '0',\n",
       " '0',\n",
       " '#ThingsMoreTrustedThanHillary',\n",
       " '0',\n",
       " '#Maas',\n",
       " '#deMaizière',\n",
       " '#NichtMitUns',\n",
       " '#IdRunForPresidentIf',\n",
       " '0',\n",
       " '#2016isaJoke',\n",
       " '0',\n",
       " '0',\n",
       " '#LostIn3Words',\n",
       " '0',\n",
       " '#IGetDepressedWhen',\n",
       " '#WearHoodieForTrayvon',\n",
       " '#WeAreAllTrayvon',\n",
       " '#Seattle',\n",
       " '#CharlestonShooting',\n",
       " '0',\n",
       " '#InDeraysResistanceManual',\n",
       " '#ChelseaClintonEmails1',\n",
       " '0',\n",
       " '#ToDoListBeforeChristmas',\n",
       " \"#HillaryClinton's\",\n",
       " '#emails',\n",
       " '0',\n",
       " '0',\n",
       " '#Iamonfire',\n",
       " '#sbbtv',\n",
       " '0',\n",
       " '#news',\n",
       " '0',\n",
       " '0',\n",
       " '0',\n",
       " '#mondaymotivation',\n",
       " '#GiftIdeasForPoliticians',\n",
       " '#NotEnough',\n",
       " '0',\n",
       " '0',\n",
       " '#Shooting',\n",
       " '#RooseveltFieldMall',\n",
       " '#GardenCityShooting',\n",
       " '#TrumpPence16',\n",
       " '#Trump2k16',\n",
       " '#MAGA',\n",
       " '#Election2016',\n",
       " '#MakeAmericaGreatAgain',\n",
       " '#TrumpForPresident',\n",
       " '0',\n",
       " '#RejectedDebateTopics',\n",
       " '0',\n",
       " '0',\n",
       " '0',\n",
       " '#ToAvoidWorkI',\n",
       " '#CowTV',\n",
       " '0',\n",
       " '0',\n",
       " '0',\n",
       " '0',\n",
       " '0',\n",
       " '#RuinADinnerInOnePhrase',\n",
       " '0',\n",
       " '#news',\n",
       " '0',\n",
       " '0',\n",
       " '#LastMinuteGifts2016',\n",
       " '#DueyDialerNews',\n",
       " '#Marketing',\n",
       " '#YourRights',\n",
       " '#DUI',\n",
       " '#Lawyers',\n",
       " '0',\n",
       " '0',\n",
       " '#MyEmmyNominationWouldBe',\n",
       " '0',\n",
       " '#NowPlaying',\n",
       " '0',\n",
       " '0',\n",
       " '#ToDoListBeforeChristmas',\n",
       " '#PJNET',\n",
       " '#Jun…',\n",
       " '#HillaryNoThnx',\n",
       " '0',\n",
       " '0',\n",
       " '#ICelebrateTrumpWith',\n",
       " '#IfHillaryBecomesPresident',\n",
       " '#GameAlert',\n",
       " '#2016ElectionIn3Words',\n",
       " '0',\n",
       " '0',\n",
       " '#RichMovies',\n",
       " '#ThingsYouCantIgnore',\n",
       " '#FunThingsIveDoneInChurch',\n",
       " '#THEOLOGY',\n",
       " '#tcot',\n",
       " '#PJNET',\n",
       " '#ccot',\n",
       " '#WakeUpAmerica',\n",
       " '#RedNationRising',\n",
       " '#TrumpBecause',\n",
       " '#DonaldTrumpforPresident',\n",
       " '#America',\n",
       " '0',\n",
       " '#80s90sSongMashup',\n",
       " '0',\n",
       " '0',\n",
       " '#DumberBroadway',\n",
       " '#ProbableTrumpsTweets',\n",
       " '#SecondhandGifts',\n",
       " '#HappyBirthdayHarryTruman',\n",
       " '#ccot',\n",
       " '#AddABandToATVShow',\n",
       " '0',\n",
       " '0',\n",
       " '#RiggedSystem',\n",
       " '0',\n",
       " '#Trump',\n",
       " '#TrumpBecause',\n",
       " '#TeaPartyNews',\n",
       " '#NObama',\n",
       " '#2a',\n",
       " '#guns',\n",
       " '#tcot',\n",
       " '#pjnet',\n",
       " '#tcot',\n",
       " '#GOP',\n",
       " '#ThingsYouCantIgnore',\n",
       " '#ThingsToKnowAboutTwitter',\n",
       " '0',\n",
       " '0',\n",
       " '#politics',\n",
       " '#RIPJJ',\n",
       " '#Mississippi',\n",
       " '#theGodbox',\n",
       " '0',\n",
       " '0',\n",
       " '0',\n",
       " '#ExtremeVetting',\n",
       " '#WakeUpAmerica',\n",
       " '0',\n",
       " '#Banners',\n",
       " '#Print',\n",
       " '#Printer',\n",
       " '#Backdrops',\n",
       " '#Props',\n",
       " '#Clinton',\n",
       " '#Trump',\n",
       " '#Unity…',\n",
       " '0',\n",
       " '#NeverKamala',\n",
       " '0',\n",
       " '0',\n",
       " '0',\n",
       " '#MeanGirlsRules',\n",
       " '0',\n",
       " '0',\n",
       " '#تركیه',\n",
       " '0',\n",
       " '0',\n",
       " '0',\n",
       " '0',\n",
       " '0',\n",
       " '#BlackWomenVote',\n",
       " '#ImWitHer',\n",
       " '#Election2016',\n",
       " '#DealBreakerIn3Words',\n",
       " '0',\n",
       " '0',\n",
       " '0',\n",
       " '0',\n",
       " '#VETS',\n",
       " '#NRA',\n",
       " '#CCOT',\n",
       " '#TCOT',\n",
       " '#GOP',\n",
       " '0',\n",
       " '0',\n",
       " '0',\n",
       " '#JapanAMovie',\n",
       " '0',\n",
       " '0',\n",
       " '0',\n",
       " '0',\n",
       " '0',\n",
       " '#Benghazi',\n",
       " '#ElectionDay',\n",
       " '0',\n",
       " '#RatherHaveTheBoxThan',\n",
       " '#NowPlaying',\n",
       " '0',\n",
       " '0',\n",
       " '0',\n",
       " '#DemsForTrump',\n",
       " '#CORRUPT',\n",
       " '#VoteTrump2016',\n",
       " '#HillaryClinton',\n",
       " '#CrookedClinton',\n",
       " '#SexySports',\n",
       " '#POTU…',\n",
       " '0',\n",
       " '0',\n",
       " '#HappyBirthdayHarryTruman',\n",
       " '0',\n",
       " '#Election2016',\n",
       " '#Trump2016',\n",
       " '#ElectionDay',\n",
       " '#VoteTrump',\n",
       " '0',\n",
       " '#OscarHasNoColor',\n",
       " '0',\n",
       " '0',\n",
       " '#WriteAPanel',\n",
       " '0',\n",
       " '0',\n",
       " '#HillarysHealth',\n",
       " '#HillarysBodyDouble',\n",
       " '0',\n",
       " '0',\n",
       " '0',\n",
       " '#TrumpSacrifices',\n",
       " '#WHLeaks',\n",
       " '#DUNKTIME',\n",
       " '#BlackLivesMatter',\n",
       " '#election2016.',\n",
       " '#KeithLamontScott',\n",
       " '#2016In4Words',\n",
       " '#DontTellAnyoneBut',\n",
       " '#POTUSLastTweet',\n",
       " '#NotMyPresident',\n",
       " '#AddCartoonsToHistory',\n",
       " '#Honors',\n",
       " '#MonmouthUniversity',\n",
       " '0',\n",
       " '0',\n",
       " '#NeverHillary',\n",
       " '#BigLeagueTruth',\n",
       " '#SuperheroPresidentialSlogans',\n",
       " '0',\n",
       " '#2017SurvivalTips',\n",
       " '#IStandWithIsrael',\n",
       " '#PJNET',\n",
       " '#VoteTrump',\n",
       " '#ImWithYou',\n",
       " '0',\n",
       " '#My2017Resolution',\n",
       " '#news',\n",
       " '#Chicago',\n",
       " '0',\n",
       " '#Army',\n",
       " '#PJNET',\n",
       " '#skypapers',\n",
       " '0',\n",
       " '0',\n",
       " '#IslamKills',\n",
       " '#StopIslam',\n",
       " '#trump',\n",
       " '#45',\n",
       " '#WakeUpAmerica',\n",
       " '#PJNET',\n",
       " '#POTUSLastTweet',\n",
       " '0',\n",
       " '0',\n",
       " '0',\n",
       " '#TrumpBecause',\n",
       " '0',\n",
       " '#SurvivalGuideToThanksgiving',\n",
       " '0',\n",
       " '#tcot',\n",
       " '0',\n",
       " '0',\n",
       " '#ImTooOldFor',\n",
       " '0',\n",
       " '#RealLifeMagicSpells',\n",
       " '0',\n",
       " '#Wake…',\n",
       " '#ValentinesDayIn3Words',\n",
       " '0',\n",
       " '0',\n",
       " '0',\n",
       " '#OurRevolution',\n",
       " '0',\n",
       " '#Cybercensorship',\n",
       " '#Cybersecurity',\n",
       " '#NoCyberCensorship',\n",
       " '#DemnDebate',\n",
       " '#DemDebate',\n",
       " '#ClimateChange',\n",
       " '#happ…',\n",
       " '0',\n",
       " '#TrumpTrain…',\n",
       " '#TrumpForPresident',\n",
       " '#RoastandRide',\n",
       " '#TopNews',\n",
       " '#RuinADinnerInOnePhrase',\n",
       " '0',\n",
       " '#BadPlacesToPutAPenis',\n",
       " '#Deutschland',\n",
       " '#Flüchtlinge',\n",
       " '#Merkel',\n",
       " '0',\n",
       " '0',\n",
       " '0',\n",
       " '0',\n",
       " '0',\n",
       " '0',\n",
       " '0',\n",
       " '0',\n",
       " '#MyTransformationLooksLike',\n",
       " '#Merkelmussbleiben',\n",
       " '#girlstalkselfies',\n",
       " '0',\n",
       " '#interiordesign',\n",
       " '#spon',\n",
       " '#writeapanel',\n",
       " '#ChildrenThinkThat',\n",
       " '0',\n",
       " '#Hamburg',\n",
       " '#PJNET…',\n",
       " '0',\n",
       " '0',\n",
       " '0',\n",
       " '#ChristmasAftermath',\n",
       " '0',\n",
       " '0',\n",
       " '0',\n",
       " '#R…',\n",
       " '0',\n",
       " '0',\n",
       " '0',\n",
       " '0',\n",
       " '#InsteadOfMoneyPayMeIn',\n",
       " '0',\n",
       " '#HateToEatAndRun',\n",
       " '0',\n",
       " '#BasketOfDeplorables',\n",
       " '#TheFirst100DaysToDoList',\n",
       " '0',\n",
       " '#Liberty',\n",
       " '#tcot',\n",
       " '#TeaParty',\n",
       " '#Dontgetfooledagain',\n",
       " '0',\n",
       " '#ThingsPeopleOnTwitterLike',\n",
       " '0',\n",
       " '#CancelPlansIn5Words',\n",
       " '#Merkel',\n",
       " '#Deutschland',\n",
       " '#Merkelmussbleiben',\n",
       " '#News',\n",
       " '#Crime',\n",
       " '0',\n",
       " '#Muslims',\n",
       " '#MyOlympicSportWouldBe',\n",
       " '#BetterAlternativeToDebates',\n",
       " '#HappyBirthdayHarryTruman',\n",
       " '#WhenITimeTravel',\n",
       " '#Dems',\n",
       " '#UnAmerican',\n",
       " '#DrainTheSwamp',\n",
       " '0',\n",
       " '0',\n",
       " '0',\n",
       " '#ThursdayThoughts',\n",
       " '#noticias',\n",
       " '0',\n",
       " '#DrunkBands',\n",
       " '#HillaryClinton',\n",
       " '#Veritas',\n",
       " '#NeverHillary',\n",
       " '#T…',\n",
       " '#InsecureHBO',\n",
       " '#DNCleak',\n",
       " '0',\n",
       " '#EasterIn4Words',\n",
       " '#Birther',\n",
       " '0',\n",
       " '0',\n",
       " '#AWordICantStandIs',\n",
       " '#WeirdThingsToBuyOnline',\n",
       " '0',\n",
       " '#PrayForGay',\n",
       " '#TolerantLeft',\n",
       " '#TodayIsGoingToBeGreatBecause',\n",
       " '#opportunities',\n",
       " '#BetterAlternativeToDebates.',\n",
       " '0',\n",
       " '0',\n",
       " '0',\n",
       " '#IfHillaryBecomesPresident',\n",
       " '0',\n",
       " '#ThingsPeopleOnTwitterLike',\n",
       " '#NeverHillary',\n",
       " '#VoteTrump',\n",
       " '0',\n",
       " '0',\n",
       " '0',\n",
       " '#NewYorkValues',\n",
       " '0',\n",
       " '0',\n",
       " '#Merkel',\n",
       " '#Merkelmussbleiben',\n",
       " '0',\n",
       " '0',\n",
       " '0',\n",
       " '#NeverEverHillary',\n",
       " '0',\n",
       " '0',\n",
       " '0',\n",
       " '0',\n",
       " '0',\n",
       " '#politics',\n",
       " '#IndiaKager',\n",
       " '#IndiaBeaty',\n",
       " '#Kish…',\n",
       " '#IslamKills',\n",
       " '#teapartynews',\n",
       " '#teaparty',\n",
       " '#politics',\n",
       " '#conservative',\n",
       " '#usa',\n",
       " '#america',\n",
       " '#libertarian',\n",
       " '#nobama',\n",
       " '#wethepeople',\n",
       " '#patriot',\n",
       " '#politics',\n",
       " '0',\n",
       " '#DemDebateMiami',\n",
       " '0',\n",
       " '#FakeNews!',\n",
       " '#RealNews',\n",
       " '#RTifYouAre',\n",
       " '#ObamaHillary',\n",
       " '#CrookedHillary',\n",
       " '#IranRansom',\n",
       " '#TrumpPence16',\n",
       " '#MAGA',\n",
       " '#RTifYouAre',\n",
       " '0',\n",
       " '0',\n",
       " '0',\n",
       " '#hiphop',\n",
       " '0',\n",
       " '0',\n",
       " '0',\n",
       " '#IfMyFriendsSawMeNow',\n",
       " '#politics',\n",
       " '#SOROS',\n",
       " '0',\n",
       " '0',\n",
       " '0',\n",
       " '0',\n",
       " '0',\n",
       " '0',\n",
       " '#Munich',\n",
       " '0',\n",
       " '0',\n",
       " '0',\n",
       " '0',\n",
       " '#SecondhandGifts',\n",
       " '#Debate',\n",
       " '0',\n",
       " '0',\n",
       " '#MAGA',\n",
       " '#GodBles…',\n",
       " '0',\n",
       " '#SextingWentWrongWhen',\n",
       " '0',\n",
       " '#ThingsNotTaughtAtSchool',\n",
       " '0',\n",
       " '#Muslim',\n",
       " '#FakeChristmasSongFacts',\n",
       " '#1',\n",
       " '0',\n",
       " '#BlackLivesMatter',\n",
       " '#RNCinCLE',\n",
       " '#Trump',\n",
       " '#Tatiana',\n",
       " '#MakeTVShowsAustralian',\n",
       " '0',\n",
       " '#ICelebrateTrumpWith',\n",
       " '#HOT1071',\n",
       " '#HIPHOP',\n",
       " '#NOWPLAYING',\n",
       " '#STREAMING',\n",
       " '#DescribeYourselfin5words',\n",
       " '#politics',\n",
       " '#TrumpTrain',\n",
       " '#SoftenABadGuy',\n",
       " '#IdRunForPresidentIf',\n",
       " '#CRconvention',\n",
       " '#CruzCrew',\n",
       " '#PJNET',\n",
       " '#Stoodup',\n",
       " '0',\n",
       " '#JesusCalling',\n",
       " '0',\n",
       " '#PA',\n",
       " '#CO',\n",
       " '#MI',\n",
       " '#MN',\n",
       " '#WI',\n",
       " '#NM',\n",
       " '#VA',\n",
       " '#OR',\n",
       " '#NJ',\n",
       " '#OH',\n",
       " '#CT',\n",
       " '#NH',\n",
       " '#NC',\n",
       " '#VA',\n",
       " '#NV',\n",
       " '#FL',\n",
       " '#squeakyclean',\n",
       " '#CR4U',\n",
       " '0',\n",
       " '#BlackLivesMatter',\n",
       " '0',\n",
       " '0',\n",
       " '#Merkel',\n",
       " '#Merkelmussbleiben',\n",
       " '#girlstalkselfies',\n",
       " '0',\n",
       " '0',\n",
       " '0',\n",
       " '0',\n",
       " '#ToDoListBeforeChristmas',\n",
       " '0',\n",
       " '#GoCubs',\n",
       " '0',\n",
       " '0',\n",
       " '0',\n",
       " '0',\n",
       " '#God',\n",
       " '0',\n",
       " '0',\n",
       " '#PresidentElectTrump',\n",
       " '#Healthcare',\n",
       " '#Immigration',\n",
       " '#60Minutes',\n",
       " '#PresidentT…',\n",
       " '#2016In4Words',\n",
       " '0',\n",
       " '#NewsOneNow',\n",
       " '0',\n",
       " '0',\n",
       " '0',\n",
       " '0',\n",
       " '0',\n",
       " '#520PROMO',\n",
       " '#RT',\n",
       " '#ObamasWishList',\n",
       " '#MyMortalKombatFatality',\n",
       " '#IGetDepressedWhen',\n",
       " '0',\n",
       " '0',\n",
       " '0',\n",
       " '#PolicticalNews',\n",
       " '#ConservativeNews',\n",
       " '#TinyTrump',\n",
       " '0',\n",
       " '0',\n",
       " '0',\n",
       " '#GoToHell',\n",
       " '0',\n",
       " '#poll,',\n",
       " '0',\n",
       " '#politics',\n",
       " '0',\n",
       " '0',\n",
       " '#PatriotsUnited',\n",
       " '0',\n",
       " '0',\n",
       " '0',\n",
       " '0',\n",
       " '#RobotHipHop',\n",
       " '#ThingsNotTaughtAtSchool',\n",
       " '0',\n",
       " '0',\n",
       " '0',\n",
       " '0',\n",
       " '0',\n",
       " '#trapbeats',\n",
       " '#SometimesItsOkTo',\n",
       " '#ChristmasAftermath',\n",
       " '0',\n",
       " '#ObservationsAtTheMarathon',\n",
       " '#Merkelmussbleiben',\n",
       " '#girlstalkselfies',\n",
       " '#IStartCryingWhen',\n",
       " '0',\n",
       " '0',\n",
       " '0',\n",
       " '0',\n",
       " '#TrumpTrain',\n",
       " '#VoteTrump2016',\n",
       " '#Trump20…',\n",
       " '0',\n",
       " '0',\n",
       " '#TrumpPence16…',\n",
       " '#OED',\n",
       " '#SNL',\n",
       " '#DailyShow',\n",
       " '#millennial',\n",
       " '#women',\n",
       " '#LGBT',\n",
       " '#AndersonCooper',\n",
       " '#MarthaRaddatz',\n",
       " '#VermontRefugeeResettlementProgram',\n",
       " '#VRRP…',\n",
       " '0',\n",
       " '0',\n",
       " '#politics',\n",
       " '#GoDucks',\n",
       " '0',\n",
       " '0',\n",
       " '#RealLifeMagicSpells',\n",
       " '0',\n",
       " '0',\n",
       " '0',\n",
       " '0',\n",
       " '#BetterElfNames',\n",
       " '0',\n",
       " '0',\n",
       " '0',\n",
       " '0',\n",
       " '0',\n",
       " '0',\n",
       " '#VoterFraud',\n",
       " '#politics',\n",
       " '0',\n",
       " '#2A',\n",
       " '#NRA',\n",
       " '#PJNET',\n",
       " '#tcot',\n",
       " '#tgdn',\n",
       " '#c…',\n",
       " '#PopUp',\n",
       " '#BlackHistory',\n",
       " '#BlackTwitter',\n",
       " '#BookSpinePoem',\n",
       " '0',\n",
       " '0',\n",
       " '#WhenImOldandGrey',\n",
       " '#Fakenews',\n",
       " '#BenGarrison',\n",
       " '#cartoon',\n",
       " '#My2017Resolution',\n",
       " \"#HillaryClinton's\",\n",
       " '#p2',\n",
       " '#topprog',\n",
       " '#Schanze',\n",
       " '#G20',\n",
       " '#realdonaldtrump',\n",
       " '#maga',\n",
       " '#Wisconsin',\n",
       " '#tcot',\n",
       " '#1A',\n",
       " '#2',\n",
       " '0',\n",
       " '0',\n",
       " '0',\n",
       " '0',\n",
       " '#RejectedDebateTopics',\n",
       " '0',\n",
       " '0',\n",
       " '0',\n",
       " '#America',\n",
       " '#IDontNeedACostumeBecause',\n",
       " '#TCOT',\n",
       " '#WakeUpAmerica',\n",
       " '#PJNET',\n",
       " '0',\n",
       " '#mornin…',\n",
       " '#MomIn5Words',\n",
       " '0',\n",
       " '0',\n",
       " '#MAGA',\n",
       " '0',\n",
       " '#Cybercensorship',\n",
       " '#NoCyberCensorship',\n",
       " '#love',\n",
       " '0',\n",
       " '0',\n",
       " '#RealLifeMagicSpells',\n",
       " '0',\n",
       " '0',\n",
       " '0',\n",
       " '0',\n",
       " '#flint',\n",
       " '#MSNBC:',\n",
       " '#PodestaEmai…',\n",
       " '#RejectedLegoMinifigures',\n",
       " '0',\n",
       " '#SoftenABadGuy',\n",
       " '0',\n",
       " '#SongsHannibalWouldSing',\n",
       " '0',\n",
       " '#TuesdayMotivation',\n",
       " '#politics',\n",
       " '0',\n",
       " '0',\n",
       " '#MomIn5Words',\n",
       " '0',\n",
       " '0',\n",
       " '#Trump2016',\n",
       " '#MAGA',\n",
       " '#HILLARY2JAIL',\n",
       " '#BILL2JAIL!',\n",
       " '#itsok2begay',\n",
       " '0',\n",
       " '0',\n",
       " '0',\n",
       " '#Merkel',\n",
       " '#Kanzlerin',\n",
       " '#Deutschland,',\n",
       " '#MerkelMussBleiben',\n",
       " '#NeverHillary',\n",
       " ...]"
      ]
     },
     "execution_count": 458,
     "metadata": {},
     "output_type": "execute_result"
    }
   ],
   "source": [
    "flatten_list(all_hashtags)"
   ]
  },
  {
   "cell_type": "code",
   "execution_count": null,
   "metadata": {},
   "outputs": [],
   "source": []
  },
  {
   "cell_type": "markdown",
   "metadata": {},
   "source": [
    "### 7.. .Convert 2-D list into 1-D Using numpy  "
   ]
  },
  {
   "cell_type": "code",
   "execution_count": 459,
   "metadata": {},
   "outputs": [
    {
     "data": {
      "text/plain": [
       "['#IslamKills',\n",
       " '0',\n",
       " '0',\n",
       " '#ChristmasAftermath',\n",
       " '0',\n",
       " '0',\n",
       " '0',\n",
       " '0',\n",
       " '0',\n",
       " '#BlackLivesMatter',\n",
       " '#BlackPressDay',\n",
       " '#myfarewellwordswouldbe',\n",
       " '0',\n",
       " '0',\n",
       " '0',\n",
       " '0',\n",
       " '#My2017BiggestHope',\n",
       " '#Obama',\n",
       " '#1',\n",
       " '0',\n",
       " '0',\n",
       " '#politics',\n",
       " '0',\n",
       " '#TexasJihad',\n",
       " '#DayWithoutImmigrants',\n",
       " '#Islamisten',\n",
       " '#ISIS',\n",
       " '0',\n",
       " '#StopIslam',\n",
       " '#IslamKills',\n",
       " '0',\n",
       " '#Friyay',\n",
       " '0',\n",
       " '0',\n",
       " '0',\n",
       " '#ItsRiskyTo',\n",
       " '0',\n",
       " '#whenthestarsgoblue',\n",
       " '#RejectedDebateTopics',\n",
       " '#mutual',\n",
       " '#respect',\n",
       " '#SearchesGoogleIsAshamedOf',\n",
       " '0',\n",
       " '0',\n",
       " '#OneLetterOffSports',\n",
       " '#HashtagWars',\n",
       " '#God',\n",
       " '#religions...',\n",
       " '0',\n",
       " '#KSHBC',\n",
       " '#MAGA',\n",
       " '#SuperBowl',\n",
       " '0',\n",
       " '0',\n",
       " '0',\n",
       " '#Armageddon',\n",
       " '0',\n",
       " '#ToDoListBeforeChristmas',\n",
       " '#2017trendsreport',\n",
       " '#Excellent',\n",
       " '#RT',\n",
       " '#UrgentAction',\n",
       " '0',\n",
       " '#Merkel',\n",
       " '#Deutschland',\n",
       " '0',\n",
       " '#Palestinian',\n",
       " '#Arab',\n",
       " '#terrorist',\n",
       " '#Jerusalem',\n",
       " '#BlacksForTrump',\n",
       " '0',\n",
       " '0',\n",
       " '0',\n",
       " '0',\n",
       " '0',\n",
       " '0',\n",
       " '#BlacksForTrump',\n",
       " '#MakeAmericaGreatAgain',\n",
       " '#Blacks4Trump…',\n",
       " '0',\n",
       " '0',\n",
       " '0',\n",
       " '0',\n",
       " '0',\n",
       " '0',\n",
       " '#ValentinesDayIn3Words',\n",
       " '#MakeAmericaGreatAgain',\n",
       " '0',\n",
       " '0',\n",
       " '#Guns4NY',\n",
       " '#PrayForFlorida',\n",
       " '0',\n",
       " '0',\n",
       " '#ChildrenThinkThat',\n",
       " '#MyBestFriendIsntAllowed',\n",
       " '0',\n",
       " '0',\n",
       " '#HateToEatAndRun,',\n",
       " '0',\n",
       " '#IslamKills',\n",
       " '#ParisAttacks',\n",
       " '#Brussels',\n",
       " '0',\n",
       " '0',\n",
       " '0',\n",
       " '0',\n",
       " '0',\n",
       " '#EDQ',\n",
       " '#ferguson',\n",
       " '0',\n",
       " '0',\n",
       " '0',\n",
       " '0',\n",
       " '0',\n",
       " '#RT',\n",
       " '#RT',\n",
       " '#CCOT',\n",
       " '#TCOT',\n",
       " '#Cleveland',\n",
       " '#politics',\n",
       " '#Iamonfire',\n",
       " '#TedCruz',\n",
       " '#DeathByDemocrat',\n",
       " '#Linksextremismus',\n",
       " '#G20',\n",
       " '#NoG20',\n",
       " '#ObamasWishList',\n",
       " '#Debate',\n",
       " '#ThankACop',\n",
       " '#LawEnforc…',\n",
       " '0',\n",
       " '0',\n",
       " '#StayWoke',\n",
       " '#BlackExcellence',\n",
       " '#BlackHistoryMonth',\n",
       " '0',\n",
       " '0',\n",
       " '#WakeUpAmerica',\n",
       " '#sports',\n",
       " '0',\n",
       " '#RejectedDebateTopics:',\n",
       " '0',\n",
       " '0',\n",
       " '#GOPFaith',\n",
       " '0',\n",
       " '0',\n",
       " '0',\n",
       " '0',\n",
       " '#rejecteddebatetopics',\n",
       " '0',\n",
       " '0',\n",
       " '#TeamCap',\n",
       " '#TeamIronMan',\n",
       " '#RejectedDebateTopics',\n",
       " '0',\n",
       " '#8217;s',\n",
       " '#CatTV',\n",
       " '#AfD',\n",
       " '#Merkelmussbleiben',\n",
       " '#CarpoolKaraoke',\n",
       " '#MakeMeHateYouInOnePhrase',\n",
       " '#Bitcoin',\n",
       " '#crypto',\n",
       " '#cryptocurrency',\n",
       " '#Hollande',\n",
       " '#Merkelmussbleiben',\n",
       " '0',\n",
       " '0',\n",
       " '#blm',\n",
       " '0',\n",
       " '#MyDreamPresidentIs',\n",
       " '#NoCyberCensorship',\n",
       " '#IGetDepressedWhen',\n",
       " '#FF',\n",
       " '#Election2016',\n",
       " '#American',\n",
       " '#Trump_…',\n",
       " '0',\n",
       " '0',\n",
       " '#ReasonIAmNotPresident',\n",
       " '0',\n",
       " '0',\n",
       " '#TimMcGraw',\n",
       " '#WCS15',\n",
       " '#YCLC15',\n",
       " '#rootrevival',\n",
       " '#DNCLeak',\n",
       " '#DNCLeaks',\n",
       " '#WhatIWouldTellA15YearOldMe',\n",
       " '0',\n",
       " '#ThingsToKnowAboutTwitter',\n",
       " '0',\n",
       " '0',\n",
       " '#CarSongsOrBand',\n",
       " '#AddAMovieRuinAMovie',\n",
       " '0',\n",
       " '0',\n",
       " '0',\n",
       " '0',\n",
       " '0',\n",
       " '#ClintonHate',\n",
       " '#deplorablelivesmatter',\n",
       " '#BillRapesEverydayAmericans',\n",
       " '#FBI',\n",
       " '0',\n",
       " '0',\n",
       " '0',\n",
       " '0',\n",
       " '#USPeopleDEMANDUSMilitaryDEPOSELawlessSerialCriminal',\n",
       " '#EVILTerroristTraitorUsurperØbama',\n",
       " '#EndUSNightmare',\n",
       " '#IAmThankfulFor',\n",
       " '0',\n",
       " '#TVLifeLessonsILearned',\n",
       " '#Freitagmorgen',\n",
       " '#InsteadOfWatchingTheBigGame',\n",
       " '#Prayers4California',\n",
       " '0',\n",
       " '0',\n",
       " '0',\n",
       " '#ChristmasAftermath',\n",
       " '0',\n",
       " '#ToAvoidWorkI',\n",
       " '#InCaseAnyoneAsks',\n",
       " '0',\n",
       " '0',\n",
       " '#BanIslam',\n",
       " '#Orlando',\n",
       " '#RenameMill…',\n",
       " '#MakeMeHateYouInOnePhrase',\n",
       " '#TCOT',\n",
       " '#CCOT',\n",
       " '0',\n",
       " '#IslamKills',\n",
       " '#IslamKills.',\n",
       " '#GoodNight',\n",
       " '0',\n",
       " '#tcot',\n",
       " '#ISIS',\n",
       " '#ORPUW',\n",
       " '#GiftIdeasForPoliticians',\n",
       " '#ShouldBeAllowedAtWork',\n",
       " '0',\n",
       " '0',\n",
       " '0',\n",
       " '#ElectionDay',\n",
       " '#TrumpPence16',\n",
       " '#LostIn3Words',\n",
       " '#ImGoingToMissObamaBecause',\n",
       " '#BillyBushMadeMeDoIt',\n",
       " '0',\n",
       " '0',\n",
       " '#RuinADinnerInOnePhrase',\n",
       " '0',\n",
       " '0',\n",
       " '#NoCyberCensorship',\n",
       " '#Snowden',\n",
       " '#PussyRiot',\n",
       " '#aiweiwei',\n",
       " '#weiwei',\n",
       " '#adblock',\n",
       " '#amnestyinternational',\n",
       " '#campaign',\n",
       " '#protest…',\n",
       " '0',\n",
       " '0',\n",
       " '0',\n",
       " '#TCOT',\n",
       " '#Trump',\n",
       " '#FoxNews…',\n",
       " '#SurvivalGuideToThanksgiving',\n",
       " '#politics',\n",
       " '#WorstPainEverIn3Words',\n",
       " '0',\n",
       " '0',\n",
       " '0',\n",
       " '#PASen',\n",
       " '#local',\n",
       " '#news',\n",
       " '#IGetDepressedWhen',\n",
       " '0',\n",
       " '0',\n",
       " '#ThingsMoreTrustedThanHillary',\n",
       " '0',\n",
       " '#Maas',\n",
       " '#deMaizière',\n",
       " '#NichtMitUns',\n",
       " '#IdRunForPresidentIf',\n",
       " '0',\n",
       " '#2016isaJoke',\n",
       " '0',\n",
       " '0',\n",
       " '#LostIn3Words',\n",
       " '0',\n",
       " '#IGetDepressedWhen',\n",
       " '#WearHoodieForTrayvon',\n",
       " '#WeAreAllTrayvon',\n",
       " '#Seattle',\n",
       " '#CharlestonShooting',\n",
       " '0',\n",
       " '#InDeraysResistanceManual',\n",
       " '#ChelseaClintonEmails1',\n",
       " '0',\n",
       " '#ToDoListBeforeChristmas',\n",
       " \"#HillaryClinton's\",\n",
       " '#emails',\n",
       " '0',\n",
       " '0',\n",
       " '#Iamonfire',\n",
       " '#sbbtv',\n",
       " '0',\n",
       " '#news',\n",
       " '0',\n",
       " '0',\n",
       " '0',\n",
       " '#mondaymotivation',\n",
       " '#GiftIdeasForPoliticians',\n",
       " '#NotEnough',\n",
       " '0',\n",
       " '0',\n",
       " '#Shooting',\n",
       " '#RooseveltFieldMall',\n",
       " '#GardenCityShooting',\n",
       " '#TrumpPence16',\n",
       " '#Trump2k16',\n",
       " '#MAGA',\n",
       " '#Election2016',\n",
       " '#MakeAmericaGreatAgain',\n",
       " '#TrumpForPresident',\n",
       " '0',\n",
       " '#RejectedDebateTopics',\n",
       " '0',\n",
       " '0',\n",
       " '0',\n",
       " '#ToAvoidWorkI',\n",
       " '#CowTV',\n",
       " '0',\n",
       " '0',\n",
       " '0',\n",
       " '0',\n",
       " '0',\n",
       " '#RuinADinnerInOnePhrase',\n",
       " '0',\n",
       " '#news',\n",
       " '0',\n",
       " '0',\n",
       " '#LastMinuteGifts2016',\n",
       " '#DueyDialerNews',\n",
       " '#Marketing',\n",
       " '#YourRights',\n",
       " '#DUI',\n",
       " '#Lawyers',\n",
       " '0',\n",
       " '0',\n",
       " '#MyEmmyNominationWouldBe',\n",
       " '0',\n",
       " '#NowPlaying',\n",
       " '0',\n",
       " '0',\n",
       " '#ToDoListBeforeChristmas',\n",
       " '#PJNET',\n",
       " '#Jun…',\n",
       " '#HillaryNoThnx',\n",
       " '0',\n",
       " '0',\n",
       " '#ICelebrateTrumpWith',\n",
       " '#IfHillaryBecomesPresident',\n",
       " '#GameAlert',\n",
       " '#2016ElectionIn3Words',\n",
       " '0',\n",
       " '0',\n",
       " '#RichMovies',\n",
       " '#ThingsYouCantIgnore',\n",
       " '#FunThingsIveDoneInChurch',\n",
       " '#THEOLOGY',\n",
       " '#tcot',\n",
       " '#PJNET',\n",
       " '#ccot',\n",
       " '#WakeUpAmerica',\n",
       " '#RedNationRising',\n",
       " '#TrumpBecause',\n",
       " '#DonaldTrumpforPresident',\n",
       " '#America',\n",
       " '0',\n",
       " '#80s90sSongMashup',\n",
       " '0',\n",
       " '0',\n",
       " '#DumberBroadway',\n",
       " '#ProbableTrumpsTweets',\n",
       " '#SecondhandGifts',\n",
       " '#HappyBirthdayHarryTruman',\n",
       " '#ccot',\n",
       " '#AddABandToATVShow',\n",
       " '0',\n",
       " '0',\n",
       " '#RiggedSystem',\n",
       " '0',\n",
       " '#Trump',\n",
       " '#TrumpBecause',\n",
       " '#TeaPartyNews',\n",
       " '#NObama',\n",
       " '#2a',\n",
       " '#guns',\n",
       " '#tcot',\n",
       " '#pjnet',\n",
       " '#tcot',\n",
       " '#GOP',\n",
       " '#ThingsYouCantIgnore',\n",
       " '#ThingsToKnowAboutTwitter',\n",
       " '0',\n",
       " '0',\n",
       " '#politics',\n",
       " '#RIPJJ',\n",
       " '#Mississippi',\n",
       " '#theGodbox',\n",
       " '0',\n",
       " '0',\n",
       " '0',\n",
       " '#ExtremeVetting',\n",
       " '#WakeUpAmerica',\n",
       " '0',\n",
       " '#Banners',\n",
       " '#Print',\n",
       " '#Printer',\n",
       " '#Backdrops',\n",
       " '#Props',\n",
       " '#Clinton',\n",
       " '#Trump',\n",
       " '#Unity…',\n",
       " '0',\n",
       " '#NeverKamala',\n",
       " '0',\n",
       " '0',\n",
       " '0',\n",
       " '#MeanGirlsRules',\n",
       " '0',\n",
       " '0',\n",
       " '#تركیه',\n",
       " '0',\n",
       " '0',\n",
       " '0',\n",
       " '0',\n",
       " '0',\n",
       " '#BlackWomenVote',\n",
       " '#ImWitHer',\n",
       " '#Election2016',\n",
       " '#DealBreakerIn3Words',\n",
       " '0',\n",
       " '0',\n",
       " '0',\n",
       " '0',\n",
       " '#VETS',\n",
       " '#NRA',\n",
       " '#CCOT',\n",
       " '#TCOT',\n",
       " '#GOP',\n",
       " '0',\n",
       " '0',\n",
       " '0',\n",
       " '#JapanAMovie',\n",
       " '0',\n",
       " '0',\n",
       " '0',\n",
       " '0',\n",
       " '0',\n",
       " '#Benghazi',\n",
       " '#ElectionDay',\n",
       " '0',\n",
       " '#RatherHaveTheBoxThan',\n",
       " '#NowPlaying',\n",
       " '0',\n",
       " '0',\n",
       " '0',\n",
       " '#DemsForTrump',\n",
       " '#CORRUPT',\n",
       " '#VoteTrump2016',\n",
       " '#HillaryClinton',\n",
       " '#CrookedClinton',\n",
       " '#SexySports',\n",
       " '#POTU…',\n",
       " '0',\n",
       " '0',\n",
       " '#HappyBirthdayHarryTruman',\n",
       " '0',\n",
       " '#Election2016',\n",
       " '#Trump2016',\n",
       " '#ElectionDay',\n",
       " '#VoteTrump',\n",
       " '0',\n",
       " '#OscarHasNoColor',\n",
       " '0',\n",
       " '0',\n",
       " '#WriteAPanel',\n",
       " '0',\n",
       " '0',\n",
       " '#HillarysHealth',\n",
       " '#HillarysBodyDouble',\n",
       " '0',\n",
       " '0',\n",
       " '0',\n",
       " '#TrumpSacrifices',\n",
       " '#WHLeaks',\n",
       " '#DUNKTIME',\n",
       " '#BlackLivesMatter',\n",
       " '#election2016.',\n",
       " '#KeithLamontScott',\n",
       " '#2016In4Words',\n",
       " '#DontTellAnyoneBut',\n",
       " '#POTUSLastTweet',\n",
       " '#NotMyPresident',\n",
       " '#AddCartoonsToHistory',\n",
       " '#Honors',\n",
       " '#MonmouthUniversity',\n",
       " '0',\n",
       " '0',\n",
       " '#NeverHillary',\n",
       " '#BigLeagueTruth',\n",
       " '#SuperheroPresidentialSlogans',\n",
       " '0',\n",
       " '#2017SurvivalTips',\n",
       " '#IStandWithIsrael',\n",
       " '#PJNET',\n",
       " '#VoteTrump',\n",
       " '#ImWithYou',\n",
       " '0',\n",
       " '#My2017Resolution',\n",
       " '#news',\n",
       " '#Chicago',\n",
       " '0',\n",
       " '#Army',\n",
       " '#PJNET',\n",
       " '#skypapers',\n",
       " '0',\n",
       " '0',\n",
       " '#IslamKills',\n",
       " '#StopIslam',\n",
       " '#trump',\n",
       " '#45',\n",
       " '#WakeUpAmerica',\n",
       " '#PJNET',\n",
       " '#POTUSLastTweet',\n",
       " '0',\n",
       " '0',\n",
       " '0',\n",
       " '#TrumpBecause',\n",
       " '0',\n",
       " '#SurvivalGuideToThanksgiving',\n",
       " '0',\n",
       " '#tcot',\n",
       " '0',\n",
       " '0',\n",
       " '#ImTooOldFor',\n",
       " '0',\n",
       " '#RealLifeMagicSpells',\n",
       " '0',\n",
       " '#Wake…',\n",
       " '#ValentinesDayIn3Words',\n",
       " '0',\n",
       " '0',\n",
       " '0',\n",
       " '#OurRevolution',\n",
       " '0',\n",
       " '#Cybercensorship',\n",
       " '#Cybersecurity',\n",
       " '#NoCyberCensorship',\n",
       " '#DemnDebate',\n",
       " '#DemDebate',\n",
       " '#ClimateChange',\n",
       " '#happ…',\n",
       " '0',\n",
       " '#TrumpTrain…',\n",
       " '#TrumpForPresident',\n",
       " '#RoastandRide',\n",
       " '#TopNews',\n",
       " '#RuinADinnerInOnePhrase',\n",
       " '0',\n",
       " '#BadPlacesToPutAPenis',\n",
       " '#Deutschland',\n",
       " '#Flüchtlinge',\n",
       " '#Merkel',\n",
       " '0',\n",
       " '0',\n",
       " '0',\n",
       " '0',\n",
       " '0',\n",
       " '0',\n",
       " '0',\n",
       " '0',\n",
       " '#MyTransformationLooksLike',\n",
       " '#Merkelmussbleiben',\n",
       " '#girlstalkselfies',\n",
       " '0',\n",
       " '#interiordesign',\n",
       " '#spon',\n",
       " '#writeapanel',\n",
       " '#ChildrenThinkThat',\n",
       " '0',\n",
       " '#Hamburg',\n",
       " '#PJNET…',\n",
       " '0',\n",
       " '0',\n",
       " '0',\n",
       " '#ChristmasAftermath',\n",
       " '0',\n",
       " '0',\n",
       " '0',\n",
       " '#R…',\n",
       " '0',\n",
       " '0',\n",
       " '0',\n",
       " '0',\n",
       " '#InsteadOfMoneyPayMeIn',\n",
       " '0',\n",
       " '#HateToEatAndRun',\n",
       " '0',\n",
       " '#BasketOfDeplorables',\n",
       " '#TheFirst100DaysToDoList',\n",
       " '0',\n",
       " '#Liberty',\n",
       " '#tcot',\n",
       " '#TeaParty',\n",
       " '#Dontgetfooledagain',\n",
       " '0',\n",
       " '#ThingsPeopleOnTwitterLike',\n",
       " '0',\n",
       " '#CancelPlansIn5Words',\n",
       " '#Merkel',\n",
       " '#Deutschland',\n",
       " '#Merkelmussbleiben',\n",
       " '#News',\n",
       " '#Crime',\n",
       " '0',\n",
       " '#Muslims',\n",
       " '#MyOlympicSportWouldBe',\n",
       " '#BetterAlternativeToDebates',\n",
       " '#HappyBirthdayHarryTruman',\n",
       " '#WhenITimeTravel',\n",
       " '#Dems',\n",
       " '#UnAmerican',\n",
       " '#DrainTheSwamp',\n",
       " '0',\n",
       " '0',\n",
       " '0',\n",
       " '#ThursdayThoughts',\n",
       " '#noticias',\n",
       " '0',\n",
       " '#DrunkBands',\n",
       " '#HillaryClinton',\n",
       " '#Veritas',\n",
       " '#NeverHillary',\n",
       " '#T…',\n",
       " '#InsecureHBO',\n",
       " '#DNCleak',\n",
       " '0',\n",
       " '#EasterIn4Words',\n",
       " '#Birther',\n",
       " '0',\n",
       " '0',\n",
       " '#AWordICantStandIs',\n",
       " '#WeirdThingsToBuyOnline',\n",
       " '0',\n",
       " '#PrayForGay',\n",
       " '#TolerantLeft',\n",
       " '#TodayIsGoingToBeGreatBecause',\n",
       " '#opportunities',\n",
       " '#BetterAlternativeToDebates.',\n",
       " '0',\n",
       " '0',\n",
       " '0',\n",
       " '#IfHillaryBecomesPresident',\n",
       " '0',\n",
       " '#ThingsPeopleOnTwitterLike',\n",
       " '#NeverHillary',\n",
       " '#VoteTrump',\n",
       " '0',\n",
       " '0',\n",
       " '0',\n",
       " '#NewYorkValues',\n",
       " '0',\n",
       " '0',\n",
       " '#Merkel',\n",
       " '#Merkelmussbleiben',\n",
       " '0',\n",
       " '0',\n",
       " '0',\n",
       " '#NeverEverHillary',\n",
       " '0',\n",
       " '0',\n",
       " '0',\n",
       " '0',\n",
       " '0',\n",
       " '#politics',\n",
       " '#IndiaKager',\n",
       " '#IndiaBeaty',\n",
       " '#Kish…',\n",
       " '#IslamKills',\n",
       " '#teapartynews',\n",
       " '#teaparty',\n",
       " '#politics',\n",
       " '#conservative',\n",
       " '#usa',\n",
       " '#america',\n",
       " '#libertarian',\n",
       " '#nobama',\n",
       " '#wethepeople',\n",
       " '#patriot',\n",
       " '#politics',\n",
       " '0',\n",
       " '#DemDebateMiami',\n",
       " '0',\n",
       " '#FakeNews!',\n",
       " '#RealNews',\n",
       " '#RTifYouAre',\n",
       " '#ObamaHillary',\n",
       " '#CrookedHillary',\n",
       " '#IranRansom',\n",
       " '#TrumpPence16',\n",
       " '#MAGA',\n",
       " '#RTifYouAre',\n",
       " '0',\n",
       " '0',\n",
       " '0',\n",
       " '#hiphop',\n",
       " '0',\n",
       " '0',\n",
       " '0',\n",
       " '#IfMyFriendsSawMeNow',\n",
       " '#politics',\n",
       " '#SOROS',\n",
       " '0',\n",
       " '0',\n",
       " '0',\n",
       " '0',\n",
       " '0',\n",
       " '0',\n",
       " '#Munich',\n",
       " '0',\n",
       " '0',\n",
       " '0',\n",
       " '0',\n",
       " '#SecondhandGifts',\n",
       " '#Debate',\n",
       " '0',\n",
       " '0',\n",
       " '#MAGA',\n",
       " '#GodBles…',\n",
       " '0',\n",
       " '#SextingWentWrongWhen',\n",
       " '0',\n",
       " '#ThingsNotTaughtAtSchool',\n",
       " '0',\n",
       " '#Muslim',\n",
       " '#FakeChristmasSongFacts',\n",
       " '#1',\n",
       " '0',\n",
       " '#BlackLivesMatter',\n",
       " '#RNCinCLE',\n",
       " '#Trump',\n",
       " '#Tatiana',\n",
       " '#MakeTVShowsAustralian',\n",
       " '0',\n",
       " '#ICelebrateTrumpWith',\n",
       " '#HOT1071',\n",
       " '#HIPHOP',\n",
       " '#NOWPLAYING',\n",
       " '#STREAMING',\n",
       " '#DescribeYourselfin5words',\n",
       " '#politics',\n",
       " '#TrumpTrain',\n",
       " '#SoftenABadGuy',\n",
       " '#IdRunForPresidentIf',\n",
       " '#CRconvention',\n",
       " '#CruzCrew',\n",
       " '#PJNET',\n",
       " '#Stoodup',\n",
       " '0',\n",
       " '#JesusCalling',\n",
       " '0',\n",
       " '#PA',\n",
       " '#CO',\n",
       " '#MI',\n",
       " '#MN',\n",
       " '#WI',\n",
       " '#NM',\n",
       " '#VA',\n",
       " '#OR',\n",
       " '#NJ',\n",
       " '#OH',\n",
       " '#CT',\n",
       " '#NH',\n",
       " '#NC',\n",
       " '#VA',\n",
       " '#NV',\n",
       " '#FL',\n",
       " '#squeakyclean',\n",
       " '#CR4U',\n",
       " '0',\n",
       " '#BlackLivesMatter',\n",
       " '0',\n",
       " '0',\n",
       " '#Merkel',\n",
       " '#Merkelmussbleiben',\n",
       " '#girlstalkselfies',\n",
       " '0',\n",
       " '0',\n",
       " '0',\n",
       " '0',\n",
       " '#ToDoListBeforeChristmas',\n",
       " '0',\n",
       " '#GoCubs',\n",
       " '0',\n",
       " '0',\n",
       " '0',\n",
       " '0',\n",
       " '#God',\n",
       " '0',\n",
       " '0',\n",
       " '#PresidentElectTrump',\n",
       " '#Healthcare',\n",
       " '#Immigration',\n",
       " '#60Minutes',\n",
       " '#PresidentT…',\n",
       " '#2016In4Words',\n",
       " '0',\n",
       " '#NewsOneNow',\n",
       " '0',\n",
       " '0',\n",
       " '0',\n",
       " '0',\n",
       " '0',\n",
       " '#520PROMO',\n",
       " '#RT',\n",
       " '#ObamasWishList',\n",
       " '#MyMortalKombatFatality',\n",
       " '#IGetDepressedWhen',\n",
       " '0',\n",
       " '0',\n",
       " '0',\n",
       " '#PolicticalNews',\n",
       " '#ConservativeNews',\n",
       " '#TinyTrump',\n",
       " '0',\n",
       " '0',\n",
       " '0',\n",
       " '#GoToHell',\n",
       " '0',\n",
       " '#poll,',\n",
       " '0',\n",
       " '#politics',\n",
       " '0',\n",
       " '0',\n",
       " '#PatriotsUnited',\n",
       " '0',\n",
       " '0',\n",
       " '0',\n",
       " '0',\n",
       " '#RobotHipHop',\n",
       " '#ThingsNotTaughtAtSchool',\n",
       " '0',\n",
       " '0',\n",
       " '0',\n",
       " '0',\n",
       " '0',\n",
       " '#trapbeats',\n",
       " '#SometimesItsOkTo',\n",
       " '#ChristmasAftermath',\n",
       " '0',\n",
       " '#ObservationsAtTheMarathon',\n",
       " '#Merkelmussbleiben',\n",
       " '#girlstalkselfies',\n",
       " '#IStartCryingWhen',\n",
       " '0',\n",
       " '0',\n",
       " '0',\n",
       " '0',\n",
       " '#TrumpTrain',\n",
       " '#VoteTrump2016',\n",
       " '#Trump20…',\n",
       " '0',\n",
       " '0',\n",
       " '#TrumpPence16…',\n",
       " '#OED',\n",
       " '#SNL',\n",
       " '#DailyShow',\n",
       " '#millennial',\n",
       " '#women',\n",
       " '#LGBT',\n",
       " '#AndersonCooper',\n",
       " '#MarthaRaddatz',\n",
       " '#VermontRefugeeResettlementProgram',\n",
       " '#VRRP…',\n",
       " '0',\n",
       " '0',\n",
       " '#politics',\n",
       " '#GoDucks',\n",
       " '0',\n",
       " '0',\n",
       " '#RealLifeMagicSpells',\n",
       " '0',\n",
       " '0',\n",
       " '0',\n",
       " '0',\n",
       " '#BetterElfNames',\n",
       " '0',\n",
       " '0',\n",
       " '0',\n",
       " '0',\n",
       " '0',\n",
       " '0',\n",
       " '#VoterFraud',\n",
       " '#politics',\n",
       " '0',\n",
       " '#2A',\n",
       " '#NRA',\n",
       " '#PJNET',\n",
       " '#tcot',\n",
       " '#tgdn',\n",
       " '#c…',\n",
       " '#PopUp',\n",
       " '#BlackHistory',\n",
       " '#BlackTwitter',\n",
       " '#BookSpinePoem',\n",
       " '0',\n",
       " '0',\n",
       " '#WhenImOldandGrey',\n",
       " '#Fakenews',\n",
       " '#BenGarrison',\n",
       " '#cartoon',\n",
       " '#My2017Resolution',\n",
       " \"#HillaryClinton's\",\n",
       " '#p2',\n",
       " '#topprog',\n",
       " '#Schanze',\n",
       " '#G20',\n",
       " '#realdonaldtrump',\n",
       " '#maga',\n",
       " '#Wisconsin',\n",
       " '#tcot',\n",
       " '#1A',\n",
       " '#2',\n",
       " '0',\n",
       " '0',\n",
       " '0',\n",
       " '0',\n",
       " '#RejectedDebateTopics',\n",
       " '0',\n",
       " '0',\n",
       " '0',\n",
       " '#America',\n",
       " '#IDontNeedACostumeBecause',\n",
       " '#TCOT',\n",
       " '#WakeUpAmerica',\n",
       " '#PJNET',\n",
       " '0',\n",
       " '#mornin…',\n",
       " '#MomIn5Words',\n",
       " '0',\n",
       " '0',\n",
       " '#MAGA',\n",
       " '0',\n",
       " '#Cybercensorship',\n",
       " '#NoCyberCensorship',\n",
       " '#love',\n",
       " '0',\n",
       " '0',\n",
       " '#RealLifeMagicSpells',\n",
       " '0',\n",
       " '0',\n",
       " '0',\n",
       " '0',\n",
       " '#flint',\n",
       " '#MSNBC:',\n",
       " '#PodestaEmai…',\n",
       " '#RejectedLegoMinifigures',\n",
       " '0',\n",
       " '#SoftenABadGuy',\n",
       " '0',\n",
       " '#SongsHannibalWouldSing',\n",
       " '0',\n",
       " '#TuesdayMotivation',\n",
       " '#politics',\n",
       " '0',\n",
       " '0',\n",
       " '#MomIn5Words',\n",
       " '0',\n",
       " '0',\n",
       " '#Trump2016',\n",
       " '#MAGA',\n",
       " '#HILLARY2JAIL',\n",
       " '#BILL2JAIL!',\n",
       " '#itsok2begay',\n",
       " '0',\n",
       " '0',\n",
       " '0',\n",
       " '#Merkel',\n",
       " '#Kanzlerin',\n",
       " '#Deutschland,',\n",
       " '#MerkelMussBleiben',\n",
       " '#NeverHillary',\n",
       " ...]"
      ]
     },
     "execution_count": 459,
     "metadata": {},
     "output_type": "execute_result"
    }
   ],
   "source": [
    "list(np.concatenate(all_hashtags).flat)"
   ]
  },
  {
   "cell_type": "code",
   "execution_count": null,
   "metadata": {},
   "outputs": [],
   "source": []
  },
  {
   "cell_type": "code",
   "execution_count": null,
   "metadata": {},
   "outputs": [],
   "source": []
  },
  {
   "cell_type": "code",
   "execution_count": null,
   "metadata": {},
   "outputs": [],
   "source": []
  },
  {
   "cell_type": "code",
   "execution_count": null,
   "metadata": {},
   "outputs": [],
   "source": []
  },
  {
   "cell_type": "code",
   "execution_count": 460,
   "metadata": {},
   "outputs": [],
   "source": [
    "## 1D list-->> cleaned_hashtags"
   ]
  },
  {
   "cell_type": "code",
   "execution_count": 461,
   "metadata": {},
   "outputs": [],
   "source": [
    "# Convert cleaned_hashtags to a Dataframe and count the most frequent occuring\n",
    "cleaned_hashtag = pd.DataFrame(cleaned_hashtags)\n"
   ]
  },
  {
   "cell_type": "code",
   "execution_count": 462,
   "metadata": {},
   "outputs": [],
   "source": [
    "cleaned_hashtag.columns=['Hashtags']"
   ]
  },
  {
   "cell_type": "code",
   "execution_count": 463,
   "metadata": {},
   "outputs": [
    {
     "data": {
      "text/plain": [
       "#politics                                                  3635\n",
       "#tcot                                                      2797\n",
       "#MAGA                                                      2298\n",
       "#PJNET                                                     2119\n",
       "#news                                                      2046\n",
       "                                                           ... \n",
       "#AuraGammi                                                    1\n",
       "#NaturalLaw,#Constitution,#BillofRights,#RuleofLaw&amp;       1\n",
       "#vacaysofleeting                                              1\n",
       "#donttalktome                                                 1\n",
       "#UHCL.                                                        1\n",
       "Name: Hashtags, Length: 28578, dtype: int64"
      ]
     },
     "execution_count": 463,
     "metadata": {},
     "output_type": "execute_result"
    }
   ],
   "source": [
    "hashtag_counts = cleaned_hashtag['Hashtags'].value_counts()\n",
    "hashtag_counts[1:]"
   ]
  },
  {
   "cell_type": "code",
   "execution_count": null,
   "metadata": {},
   "outputs": [],
   "source": []
  },
  {
   "cell_type": "code",
   "execution_count": 464,
   "metadata": {},
   "outputs": [],
   "source": [
    "## above technique also works for emojis analysis of youtube.."
   ]
  },
  {
   "cell_type": "code",
   "execution_count": null,
   "metadata": {},
   "outputs": [],
   "source": []
  },
  {
   "cell_type": "markdown",
   "metadata": {},
   "source": [
    "##### now lets perform Wordcloud Analysis"
   ]
  },
  {
   "cell_type": "code",
   "execution_count": 465,
   "metadata": {},
   "outputs": [],
   "source": [
    "### lets try to create its wordcloud for better conclusion of Hashtags\n",
    "## for wordcloud , we need our data in the form of strings"
   ]
  },
  {
   "cell_type": "code",
   "execution_count": 466,
   "metadata": {},
   "outputs": [
    {
     "data": {
      "text/plain": [
       "(266372, 1)"
      ]
     },
     "execution_count": 466,
     "metadata": {},
     "output_type": "execute_result"
    }
   ],
   "source": [
    "cleaned_hashtag.shape"
   ]
  },
  {
   "cell_type": "code",
   "execution_count": 467,
   "metadata": {},
   "outputs": [
    {
     "data": {
      "text/html": [
       "<div>\n",
       "<style scoped>\n",
       "    .dataframe tbody tr th:only-of-type {\n",
       "        vertical-align: middle;\n",
       "    }\n",
       "\n",
       "    .dataframe tbody tr th {\n",
       "        vertical-align: top;\n",
       "    }\n",
       "\n",
       "    .dataframe thead th {\n",
       "        text-align: right;\n",
       "    }\n",
       "</style>\n",
       "<table border=\"1\" class=\"dataframe\">\n",
       "  <thead>\n",
       "    <tr style=\"text-align: right;\">\n",
       "      <th></th>\n",
       "      <th>Hashtags</th>\n",
       "    </tr>\n",
       "  </thead>\n",
       "  <tbody>\n",
       "    <tr>\n",
       "      <th>0</th>\n",
       "      <td>#IslamKills</td>\n",
       "    </tr>\n",
       "    <tr>\n",
       "      <th>1</th>\n",
       "      <td>0</td>\n",
       "    </tr>\n",
       "    <tr>\n",
       "      <th>2</th>\n",
       "      <td>0</td>\n",
       "    </tr>\n",
       "    <tr>\n",
       "      <th>3</th>\n",
       "      <td>#ChristmasAftermath</td>\n",
       "    </tr>\n",
       "    <tr>\n",
       "      <th>4</th>\n",
       "      <td>0</td>\n",
       "    </tr>\n",
       "  </tbody>\n",
       "</table>\n",
       "</div>"
      ],
      "text/plain": [
       "              Hashtags\n",
       "0          #IslamKills\n",
       "1                    0\n",
       "2                    0\n",
       "3  #ChristmasAftermath\n",
       "4                    0"
      ]
     },
     "execution_count": 467,
     "metadata": {},
     "output_type": "execute_result"
    }
   ],
   "source": [
    "cleaned_hashtag.head()"
   ]
  },
  {
   "cell_type": "code",
   "execution_count": 468,
   "metadata": {},
   "outputs": [],
   "source": [
    "filter_hash=(cleaned_hashtag['Hashtags']!='0')\n"
   ]
  },
  {
   "cell_type": "code",
   "execution_count": 469,
   "metadata": {},
   "outputs": [],
   "source": [
    "hashtags=cleaned_hashtag[filter_hash]"
   ]
  },
  {
   "cell_type": "code",
   "execution_count": 470,
   "metadata": {},
   "outputs": [
    {
     "data": {
      "text/html": [
       "<div>\n",
       "<style scoped>\n",
       "    .dataframe tbody tr th:only-of-type {\n",
       "        vertical-align: middle;\n",
       "    }\n",
       "\n",
       "    .dataframe tbody tr th {\n",
       "        vertical-align: top;\n",
       "    }\n",
       "\n",
       "    .dataframe thead th {\n",
       "        text-align: right;\n",
       "    }\n",
       "</style>\n",
       "<table border=\"1\" class=\"dataframe\">\n",
       "  <thead>\n",
       "    <tr style=\"text-align: right;\">\n",
       "      <th></th>\n",
       "      <th>Hashtags</th>\n",
       "    </tr>\n",
       "  </thead>\n",
       "  <tbody>\n",
       "    <tr>\n",
       "      <th>0</th>\n",
       "      <td>#IslamKills</td>\n",
       "    </tr>\n",
       "    <tr>\n",
       "      <th>3</th>\n",
       "      <td>#ChristmasAftermath</td>\n",
       "    </tr>\n",
       "    <tr>\n",
       "      <th>9</th>\n",
       "      <td>#BlackLivesMatter</td>\n",
       "    </tr>\n",
       "    <tr>\n",
       "      <th>10</th>\n",
       "      <td>#BlackPressDay</td>\n",
       "    </tr>\n",
       "    <tr>\n",
       "      <th>11</th>\n",
       "      <td>#myfarewellwordswouldbe</td>\n",
       "    </tr>\n",
       "  </tbody>\n",
       "</table>\n",
       "</div>"
      ],
      "text/plain": [
       "                   Hashtags\n",
       "0               #IslamKills\n",
       "3       #ChristmasAftermath\n",
       "9         #BlackLivesMatter\n",
       "10           #BlackPressDay\n",
       "11  #myfarewellwordswouldbe"
      ]
     },
     "execution_count": 470,
     "metadata": {},
     "output_type": "execute_result"
    }
   ],
   "source": [
    "hashtags.head()"
   ]
  },
  {
   "cell_type": "code",
   "execution_count": 471,
   "metadata": {},
   "outputs": [],
   "source": [
    "hashes_words = \" \".join(hashtags['Hashtags'])"
   ]
  },
  {
   "cell_type": "code",
   "execution_count": 472,
   "metadata": {},
   "outputs": [
    {
     "data": {
      "image/png": "[encoded data removed]",
      "text/plain": [
       "<Figure size 1440x720 with 1 Axes>"
      ]
     },
     "metadata": {
      "needs_background": "light"
     },
     "output_type": "display_data"
    }
   ],
   "source": [
    "# generate the wordcloud. the max_words argument controls the number of words on the cloud\n",
    "\n",
    "from wordcloud import WordCloud\n",
    "wordcloud = WordCloud(width= 1600, height = 800,  \n",
    "                      colormap = \"Blues\",\n",
    "                     max_words = 100).generate(hashes_words)\n",
    "\n",
    "plt.figure(figsize=(20,10))\n",
    "plt.imshow(wordcloud)\n",
    "plt.axis(\"off\")\n",
    "plt.tight_layout(pad=0)\n",
    "plt.show()"
   ]
  },
  {
   "cell_type": "code",
   "execution_count": null,
   "metadata": {},
   "outputs": [],
   "source": []
  },
  {
   "cell_type": "markdown",
   "metadata": {},
   "source": [
    "### Top 10 hashtags.."
   ]
  },
  {
   "cell_type": "code",
   "execution_count": 473,
   "metadata": {},
   "outputs": [
    {
     "data": {
      "text/plain": [
       "<AxesSubplot:>"
      ]
     },
     "execution_count": 473,
     "metadata": {},
     "output_type": "execute_result"
    },
    {
     "data": {
      "image/png": "[encoded data removed]",
      "text/plain": [
       "<Figure size 432x288 with 1 Axes>"
      ]
     },
     "metadata": {
      "needs_background": "light"
     },
     "output_type": "display_data"
    }
   ],
   "source": [
    "hashtag_counts[1:11].plot(kind='bar')"
   ]
  },
  {
   "cell_type": "code",
   "execution_count": 474,
   "metadata": {},
   "outputs": [],
   "source": [
    "troll.to_csv(r'F:\\Data Analysis_projects\\Russian_tweets\\Updated_Data/tweets_updated_2.csv',index=False)"
   ]
  },
  {
   "cell_type": "code",
   "execution_count": 478,
   "metadata": {},
   "outputs": [],
   "source": [
    "hashtag_counts=hashtag_counts.reset_index()\n",
    "hashtag_counts.columns=['hashtags','count']"
   ]
  },
  {
   "cell_type": "code",
   "execution_count": 479,
   "metadata": {},
   "outputs": [],
   "source": [
    "hashtag_counts.to_csv(r'F:\\Data Analysis_projects\\Russian_tweets\\Updated_Data/hashtag_counts.csv',index=False)"
   ]
  },
  {
   "cell_type": "code",
   "execution_count": 480,
   "metadata": {},
   "outputs": [],
   "source": [
    "cleaned_hashtag.to_csv(r'F:\\Data Analysis_projects\\Russian_tweets\\Updated_Data/cleaned_hashtag.csv',index=False)"
   ]
  },
  {
   "cell_type": "raw",
   "metadata": {},
   "source": [
    "Looking at the top hashtags, we find that the most common hashtags in use -\n",
    "\n",
    "#TCOT\n",
    "#POLITICS\n",
    "#PJNET\n",
    "#MAGA\n",
    "#Trump\n",
    "are all in support of the current president's campaign! Looks like the trolls were mostly supporting his candidacy!\n",
    "\n",
    "Among the top 10 used hashtags, we see that #WAKEUPAMERICA, #NeverHillary, @HILLARY are against the candidacy but these have been used far fewer times than others!\n"
   ]
  },
  {
   "cell_type": "code",
   "execution_count": null,
   "metadata": {},
   "outputs": [],
   "source": []
  }
 ],
 "metadata": {
  "kernelspec": {
   "display_name": "Python 3",
   "language": "python",
   "name": "python3"
  },
  "language_info": {
   "codemirror_mode": {
    "name": "ipython",
    "version": 3
   },
   "file_extension": ".py",
   "mimetype": "text/x-python",
   "name": "python",
   "nbconvert_exporter": "python",
   "pygments_lexer": "ipython3",
   "version": "3.8.8"
  }
 },
 "nbformat": 4,
 "nbformat_minor": 2
}
